{
  "cells": [
    {
      "cell_type": "markdown",
      "metadata": {
        "id": "view-in-github",
        "colab_type": "text"
      },
      "source": [
        "<a href=\"https://colab.research.google.com/github/MarcinSaferna/SingleMolecue/blob/main/Excel4MS.ipynb\" target=\"_parent\"><img src=\"https://colab.research.google.com/assets/colab-badge.svg\" alt=\"Open In Colab\"/></a>"
      ]
    },
    {
      "cell_type": "code",
      "execution_count": 1,
      "metadata": {
        "colab": {
          "base_uri": "https://localhost:8080/"
        },
        "id": "647sNsjCJ0hX",
        "outputId": "5f7f060c-9ef3-4f62-f33c-01b2a29fc069"
      },
      "outputs": [
        {
          "output_type": "stream",
          "name": "stdout",
          "text": [
            "Requirement already satisfied: h5py in /usr/local/lib/python3.10/dist-packages (3.8.0)\n",
            "Requirement already satisfied: numpy>=1.14.5 in /usr/local/lib/python3.10/dist-packages (from h5py) (1.22.4)\n",
            "Requirement already satisfied: typing-extensions in /usr/local/lib/python3.10/dist-packages (4.7.1)\n",
            "Requirement already satisfied: wheel in /usr/local/lib/python3.10/dist-packages (0.41.0)\n"
          ]
        }
      ],
      "source": [
        "!pip install h5py\n",
        "!pip install typing-extensions\n",
        "!pip install wheel"
      ]
    },
    {
      "cell_type": "code",
      "execution_count": 2,
      "metadata": {
        "colab": {
          "base_uri": "https://localhost:8080/"
        },
        "id": "kq6qJdUqIWCQ",
        "outputId": "81c57d5a-46d6-4482-8fd2-23deb596f9a7"
      },
      "outputs": [
        {
          "output_type": "stream",
          "name": "stdout",
          "text": [
            "Collecting tensorflow==2.8\n",
            "  Downloading tensorflow-2.8.0-cp310-cp310-manylinux2010_x86_64.whl (497.6 MB)\n",
            "\u001b[2K     \u001b[90m━━━━━━━━━━━━━━━━━━━━━━━━━━━━━━━━━━━━━━━\u001b[0m \u001b[32m497.6/497.6 MB\u001b[0m \u001b[31m2.0 MB/s\u001b[0m eta \u001b[36m0:00:00\u001b[0m\n",
            "\u001b[?25hRequirement already satisfied: absl-py>=0.4.0 in /usr/local/lib/python3.10/dist-packages (from tensorflow==2.8) (1.4.0)\n",
            "Requirement already satisfied: astunparse>=1.6.0 in /usr/local/lib/python3.10/dist-packages (from tensorflow==2.8) (1.6.3)\n",
            "Requirement already satisfied: flatbuffers>=1.12 in /usr/local/lib/python3.10/dist-packages (from tensorflow==2.8) (23.5.26)\n",
            "Requirement already satisfied: gast>=0.2.1 in /usr/local/lib/python3.10/dist-packages (from tensorflow==2.8) (0.4.0)\n",
            "Requirement already satisfied: google-pasta>=0.1.1 in /usr/local/lib/python3.10/dist-packages (from tensorflow==2.8) (0.2.0)\n",
            "Requirement already satisfied: h5py>=2.9.0 in /usr/local/lib/python3.10/dist-packages (from tensorflow==2.8) (3.8.0)\n",
            "Collecting keras-preprocessing>=1.1.1 (from tensorflow==2.8)\n",
            "  Downloading Keras_Preprocessing-1.1.2-py2.py3-none-any.whl (42 kB)\n",
            "\u001b[2K     \u001b[90m━━━━━━━━━━━━━━━━━━━━━━━━━━━━━━━━━━━━━━━━\u001b[0m \u001b[32m42.6/42.6 kB\u001b[0m \u001b[31m3.9 MB/s\u001b[0m eta \u001b[36m0:00:00\u001b[0m\n",
            "\u001b[?25hRequirement already satisfied: libclang>=9.0.1 in /usr/local/lib/python3.10/dist-packages (from tensorflow==2.8) (16.0.6)\n",
            "Requirement already satisfied: numpy>=1.20 in /usr/local/lib/python3.10/dist-packages (from tensorflow==2.8) (1.22.4)\n",
            "Requirement already satisfied: opt-einsum>=2.3.2 in /usr/local/lib/python3.10/dist-packages (from tensorflow==2.8) (3.3.0)\n",
            "Requirement already satisfied: protobuf>=3.9.2 in /usr/local/lib/python3.10/dist-packages (from tensorflow==2.8) (3.20.3)\n",
            "Requirement already satisfied: setuptools in /usr/local/lib/python3.10/dist-packages (from tensorflow==2.8) (67.7.2)\n",
            "Requirement already satisfied: six>=1.12.0 in /usr/local/lib/python3.10/dist-packages (from tensorflow==2.8) (1.16.0)\n",
            "Requirement already satisfied: termcolor>=1.1.0 in /usr/local/lib/python3.10/dist-packages (from tensorflow==2.8) (2.3.0)\n",
            "Requirement already satisfied: typing-extensions>=3.6.6 in /usr/local/lib/python3.10/dist-packages (from tensorflow==2.8) (4.7.1)\n",
            "Requirement already satisfied: wrapt>=1.11.0 in /usr/local/lib/python3.10/dist-packages (from tensorflow==2.8) (1.14.1)\n",
            "Collecting tensorboard<2.9,>=2.8 (from tensorflow==2.8)\n",
            "  Downloading tensorboard-2.8.0-py3-none-any.whl (5.8 MB)\n",
            "\u001b[2K     \u001b[90m━━━━━━━━━━━━━━━━━━━━━━━━━━━━━━━━━━━━━━━━\u001b[0m \u001b[32m5.8/5.8 MB\u001b[0m \u001b[31m44.1 MB/s\u001b[0m eta \u001b[36m0:00:00\u001b[0m\n",
            "\u001b[?25hCollecting tf-estimator-nightly==2.8.0.dev2021122109 (from tensorflow==2.8)\n",
            "  Downloading tf_estimator_nightly-2.8.0.dev2021122109-py2.py3-none-any.whl (462 kB)\n",
            "\u001b[2K     \u001b[90m━━━━━━━━━━━━━━━━━━━━━━━━━━━━━━━━━━━━━━\u001b[0m \u001b[32m462.5/462.5 kB\u001b[0m \u001b[31m19.7 MB/s\u001b[0m eta \u001b[36m0:00:00\u001b[0m\n",
            "\u001b[?25hCollecting keras<2.9,>=2.8.0rc0 (from tensorflow==2.8)\n",
            "  Downloading keras-2.8.0-py2.py3-none-any.whl (1.4 MB)\n",
            "\u001b[2K     \u001b[90m━━━━━━━━━━━━━━━━━━━━━━━━━━━━━━━━━━━━━━━━\u001b[0m \u001b[32m1.4/1.4 MB\u001b[0m \u001b[31m38.4 MB/s\u001b[0m eta \u001b[36m0:00:00\u001b[0m\n",
            "\u001b[?25hRequirement already satisfied: tensorflow-io-gcs-filesystem>=0.23.1 in /usr/local/lib/python3.10/dist-packages (from tensorflow==2.8) (0.32.0)\n",
            "Requirement already satisfied: grpcio<2.0,>=1.24.3 in /usr/local/lib/python3.10/dist-packages (from tensorflow==2.8) (1.56.2)\n",
            "Requirement already satisfied: wheel<1.0,>=0.23.0 in /usr/local/lib/python3.10/dist-packages (from astunparse>=1.6.0->tensorflow==2.8) (0.41.0)\n",
            "Requirement already satisfied: google-auth<3,>=1.6.3 in /usr/local/lib/python3.10/dist-packages (from tensorboard<2.9,>=2.8->tensorflow==2.8) (2.17.3)\n",
            "Collecting google-auth-oauthlib<0.5,>=0.4.1 (from tensorboard<2.9,>=2.8->tensorflow==2.8)\n",
            "  Downloading google_auth_oauthlib-0.4.6-py2.py3-none-any.whl (18 kB)\n",
            "Requirement already satisfied: markdown>=2.6.8 in /usr/local/lib/python3.10/dist-packages (from tensorboard<2.9,>=2.8->tensorflow==2.8) (3.4.4)\n",
            "Requirement already satisfied: requests<3,>=2.21.0 in /usr/local/lib/python3.10/dist-packages (from tensorboard<2.9,>=2.8->tensorflow==2.8) (2.27.1)\n",
            "Collecting tensorboard-data-server<0.7.0,>=0.6.0 (from tensorboard<2.9,>=2.8->tensorflow==2.8)\n",
            "  Downloading tensorboard_data_server-0.6.1-py3-none-manylinux2010_x86_64.whl (4.9 MB)\n",
            "\u001b[2K     \u001b[90m━━━━━━━━━━━━━━━━━━━━━━━━━━━━━━━━━━━━━━━━\u001b[0m \u001b[32m4.9/4.9 MB\u001b[0m \u001b[31m30.1 MB/s\u001b[0m eta \u001b[36m0:00:00\u001b[0m\n",
            "\u001b[?25hCollecting tensorboard-plugin-wit>=1.6.0 (from tensorboard<2.9,>=2.8->tensorflow==2.8)\n",
            "  Downloading tensorboard_plugin_wit-1.8.1-py3-none-any.whl (781 kB)\n",
            "\u001b[2K     \u001b[90m━━━━━━━━━━━━━━━━━━━━━━━━━━━━━━━━━━━━━━\u001b[0m \u001b[32m781.3/781.3 kB\u001b[0m \u001b[31m29.6 MB/s\u001b[0m eta \u001b[36m0:00:00\u001b[0m\n",
            "\u001b[?25hRequirement already satisfied: werkzeug>=0.11.15 in /usr/local/lib/python3.10/dist-packages (from tensorboard<2.9,>=2.8->tensorflow==2.8) (2.3.6)\n",
            "Requirement already satisfied: cachetools<6.0,>=2.0.0 in /usr/local/lib/python3.10/dist-packages (from google-auth<3,>=1.6.3->tensorboard<2.9,>=2.8->tensorflow==2.8) (5.3.1)\n",
            "Requirement already satisfied: pyasn1-modules>=0.2.1 in /usr/local/lib/python3.10/dist-packages (from google-auth<3,>=1.6.3->tensorboard<2.9,>=2.8->tensorflow==2.8) (0.3.0)\n",
            "Requirement already satisfied: rsa<5,>=3.1.4 in /usr/local/lib/python3.10/dist-packages (from google-auth<3,>=1.6.3->tensorboard<2.9,>=2.8->tensorflow==2.8) (4.9)\n",
            "Requirement already satisfied: requests-oauthlib>=0.7.0 in /usr/local/lib/python3.10/dist-packages (from google-auth-oauthlib<0.5,>=0.4.1->tensorboard<2.9,>=2.8->tensorflow==2.8) (1.3.1)\n",
            "Requirement already satisfied: urllib3<1.27,>=1.21.1 in /usr/local/lib/python3.10/dist-packages (from requests<3,>=2.21.0->tensorboard<2.9,>=2.8->tensorflow==2.8) (1.26.16)\n",
            "Requirement already satisfied: certifi>=2017.4.17 in /usr/local/lib/python3.10/dist-packages (from requests<3,>=2.21.0->tensorboard<2.9,>=2.8->tensorflow==2.8) (2023.7.22)\n",
            "Requirement already satisfied: charset-normalizer~=2.0.0 in /usr/local/lib/python3.10/dist-packages (from requests<3,>=2.21.0->tensorboard<2.9,>=2.8->tensorflow==2.8) (2.0.12)\n",
            "Requirement already satisfied: idna<4,>=2.5 in /usr/local/lib/python3.10/dist-packages (from requests<3,>=2.21.0->tensorboard<2.9,>=2.8->tensorflow==2.8) (3.4)\n",
            "Requirement already satisfied: MarkupSafe>=2.1.1 in /usr/local/lib/python3.10/dist-packages (from werkzeug>=0.11.15->tensorboard<2.9,>=2.8->tensorflow==2.8) (2.1.3)\n",
            "Requirement already satisfied: pyasn1<0.6.0,>=0.4.6 in /usr/local/lib/python3.10/dist-packages (from pyasn1-modules>=0.2.1->google-auth<3,>=1.6.3->tensorboard<2.9,>=2.8->tensorflow==2.8) (0.5.0)\n",
            "Requirement already satisfied: oauthlib>=3.0.0 in /usr/local/lib/python3.10/dist-packages (from requests-oauthlib>=0.7.0->google-auth-oauthlib<0.5,>=0.4.1->tensorboard<2.9,>=2.8->tensorflow==2.8) (3.2.2)\n",
            "Installing collected packages: tf-estimator-nightly, tensorboard-plugin-wit, keras, tensorboard-data-server, keras-preprocessing, google-auth-oauthlib, tensorboard, tensorflow\n",
            "  Attempting uninstall: keras\n",
            "    Found existing installation: keras 2.12.0\n",
            "    Uninstalling keras-2.12.0:\n",
            "      Successfully uninstalled keras-2.12.0\n",
            "  Attempting uninstall: tensorboard-data-server\n",
            "    Found existing installation: tensorboard-data-server 0.7.1\n",
            "    Uninstalling tensorboard-data-server-0.7.1:\n",
            "      Successfully uninstalled tensorboard-data-server-0.7.1\n",
            "  Attempting uninstall: google-auth-oauthlib\n",
            "    Found existing installation: google-auth-oauthlib 1.0.0\n",
            "    Uninstalling google-auth-oauthlib-1.0.0:\n",
            "      Successfully uninstalled google-auth-oauthlib-1.0.0\n",
            "  Attempting uninstall: tensorboard\n",
            "    Found existing installation: tensorboard 2.12.3\n",
            "    Uninstalling tensorboard-2.12.3:\n",
            "      Successfully uninstalled tensorboard-2.12.3\n",
            "  Attempting uninstall: tensorflow\n",
            "    Found existing installation: tensorflow 2.12.0\n",
            "    Uninstalling tensorflow-2.12.0:\n",
            "      Successfully uninstalled tensorflow-2.12.0\n",
            "Successfully installed google-auth-oauthlib-0.4.6 keras-2.8.0 keras-preprocessing-1.1.2 tensorboard-2.8.0 tensorboard-data-server-0.6.1 tensorboard-plugin-wit-1.8.1 tensorflow-2.8.0 tf-estimator-nightly-2.8.0.dev2021122109\n"
          ]
        }
      ],
      "source": [
        "!pip install tensorflow==2.8"
      ]
    },
    {
      "cell_type": "code",
      "execution_count": 3,
      "metadata": {
        "colab": {
          "base_uri": "https://localhost:8080/",
          "height": 36
        },
        "id": "I0X9qkMXs_pp",
        "outputId": "6681d720-a183-4e54-9b5f-16861d681c92"
      },
      "outputs": [
        {
          "output_type": "execute_result",
          "data": {
            "text/plain": [
              "'2.8.0'"
            ],
            "application/vnd.google.colaboratory.intrinsic+json": {
              "type": "string"
            }
          },
          "metadata": {},
          "execution_count": 3
        }
      ],
      "source": [
        "import matplotlib.pyplot as plt\n",
        "import seaborn as sns\n",
        "import zipfile\n",
        "import numpy as np\n",
        "import cv2\n",
        "from google.colab.patches import cv2_imshow\n",
        "import tensorflow as tf\n",
        "from tensorflow.keras.callbacks import ReduceLROnPlateau\n",
        "from tensorflow.keras import regularizers\n",
        "from tensorflow.keras.callbacks import ModelCheckpoint, EarlyStopping\n",
        "from tensorflow.keras.models import Sequential\n",
        "from tensorflow.keras.layers import Conv2D, MaxPool2D, Flatten, Dense, BatchNormalization, Dropout\n",
        "from tensorflow.keras.preprocessing.image import ImageDataGenerator\n",
        "tf.__version__"
      ]
    },
    {
      "cell_type": "code",
      "execution_count": 4,
      "metadata": {
        "colab": {
          "base_uri": "https://localhost:8080/"
        },
        "id": "yQMOvsd99H-V",
        "outputId": "7cba049c-65be-470a-dd4f-64f7969c1379"
      },
      "outputs": [
        {
          "output_type": "stream",
          "name": "stdout",
          "text": [
            "Mounted at /content/drive\n"
          ]
        }
      ],
      "source": [
        "from google.colab import drive\n",
        "drive.mount('/content/drive')"
      ]
    },
    {
      "cell_type": "code",
      "execution_count": 5,
      "metadata": {
        "id": "Y_BgiI3JxA9q"
      },
      "outputs": [],
      "source": [
        "path = '/content/drive/MyDrive/praktyki/rawDataSingleMolecule/gotowe.zip'\n",
        "zip_object = zipfile.ZipFile(file=path, mode='r')\n",
        "zip_object.extractall('./')\n",
        "zip_object.close()"
      ]
    },
    {
      "cell_type": "code",
      "execution_count": 6,
      "metadata": {
        "id": "7-PhxwM60uM7"
      },
      "outputs": [],
      "source": [
        "training_generator = ImageDataGenerator(rescale=1./255,\n",
        "                                        horizontal_flip=True,\n",
        "                                        vertical_flip=True)\n"
      ]
    },
    {
      "cell_type": "code",
      "execution_count": 7,
      "metadata": {
        "colab": {
          "base_uri": "https://localhost:8080/"
        },
        "id": "jMErkkVv_mXw",
        "outputId": "19ba6514-b96f-45b7-d81c-2a2cb0431181"
      },
      "outputs": [
        {
          "output_type": "stream",
          "name": "stdout",
          "text": [
            "Found 11158 images belonging to 7 classes.\n"
          ]
        }
      ],
      "source": [
        "train_dataset = training_generator.flow_from_directory('/content/gotowe/train_set',\n",
        "                                                       target_size = (100, 100),\n",
        "                                                       batch_size = 10,\n",
        "                                                       color_mode='rgb',\n",
        "                                                       class_mode = 'categorical',\n",
        "                                                       shuffle = True)"
      ]
    },
    {
      "cell_type": "code",
      "execution_count": 8,
      "metadata": {
        "colab": {
          "base_uri": "https://localhost:8080/"
        },
        "id": "C4errPxfAukM",
        "outputId": "6308e8c3-3ddd-49e1-fa72-0a497412b3ff"
      },
      "outputs": [
        {
          "output_type": "execute_result",
          "data": {
            "text/plain": [
              "array([0, 0, 0, ..., 6, 6, 6], dtype=int32)"
            ]
          },
          "metadata": {},
          "execution_count": 8
        }
      ],
      "source": [
        "train_dataset.classes"
      ]
    },
    {
      "cell_type": "code",
      "execution_count": 9,
      "metadata": {
        "colab": {
          "base_uri": "https://localhost:8080/"
        },
        "id": "jYCiD3adA5xf",
        "outputId": "94c68c99-b5d5-4555-d298-9501b9fb6263"
      },
      "outputs": [
        {
          "output_type": "execute_result",
          "data": {
            "text/plain": [
              "{'nematyk': 0,\n",
              " 'smektyk_C': 1,\n",
              " 'smektyk_F': 2,\n",
              " 'smektyk_GMosaic': 3,\n",
              " 'smektyk_GSchliren': 4,\n",
              " 'smektyk_H': 5,\n",
              " 'smektyk_I': 6}"
            ]
          },
          "metadata": {},
          "execution_count": 9
        }
      ],
      "source": [
        "train_dataset.class_indices"
      ]
    },
    {
      "cell_type": "code",
      "execution_count": 10,
      "metadata": {
        "id": "6VK7xyH-BkSq"
      },
      "outputs": [],
      "source": [
        "test_generator = ImageDataGenerator(rescale=1./255)\n",
        "val_generator = ImageDataGenerator(rescale=1./255)"
      ]
    },
    {
      "cell_type": "code",
      "execution_count": 11,
      "metadata": {
        "colab": {
          "base_uri": "https://localhost:8080/"
        },
        "id": "84kKwMy6U7oh",
        "outputId": "57b42a74-1982-46d4-f935-42dbd9d247c0"
      },
      "outputs": [
        {
          "output_type": "stream",
          "name": "stdout",
          "text": [
            "Found 1395 images belonging to 7 classes.\n"
          ]
        }
      ],
      "source": [
        "validation_dataset = val_generator.flow_from_directory('/content/gotowe/val_set',\n",
        "                                                        target_size=(100, 100),\n",
        "                                                        batch_size=1,\n",
        "                                                        class_mode='categorical',\n",
        "                                                        color_mode='rgb',\n",
        "                                                        shuffle=True) # set as validation data"
      ]
    },
    {
      "cell_type": "code",
      "execution_count": 12,
      "metadata": {
        "id": "PB2pU5bzXPTa"
      },
      "outputs": [],
      "source": [
        "L2 = 0.00001"
      ]
    },
    {
      "cell_type": "code",
      "execution_count": 13,
      "metadata": {
        "colab": {
          "base_uri": "https://localhost:8080/"
        },
        "id": "SdqIBmxiBvU1",
        "outputId": "34a76bf8-a57a-4985-9cc5-1451d4d44e4f"
      },
      "outputs": [
        {
          "output_type": "stream",
          "name": "stdout",
          "text": [
            "Found 1396 images belonging to 7 classes.\n"
          ]
        }
      ],
      "source": [
        "test_datatset = test_generator.flow_from_directory('/content/gotowe/test_set',\n",
        "                                                   target_size = (100, 100),\n",
        "                                                   batch_size = 1,\n",
        "                                                   color_mode='rgb',\n",
        "                                                   class_mode = 'categorical',\n",
        "                                                   shuffle = False)"
      ]
    },
    {
      "cell_type": "code",
      "execution_count": 14,
      "metadata": {
        "id": "xVLgf1bADs_C"
      },
      "outputs": [],
      "source": [
        "initializer1 = tf.keras.initializers.HeNormal()\n",
        "initializer2 = tf.keras.initializers.GlorotUniform()"
      ]
    },
    {
      "cell_type": "code",
      "execution_count": 80,
      "metadata": {
        "colab": {
          "base_uri": "https://localhost:8080/"
        },
        "id": "QTr7SiKfD6UI",
        "outputId": "a18dd38f-f7b7-4d62-fa1c-c374043f2203"
      },
      "outputs": [
        {
          "output_type": "stream",
          "name": "stdout",
          "text": [
            "Model: \"sequential_5\"\n",
            "_________________________________________________________________\n",
            " Layer (type)                Output Shape              Param #   \n",
            "=================================================================\n",
            " conv2d_44 (Conv2D)          (None, 98, 98, 16)        448       \n",
            "                                                                 \n",
            " batch_normalization_52 (Bat  (None, 98, 98, 16)       64        \n",
            " chNormalization)                                                \n",
            "                                                                 \n",
            " max_pooling2d_27 (MaxPoolin  (None, 49, 49, 16)       0         \n",
            " g2D)                                                            \n",
            "                                                                 \n",
            " conv2d_45 (Conv2D)          (None, 49, 49, 32)        4640      \n",
            "                                                                 \n",
            " conv2d_46 (Conv2D)          (None, 49, 49, 32)        9248      \n",
            "                                                                 \n",
            " conv2d_47 (Conv2D)          (None, 49, 49, 32)        9248      \n",
            "                                                                 \n",
            " batch_normalization_53 (Bat  (None, 49, 49, 32)       128       \n",
            " chNormalization)                                                \n",
            "                                                                 \n",
            " max_pooling2d_28 (MaxPoolin  (None, 24, 24, 32)       0         \n",
            " g2D)                                                            \n",
            "                                                                 \n",
            " conv2d_48 (Conv2D)          (None, 24, 24, 64)        18496     \n",
            "                                                                 \n",
            " batch_normalization_54 (Bat  (None, 24, 24, 64)       256       \n",
            " chNormalization)                                                \n",
            "                                                                 \n",
            " max_pooling2d_29 (MaxPoolin  (None, 12, 12, 64)       0         \n",
            " g2D)                                                            \n",
            "                                                                 \n",
            " conv2d_49 (Conv2D)          (None, 12, 12, 128)       73856     \n",
            "                                                                 \n",
            " conv2d_50 (Conv2D)          (None, 12, 12, 128)       147584    \n",
            "                                                                 \n",
            " conv2d_51 (Conv2D)          (None, 12, 12, 128)       147584    \n",
            "                                                                 \n",
            " batch_normalization_55 (Bat  (None, 12, 12, 128)      512       \n",
            " chNormalization)                                                \n",
            "                                                                 \n",
            " max_pooling2d_30 (MaxPoolin  (None, 6, 6, 128)        0         \n",
            " g2D)                                                            \n",
            "                                                                 \n",
            " conv2d_52 (Conv2D)          (None, 6, 6, 256)         33024     \n",
            "                                                                 \n",
            " conv2d_53 (Conv2D)          (None, 6, 6, 256)         65792     \n",
            "                                                                 \n",
            " conv2d_54 (Conv2D)          (None, 6, 6, 256)         65792     \n",
            "                                                                 \n",
            " batch_normalization_56 (Bat  (None, 6, 6, 256)        1024      \n",
            " chNormalization)                                                \n",
            "                                                                 \n",
            " max_pooling2d_31 (MaxPoolin  (None, 3, 3, 256)        0         \n",
            " g2D)                                                            \n",
            "                                                                 \n",
            " flatten_5 (Flatten)         (None, 2304)              0         \n",
            "                                                                 \n",
            " dropout_5 (Dropout)         (None, 2304)              0         \n",
            "                                                                 \n",
            " dense_30 (Dense)            (None, 512)               1180160   \n",
            "                                                                 \n",
            " batch_normalization_57 (Bat  (None, 512)              2048      \n",
            " chNormalization)                                                \n",
            "                                                                 \n",
            " dense_31 (Dense)            (None, 256)               131328    \n",
            "                                                                 \n",
            " batch_normalization_58 (Bat  (None, 256)              1024      \n",
            " chNormalization)                                                \n",
            "                                                                 \n",
            " dense_32 (Dense)            (None, 16)                4112      \n",
            "                                                                 \n",
            " batch_normalization_59 (Bat  (None, 16)               64        \n",
            " chNormalization)                                                \n",
            "                                                                 \n",
            " dense_33 (Dense)            (None, 7)                 119       \n",
            "                                                                 \n",
            "=================================================================\n",
            "Total params: 1,896,551\n",
            "Trainable params: 1,893,991\n",
            "Non-trainable params: 2,560\n",
            "_________________________________________________________________\n"
          ]
        }
      ],
      "source": [
        "network = Sequential()\n",
        "network.add(Conv2D(filters=16, kernel_size=(3,3), activation = 'relu', input_shape = (100,100,3), kernel_initializer=initializer1))\n",
        "#network.add(Conv2D(filters=16, kernel_size=(3,3), activation = 'relu', padding='same', kernel_initializer=initializer1))\n",
        "#network.add(Conv2D(filters=16, kernel_size=(3,3), activation = 'relu', padding='same', kernel_initializer=initializer1))\n",
        "network.add(BatchNormalization())\n",
        "network.add(MaxPool2D(pool_size=(2,2)))\n",
        "\n",
        "network.add(Conv2D(filters=32, kernel_size=(3,3), activation = 'relu', padding='same', kernel_initializer=initializer1))\n",
        "network.add(Conv2D(filters=32, kernel_size=(3,3), activation = 'relu', padding='same', kernel_initializer=initializer1))\n",
        "network.add(Conv2D(filters=32, kernel_size=(3,3), activation = 'relu', padding='same', kernel_initializer=initializer1))\n",
        "network.add(BatchNormalization())\n",
        "network.add(MaxPool2D(pool_size=(2,2)))\n",
        "\n",
        "\n",
        "network.add(Conv2D(filters=64, kernel_size=(3,3), activation = 'relu', padding='same', kernel_initializer=initializer1))\n",
        "#network.add(Conv2D(filters=64, kernel_size=(3,3), activation = 'relu', padding='same', kernel_initializer=initializer1))\n",
        "network.add(BatchNormalization())\n",
        "network.add(MaxPool2D(pool_size=(2,2)))\n",
        "\n",
        "network.add(Conv2D(filters=128, kernel_size=(3,3), activation = 'relu', padding='same', kernel_initializer=initializer1))\n",
        "network.add(Conv2D(filters=128, kernel_size=(3,3), activation = 'relu', padding='same', kernel_initializer=initializer1))\n",
        "network.add(Conv2D(filters=128, kernel_size=(3,3), activation = 'relu', padding='same', kernel_initializer=initializer1))\n",
        "network.add(BatchNormalization())\n",
        "network.add(MaxPool2D(pool_size=(2,2)))\n",
        "\n",
        "network.add(Conv2D(filters=256, kernel_size=(1,1), activation = 'relu', padding='same', kernel_initializer=initializer1))\n",
        "network.add(Conv2D(filters=256, kernel_size=(1,1), activation = 'relu', padding='same', kernel_initializer=initializer1))\n",
        "network.add(Conv2D(filters=256, kernel_size=(1,1), activation = 'relu', padding='same', kernel_initializer=initializer1))\n",
        "network.add(BatchNormalization())\n",
        "network.add(MaxPool2D(pool_size=(2,2)))\n",
        "\n",
        "#network.add(Conv2D(filters=512, kernel_size=(1,1), activation = 'relu', padding='same', kernel_initializer=initializer1))\n",
        "#network.add(Conv2D(filters=512, kernel_size=(1,1), activation = 'relu', padding='same', kernel_initializer=initializer1))\n",
        "#network.add(BatchNormalization())\n",
        "#network.add(MaxPool2D(pool_size=(2,2)))\n",
        "\n",
        "network.add(Flatten())\n",
        "\n",
        "network.add(Dropout(0.03))\n",
        "network.add(Dense(units = 512, activation = 'relu', kernel_initializer=initializer1))\n",
        "network.add(BatchNormalization())\n",
        "network.add(Dense(units = 256, activation = 'relu', kernel_initializer=initializer1))\n",
        "network.add(BatchNormalization())\n",
        "#network.add(Dense(units = 128, activation = 'relu', kernel_initializer=initializer1))\n",
        "#network.add(BatchNormalization())\n",
        "#network.add(Dense(units = 64, activation = 'relu', kernel_initializer=initializer1))\n",
        "#network.add(BatchNormalization())\n",
        "#network.add(Dense(units = 32, activation = 'relu', kernel_initializer=initializer1))\n",
        "#network.add(BatchNormalization())\n",
        "network.add(Dense(units = 16, activation = 'relu', kernel_initializer=initializer1, kernel_regularizer=tf.keras.regularizers.L1L2()))\n",
        "network.add(BatchNormalization())\n",
        "network.add(Dense(units = 7, activation = 'softmax', kernel_initializer=initializer2))\n",
        "network.summary()"
      ]
    },
    {
      "cell_type": "code",
      "execution_count": 81,
      "metadata": {
        "id": "6viOH_kUE4Bq"
      },
      "outputs": [],
      "source": [
        "from tensorflow.keras.optimizers import Adam\n",
        "#opt = Adam(lr=0.005)\n",
        "opt = Adam()\n",
        "network.compile(optimizer='Adam', loss='categorical_crossentropy', metrics = ['accuracy'])\n"
      ]
    },
    {
      "cell_type": "code",
      "execution_count": 82,
      "metadata": {
        "id": "5IXmjfYmbuYh"
      },
      "outputs": [],
      "source": [
        "es = EarlyStopping(monitor = 'val_accuracy', min_delta = 0.001, patience = 20, verbose =1)\n",
        "model_cp = ModelCheckpoint(filepath = 'best_model1.h5', monitor = 'val_accuracy', save_best_only = True, verbose = 1)\n",
        "learning_rate_reduction = ReduceLROnPlateau(monitor='val_accuracy', patience = 5, verbose=1, factor=0.5, min_lr=0.00001)"
      ]
    },
    {
      "cell_type": "code",
      "execution_count": 83,
      "metadata": {
        "colab": {
          "base_uri": "https://localhost:8080/"
        },
        "id": "Uk8BSV5gGazz",
        "outputId": "8dca2377-9898-4951-878d-751a9d13de66"
      },
      "outputs": [
        {
          "output_type": "stream",
          "name": "stdout",
          "text": [
            "Epoch 1/100\n"
          ]
        },
        {
          "output_type": "stream",
          "name": "stderr",
          "text": [
            "<ipython-input-83-d45876fe1552>:1: UserWarning: `Model.fit_generator` is deprecated and will be removed in a future version. Please use `Model.fit`, which supports generators.\n",
            "  history = network.fit_generator(train_dataset,\n"
          ]
        },
        {
          "output_type": "stream",
          "name": "stdout",
          "text": [
            "50/50 [==============================] - ETA: 0s - loss: 1.7769 - accuracy: 0.3060\n",
            "Epoch 1: val_accuracy improved from -inf to 0.08000, saving model to best_model1.h5\n",
            "50/50 [==============================] - 24s 454ms/step - loss: 1.7769 - accuracy: 0.3060 - val_loss: 6.5724 - val_accuracy: 0.0800 - lr: 0.0010\n",
            "Epoch 2/100\n",
            "50/50 [==============================] - ETA: 0s - loss: 1.5160 - accuracy: 0.4260\n",
            "Epoch 2: val_accuracy improved from 0.08000 to 0.40000, saving model to best_model1.h5\n",
            "50/50 [==============================] - 24s 482ms/step - loss: 1.5160 - accuracy: 0.4260 - val_loss: 1.8838 - val_accuracy: 0.4000 - lr: 0.0010\n",
            "Epoch 3/100\n",
            "50/50 [==============================] - ETA: 0s - loss: 1.2807 - accuracy: 0.5400\n",
            "Epoch 3: val_accuracy did not improve from 0.40000\n",
            "50/50 [==============================] - 23s 456ms/step - loss: 1.2807 - accuracy: 0.5400 - val_loss: 2.1093 - val_accuracy: 0.1800 - lr: 0.0010\n",
            "Epoch 4/100\n",
            "50/50 [==============================] - ETA: 0s - loss: 1.1524 - accuracy: 0.6080\n",
            "Epoch 4: val_accuracy did not improve from 0.40000\n",
            "50/50 [==============================] - 22s 437ms/step - loss: 1.1524 - accuracy: 0.6080 - val_loss: 2.3107 - val_accuracy: 0.0800 - lr: 0.0010\n",
            "Epoch 5/100\n",
            "50/50 [==============================] - ETA: 0s - loss: 1.1310 - accuracy: 0.5980\n",
            "Epoch 5: val_accuracy did not improve from 0.40000\n",
            "50/50 [==============================] - 23s 465ms/step - loss: 1.1310 - accuracy: 0.5980 - val_loss: 2.0894 - val_accuracy: 0.3400 - lr: 0.0010\n",
            "Epoch 6/100\n",
            "50/50 [==============================] - ETA: 0s - loss: 1.1408 - accuracy: 0.5920\n",
            "Epoch 6: val_accuracy did not improve from 0.40000\n",
            "50/50 [==============================] - 21s 422ms/step - loss: 1.1408 - accuracy: 0.5920 - val_loss: 1.6707 - val_accuracy: 0.3000 - lr: 0.0010\n",
            "Epoch 7/100\n",
            "50/50 [==============================] - ETA: 0s - loss: 1.1177 - accuracy: 0.6020\n",
            "Epoch 7: val_accuracy improved from 0.40000 to 0.60000, saving model to best_model1.h5\n",
            "50/50 [==============================] - 21s 424ms/step - loss: 1.1177 - accuracy: 0.6020 - val_loss: 1.2079 - val_accuracy: 0.6000 - lr: 0.0010\n",
            "Epoch 8/100\n",
            "50/50 [==============================] - ETA: 0s - loss: 1.1400 - accuracy: 0.5820\n",
            "Epoch 8: val_accuracy improved from 0.60000 to 0.72000, saving model to best_model1.h5\n",
            "50/50 [==============================] - 21s 430ms/step - loss: 1.1400 - accuracy: 0.5820 - val_loss: 0.8575 - val_accuracy: 0.7200 - lr: 0.0010\n",
            "Epoch 9/100\n",
            "50/50 [==============================] - ETA: 0s - loss: 1.0617 - accuracy: 0.6220\n",
            "Epoch 9: val_accuracy did not improve from 0.72000\n",
            "50/50 [==============================] - 21s 424ms/step - loss: 1.0617 - accuracy: 0.6220 - val_loss: 0.9216 - val_accuracy: 0.6200 - lr: 0.0010\n",
            "Epoch 10/100\n",
            "50/50 [==============================] - ETA: 0s - loss: 1.0039 - accuracy: 0.6620\n",
            "Epoch 10: val_accuracy did not improve from 0.72000\n",
            "50/50 [==============================] - 21s 425ms/step - loss: 1.0039 - accuracy: 0.6620 - val_loss: 0.9222 - val_accuracy: 0.7000 - lr: 0.0010\n",
            "Epoch 11/100\n",
            "50/50 [==============================] - ETA: 0s - loss: 0.9610 - accuracy: 0.6680\n",
            "Epoch 11: val_accuracy improved from 0.72000 to 0.74000, saving model to best_model1.h5\n",
            "50/50 [==============================] - 22s 432ms/step - loss: 0.9610 - accuracy: 0.6680 - val_loss: 0.8113 - val_accuracy: 0.7400 - lr: 0.0010\n",
            "Epoch 12/100\n",
            "50/50 [==============================] - ETA: 0s - loss: 1.0627 - accuracy: 0.5820\n",
            "Epoch 12: val_accuracy did not improve from 0.74000\n",
            "50/50 [==============================] - 21s 428ms/step - loss: 1.0627 - accuracy: 0.5820 - val_loss: 0.8918 - val_accuracy: 0.6600 - lr: 0.0010\n",
            "Epoch 13/100\n",
            "50/50 [==============================] - ETA: 0s - loss: 0.9957 - accuracy: 0.6520\n",
            "Epoch 13: val_accuracy did not improve from 0.74000\n",
            "50/50 [==============================] - 22s 428ms/step - loss: 0.9957 - accuracy: 0.6520 - val_loss: 1.0490 - val_accuracy: 0.6000 - lr: 0.0010\n",
            "Epoch 14/100\n",
            "50/50 [==============================] - ETA: 0s - loss: 0.9693 - accuracy: 0.6680\n",
            "Epoch 14: val_accuracy did not improve from 0.74000\n",
            "50/50 [==============================] - 21s 423ms/step - loss: 0.9693 - accuracy: 0.6680 - val_loss: 1.1312 - val_accuracy: 0.5000 - lr: 0.0010\n",
            "Epoch 15/100\n",
            "50/50 [==============================] - ETA: 0s - loss: 1.0397 - accuracy: 0.6340\n",
            "Epoch 15: val_accuracy did not improve from 0.74000\n",
            "50/50 [==============================] - 21s 422ms/step - loss: 1.0397 - accuracy: 0.6340 - val_loss: 0.6997 - val_accuracy: 0.7400 - lr: 0.0010\n",
            "Epoch 16/100\n",
            "50/50 [==============================] - ETA: 0s - loss: 1.0060 - accuracy: 0.6300\n",
            "Epoch 16: val_accuracy did not improve from 0.74000\n",
            "\n",
            "Epoch 16: ReduceLROnPlateau reducing learning rate to 0.0005000000237487257.\n",
            "50/50 [==============================] - 21s 423ms/step - loss: 1.0060 - accuracy: 0.6300 - val_loss: 1.0821 - val_accuracy: 0.7000 - lr: 0.0010\n",
            "Epoch 17/100\n",
            "50/50 [==============================] - ETA: 0s - loss: 0.9592 - accuracy: 0.6660\n",
            "Epoch 17: val_accuracy improved from 0.74000 to 0.78000, saving model to best_model1.h5\n",
            "50/50 [==============================] - 24s 468ms/step - loss: 0.9592 - accuracy: 0.6660 - val_loss: 0.6093 - val_accuracy: 0.7800 - lr: 5.0000e-04\n",
            "Epoch 18/100\n",
            "50/50 [==============================] - ETA: 0s - loss: 0.8567 - accuracy: 0.6940\n",
            "Epoch 18: val_accuracy did not improve from 0.78000\n",
            "50/50 [==============================] - 21s 419ms/step - loss: 0.8567 - accuracy: 0.6940 - val_loss: 0.6069 - val_accuracy: 0.7200 - lr: 5.0000e-04\n",
            "Epoch 19/100\n",
            "50/50 [==============================] - ETA: 0s - loss: 0.8542 - accuracy: 0.6920\n",
            "Epoch 19: val_accuracy did not improve from 0.78000\n",
            "50/50 [==============================] - 21s 422ms/step - loss: 0.8542 - accuracy: 0.6920 - val_loss: 0.7372 - val_accuracy: 0.7200 - lr: 5.0000e-04\n",
            "Epoch 20/100\n",
            "50/50 [==============================] - ETA: 0s - loss: 0.8602 - accuracy: 0.6840\n",
            "Epoch 20: val_accuracy improved from 0.78000 to 0.80000, saving model to best_model1.h5\n",
            "50/50 [==============================] - 21s 427ms/step - loss: 0.8602 - accuracy: 0.6840 - val_loss: 0.6202 - val_accuracy: 0.8000 - lr: 5.0000e-04\n",
            "Epoch 21/100\n",
            "50/50 [==============================] - ETA: 0s - loss: 0.9280 - accuracy: 0.6780\n",
            "Epoch 21: val_accuracy improved from 0.80000 to 0.84000, saving model to best_model1.h5\n",
            "50/50 [==============================] - 23s 455ms/step - loss: 0.9280 - accuracy: 0.6780 - val_loss: 0.6260 - val_accuracy: 0.8400 - lr: 5.0000e-04\n",
            "Epoch 22/100\n",
            "50/50 [==============================] - ETA: 0s - loss: 0.8270 - accuracy: 0.7260\n",
            "Epoch 22: val_accuracy did not improve from 0.84000\n",
            "50/50 [==============================] - 23s 465ms/step - loss: 0.8270 - accuracy: 0.7260 - val_loss: 0.6320 - val_accuracy: 0.8200 - lr: 5.0000e-04\n",
            "Epoch 23/100\n",
            "50/50 [==============================] - ETA: 0s - loss: 0.7769 - accuracy: 0.7300\n",
            "Epoch 23: val_accuracy did not improve from 0.84000\n",
            "50/50 [==============================] - 21s 427ms/step - loss: 0.7769 - accuracy: 0.7300 - val_loss: 0.6770 - val_accuracy: 0.7600 - lr: 5.0000e-04\n",
            "Epoch 24/100\n",
            "50/50 [==============================] - ETA: 0s - loss: 0.7806 - accuracy: 0.7140\n",
            "Epoch 24: val_accuracy did not improve from 0.84000\n",
            "50/50 [==============================] - 22s 437ms/step - loss: 0.7806 - accuracy: 0.7140 - val_loss: 0.5376 - val_accuracy: 0.8400 - lr: 5.0000e-04\n",
            "Epoch 25/100\n",
            "50/50 [==============================] - ETA: 0s - loss: 0.8766 - accuracy: 0.7000\n",
            "Epoch 25: val_accuracy did not improve from 0.84000\n",
            "50/50 [==============================] - 23s 454ms/step - loss: 0.8766 - accuracy: 0.7000 - val_loss: 0.5853 - val_accuracy: 0.7400 - lr: 5.0000e-04\n",
            "Epoch 26/100\n",
            "50/50 [==============================] - ETA: 0s - loss: 0.8581 - accuracy: 0.6840\n",
            "Epoch 26: val_accuracy did not improve from 0.84000\n",
            "\n",
            "Epoch 26: ReduceLROnPlateau reducing learning rate to 0.0002500000118743628.\n",
            "50/50 [==============================] - 21s 427ms/step - loss: 0.8581 - accuracy: 0.6840 - val_loss: 0.6770 - val_accuracy: 0.8000 - lr: 5.0000e-04\n",
            "Epoch 27/100\n",
            "50/50 [==============================] - ETA: 0s - loss: 0.8160 - accuracy: 0.7200\n",
            "Epoch 27: val_accuracy did not improve from 0.84000\n",
            "50/50 [==============================] - 23s 461ms/step - loss: 0.8160 - accuracy: 0.7200 - val_loss: 0.6657 - val_accuracy: 0.7400 - lr: 2.5000e-04\n",
            "Epoch 28/100\n",
            "50/50 [==============================] - ETA: 0s - loss: 0.7408 - accuracy: 0.7380\n",
            "Epoch 28: val_accuracy did not improve from 0.84000\n",
            "50/50 [==============================] - 21s 421ms/step - loss: 0.7408 - accuracy: 0.7380 - val_loss: 0.6446 - val_accuracy: 0.8000 - lr: 2.5000e-04\n",
            "Epoch 29/100\n",
            "50/50 [==============================] - ETA: 0s - loss: 0.8111 - accuracy: 0.7140\n",
            "Epoch 29: val_accuracy did not improve from 0.84000\n",
            "50/50 [==============================] - 22s 438ms/step - loss: 0.8111 - accuracy: 0.7140 - val_loss: 0.5170 - val_accuracy: 0.8200 - lr: 2.5000e-04\n",
            "Epoch 30/100\n",
            "50/50 [==============================] - ETA: 0s - loss: 0.8349 - accuracy: 0.7020\n",
            "Epoch 30: val_accuracy did not improve from 0.84000\n",
            "50/50 [==============================] - 21s 429ms/step - loss: 0.8349 - accuracy: 0.7020 - val_loss: 0.6689 - val_accuracy: 0.7800 - lr: 2.5000e-04\n",
            "Epoch 31/100\n",
            "50/50 [==============================] - ETA: 0s - loss: 0.7437 - accuracy: 0.7300\n",
            "Epoch 31: val_accuracy did not improve from 0.84000\n",
            "\n",
            "Epoch 31: ReduceLROnPlateau reducing learning rate to 0.0001250000059371814.\n",
            "50/50 [==============================] - 22s 443ms/step - loss: 0.7437 - accuracy: 0.7300 - val_loss: 0.5278 - val_accuracy: 0.8200 - lr: 2.5000e-04\n",
            "Epoch 32/100\n",
            "50/50 [==============================] - ETA: 0s - loss: 0.7608 - accuracy: 0.7280\n",
            "Epoch 32: val_accuracy improved from 0.84000 to 0.86000, saving model to best_model1.h5\n",
            "50/50 [==============================] - 22s 433ms/step - loss: 0.7608 - accuracy: 0.7280 - val_loss: 0.4412 - val_accuracy: 0.8600 - lr: 1.2500e-04\n",
            "Epoch 33/100\n",
            "50/50 [==============================] - ETA: 0s - loss: 0.6323 - accuracy: 0.7760\n",
            "Epoch 33: val_accuracy did not improve from 0.86000\n",
            "50/50 [==============================] - 21s 428ms/step - loss: 0.6323 - accuracy: 0.7760 - val_loss: 0.5631 - val_accuracy: 0.8000 - lr: 1.2500e-04\n",
            "Epoch 34/100\n",
            "50/50 [==============================] - ETA: 0s - loss: 0.7429 - accuracy: 0.7440\n",
            "Epoch 34: val_accuracy did not improve from 0.86000\n",
            "50/50 [==============================] - 23s 465ms/step - loss: 0.7429 - accuracy: 0.7440 - val_loss: 0.5729 - val_accuracy: 0.8400 - lr: 1.2500e-04\n",
            "Epoch 35/100\n",
            "50/50 [==============================] - ETA: 0s - loss: 0.7018 - accuracy: 0.7460\n",
            "Epoch 35: val_accuracy improved from 0.86000 to 0.88000, saving model to best_model1.h5\n",
            "50/50 [==============================] - 23s 453ms/step - loss: 0.7018 - accuracy: 0.7460 - val_loss: 0.4583 - val_accuracy: 0.8800 - lr: 1.2500e-04\n",
            "Epoch 36/100\n",
            "50/50 [==============================] - ETA: 0s - loss: 0.6831 - accuracy: 0.7480\n",
            "Epoch 36: val_accuracy did not improve from 0.88000\n",
            "50/50 [==============================] - 21s 422ms/step - loss: 0.6831 - accuracy: 0.7480 - val_loss: 0.6477 - val_accuracy: 0.8600 - lr: 1.2500e-04\n",
            "Epoch 37/100\n",
            "50/50 [==============================] - ETA: 0s - loss: 0.7932 - accuracy: 0.7460\n",
            "Epoch 37: val_accuracy did not improve from 0.88000\n",
            "50/50 [==============================] - 21s 419ms/step - loss: 0.7932 - accuracy: 0.7460 - val_loss: 0.6754 - val_accuracy: 0.7600 - lr: 1.2500e-04\n",
            "Epoch 38/100\n",
            "50/50 [==============================] - ETA: 0s - loss: 0.7858 - accuracy: 0.7300\n",
            "Epoch 38: val_accuracy did not improve from 0.88000\n",
            "50/50 [==============================] - 21s 422ms/step - loss: 0.7858 - accuracy: 0.7300 - val_loss: 0.7366 - val_accuracy: 0.7600 - lr: 1.2500e-04\n",
            "Epoch 39/100\n",
            "50/50 [==============================] - ETA: 0s - loss: 0.7467 - accuracy: 0.7480\n",
            "Epoch 39: val_accuracy improved from 0.88000 to 0.90000, saving model to best_model1.h5\n",
            "50/50 [==============================] - 21s 427ms/step - loss: 0.7467 - accuracy: 0.7480 - val_loss: 0.4585 - val_accuracy: 0.9000 - lr: 1.2500e-04\n",
            "Epoch 40/100\n",
            "50/50 [==============================] - ETA: 0s - loss: 0.6853 - accuracy: 0.7440\n",
            "Epoch 40: val_accuracy did not improve from 0.90000\n",
            "50/50 [==============================] - 21s 427ms/step - loss: 0.6853 - accuracy: 0.7440 - val_loss: 0.5540 - val_accuracy: 0.8200 - lr: 1.2500e-04\n",
            "Epoch 41/100\n",
            "50/50 [==============================] - ETA: 0s - loss: 0.6948 - accuracy: 0.7560\n",
            "Epoch 41: val_accuracy did not improve from 0.90000\n",
            "50/50 [==============================] - 22s 429ms/step - loss: 0.6948 - accuracy: 0.7560 - val_loss: 0.4815 - val_accuracy: 0.7800 - lr: 1.2500e-04\n",
            "Epoch 42/100\n",
            "50/50 [==============================] - ETA: 0s - loss: 0.7327 - accuracy: 0.7520\n",
            "Epoch 42: val_accuracy did not improve from 0.90000\n",
            "50/50 [==============================] - 21s 421ms/step - loss: 0.7327 - accuracy: 0.7520 - val_loss: 0.6023 - val_accuracy: 0.8000 - lr: 1.2500e-04\n",
            "Epoch 43/100\n",
            "50/50 [==============================] - ETA: 0s - loss: 0.7200 - accuracy: 0.7540\n",
            "Epoch 43: val_accuracy did not improve from 0.90000\n",
            "50/50 [==============================] - 21s 421ms/step - loss: 0.7200 - accuracy: 0.7540 - val_loss: 0.6436 - val_accuracy: 0.8000 - lr: 1.2500e-04\n",
            "Epoch 44/100\n",
            "50/50 [==============================] - ETA: 0s - loss: 0.7273 - accuracy: 0.7240\n",
            "Epoch 44: val_accuracy did not improve from 0.90000\n",
            "\n",
            "Epoch 44: ReduceLROnPlateau reducing learning rate to 6.25000029685907e-05.\n",
            "50/50 [==============================] - 22s 439ms/step - loss: 0.7273 - accuracy: 0.7240 - val_loss: 0.5266 - val_accuracy: 0.8800 - lr: 1.2500e-04\n",
            "Epoch 45/100\n",
            "50/50 [==============================] - ETA: 0s - loss: 0.6781 - accuracy: 0.7680\n",
            "Epoch 45: val_accuracy did not improve from 0.90000\n",
            "50/50 [==============================] - 21s 422ms/step - loss: 0.6781 - accuracy: 0.7680 - val_loss: 0.6170 - val_accuracy: 0.8000 - lr: 6.2500e-05\n",
            "Epoch 46/100\n",
            "50/50 [==============================] - ETA: 0s - loss: 0.6678 - accuracy: 0.7640\n",
            "Epoch 46: val_accuracy improved from 0.90000 to 0.92000, saving model to best_model1.h5\n",
            "50/50 [==============================] - 21s 426ms/step - loss: 0.6678 - accuracy: 0.7640 - val_loss: 0.3600 - val_accuracy: 0.9200 - lr: 6.2500e-05\n",
            "Epoch 47/100\n",
            "50/50 [==============================] - ETA: 0s - loss: 0.6490 - accuracy: 0.7620\n",
            "Epoch 47: val_accuracy did not improve from 0.92000\n",
            "50/50 [==============================] - 23s 465ms/step - loss: 0.6490 - accuracy: 0.7620 - val_loss: 0.4562 - val_accuracy: 0.8800 - lr: 6.2500e-05\n",
            "Epoch 48/100\n",
            "50/50 [==============================] - ETA: 0s - loss: 0.6142 - accuracy: 0.7860\n",
            "Epoch 48: val_accuracy did not improve from 0.92000\n",
            "50/50 [==============================] - 21s 426ms/step - loss: 0.6142 - accuracy: 0.7860 - val_loss: 0.3678 - val_accuracy: 0.8800 - lr: 6.2500e-05\n",
            "Epoch 49/100\n",
            "50/50 [==============================] - ETA: 0s - loss: 0.6404 - accuracy: 0.7740\n",
            "Epoch 49: val_accuracy did not improve from 0.92000\n",
            "50/50 [==============================] - 21s 426ms/step - loss: 0.6404 - accuracy: 0.7740 - val_loss: 0.5387 - val_accuracy: 0.8600 - lr: 6.2500e-05\n",
            "Epoch 50/100\n",
            "50/50 [==============================] - ETA: 0s - loss: 0.6323 - accuracy: 0.7900\n",
            "Epoch 50: val_accuracy did not improve from 0.92000\n",
            "50/50 [==============================] - 23s 453ms/step - loss: 0.6323 - accuracy: 0.7900 - val_loss: 0.4294 - val_accuracy: 0.9200 - lr: 6.2500e-05\n",
            "Epoch 51/100\n",
            "50/50 [==============================] - ETA: 0s - loss: 0.6592 - accuracy: 0.7560\n",
            "Epoch 51: val_accuracy did not improve from 0.92000\n",
            "\n",
            "Epoch 51: ReduceLROnPlateau reducing learning rate to 3.125000148429535e-05.\n",
            "50/50 [==============================] - 21s 421ms/step - loss: 0.6592 - accuracy: 0.7560 - val_loss: 0.5550 - val_accuracy: 0.7800 - lr: 6.2500e-05\n",
            "Epoch 52/100\n",
            "50/50 [==============================] - ETA: 0s - loss: 0.6287 - accuracy: 0.7720\n",
            "Epoch 52: val_accuracy did not improve from 0.92000\n",
            "50/50 [==============================] - 23s 453ms/step - loss: 0.6287 - accuracy: 0.7720 - val_loss: 0.3816 - val_accuracy: 0.9000 - lr: 3.1250e-05\n",
            "Epoch 53/100\n",
            "50/50 [==============================] - ETA: 0s - loss: 0.6287 - accuracy: 0.7820\n",
            "Epoch 53: val_accuracy did not improve from 0.92000\n",
            "50/50 [==============================] - 21s 420ms/step - loss: 0.6287 - accuracy: 0.7820 - val_loss: 0.4847 - val_accuracy: 0.8000 - lr: 3.1250e-05\n",
            "Epoch 54/100\n",
            "50/50 [==============================] - ETA: 0s - loss: 0.6357 - accuracy: 0.7840\n",
            "Epoch 54: val_accuracy did not improve from 0.92000\n",
            "50/50 [==============================] - 21s 422ms/step - loss: 0.6357 - accuracy: 0.7840 - val_loss: 0.6046 - val_accuracy: 0.7400 - lr: 3.1250e-05\n",
            "Epoch 55/100\n",
            "50/50 [==============================] - ETA: 0s - loss: 0.6410 - accuracy: 0.7980\n",
            "Epoch 55: val_accuracy did not improve from 0.92000\n",
            "50/50 [==============================] - 23s 464ms/step - loss: 0.6410 - accuracy: 0.7980 - val_loss: 0.5464 - val_accuracy: 0.8200 - lr: 3.1250e-05\n",
            "Epoch 56/100\n",
            "50/50 [==============================] - ETA: 0s - loss: 0.6165 - accuracy: 0.7820\n",
            "Epoch 56: val_accuracy did not improve from 0.92000\n",
            "\n",
            "Epoch 56: ReduceLROnPlateau reducing learning rate to 1.5625000742147677e-05.\n",
            "50/50 [==============================] - 21s 427ms/step - loss: 0.6165 - accuracy: 0.7820 - val_loss: 0.5182 - val_accuracy: 0.8200 - lr: 3.1250e-05\n",
            "Epoch 57/100\n",
            "50/50 [==============================] - ETA: 0s - loss: 0.6504 - accuracy: 0.7840\n",
            "Epoch 57: val_accuracy did not improve from 0.92000\n",
            "50/50 [==============================] - 23s 467ms/step - loss: 0.6504 - accuracy: 0.7840 - val_loss: 0.6118 - val_accuracy: 0.7400 - lr: 1.5625e-05\n",
            "Epoch 58/100\n",
            "50/50 [==============================] - ETA: 0s - loss: 0.6277 - accuracy: 0.7940\n",
            "Epoch 58: val_accuracy did not improve from 0.92000\n",
            "50/50 [==============================] - 23s 455ms/step - loss: 0.6277 - accuracy: 0.7940 - val_loss: 0.5642 - val_accuracy: 0.7600 - lr: 1.5625e-05\n",
            "Epoch 59/100\n",
            "50/50 [==============================] - ETA: 0s - loss: 0.6319 - accuracy: 0.7680\n",
            "Epoch 59: val_accuracy did not improve from 0.92000\n",
            "50/50 [==============================] - 21s 425ms/step - loss: 0.6319 - accuracy: 0.7680 - val_loss: 0.3650 - val_accuracy: 0.9000 - lr: 1.5625e-05\n",
            "Epoch 60/100\n",
            "50/50 [==============================] - ETA: 0s - loss: 0.6401 - accuracy: 0.7760\n",
            "Epoch 60: val_accuracy did not improve from 0.92000\n",
            "50/50 [==============================] - 23s 454ms/step - loss: 0.6401 - accuracy: 0.7760 - val_loss: 0.3859 - val_accuracy: 0.8600 - lr: 1.5625e-05\n",
            "Epoch 61/100\n",
            "50/50 [==============================] - ETA: 0s - loss: 0.6969 - accuracy: 0.7530\n",
            "Epoch 61: val_accuracy did not improve from 0.92000\n",
            "\n",
            "Epoch 61: ReduceLROnPlateau reducing learning rate to 1e-05.\n",
            "50/50 [==============================] - 21s 422ms/step - loss: 0.6969 - accuracy: 0.7530 - val_loss: 0.4958 - val_accuracy: 0.8600 - lr: 1.5625e-05\n",
            "Epoch 62/100\n",
            "50/50 [==============================] - ETA: 0s - loss: 0.6325 - accuracy: 0.7760\n",
            "Epoch 62: val_accuracy did not improve from 0.92000\n",
            "50/50 [==============================] - 23s 458ms/step - loss: 0.6325 - accuracy: 0.7760 - val_loss: 0.3806 - val_accuracy: 0.9000 - lr: 1.0000e-05\n",
            "Epoch 63/100\n",
            "50/50 [==============================] - ETA: 0s - loss: 0.5992 - accuracy: 0.7840\n",
            "Epoch 63: val_accuracy did not improve from 0.92000\n",
            "50/50 [==============================] - 22s 433ms/step - loss: 0.5992 - accuracy: 0.7840 - val_loss: 0.5638 - val_accuracy: 0.8000 - lr: 1.0000e-05\n",
            "Epoch 64/100\n",
            "50/50 [==============================] - ETA: 0s - loss: 0.6501 - accuracy: 0.7920\n",
            "Epoch 64: val_accuracy did not improve from 0.92000\n",
            "50/50 [==============================] - 21s 422ms/step - loss: 0.6501 - accuracy: 0.7920 - val_loss: 0.5843 - val_accuracy: 0.8000 - lr: 1.0000e-05\n",
            "Epoch 65/100\n",
            "50/50 [==============================] - ETA: 0s - loss: 0.6527 - accuracy: 0.7920\n",
            "Epoch 65: val_accuracy did not improve from 0.92000\n",
            "50/50 [==============================] - 22s 434ms/step - loss: 0.6527 - accuracy: 0.7920 - val_loss: 0.5894 - val_accuracy: 0.7400 - lr: 1.0000e-05\n",
            "Epoch 66/100\n",
            "50/50 [==============================] - ETA: 0s - loss: 0.6219 - accuracy: 0.7940\n",
            "Epoch 66: val_accuracy did not improve from 0.92000\n",
            "50/50 [==============================] - 21s 424ms/step - loss: 0.6219 - accuracy: 0.7940 - val_loss: 0.2946 - val_accuracy: 0.9200 - lr: 1.0000e-05\n",
            "Epoch 66: early stopping\n"
          ]
        }
      ],
      "source": [
        "history = network.fit_generator(train_dataset,\n",
        "                                steps_per_epoch = 50,\n",
        "                                validation_data = validation_dataset,\n",
        "                                validation_steps = 50,\n",
        "                                epochs=100,\n",
        "                                callbacks=[es, model_cp, learning_rate_reduction])"
      ]
    },
    {
      "cell_type": "code",
      "execution_count": 84,
      "metadata": {
        "id": "4xXIb__YN8jO"
      },
      "outputs": [],
      "source": [
        "predictions=network.predict(test_datatset)\n",
        "predictions = np.argmax(predictions, axis=1)"
      ]
    },
    {
      "cell_type": "code",
      "execution_count": 85,
      "metadata": {
        "colab": {
          "base_uri": "https://localhost:8080/"
        },
        "id": "MfitKd4WOO0c",
        "outputId": "7988332e-f612-4e23-e8d9-e86637acde31"
      },
      "outputs": [
        {
          "output_type": "execute_result",
          "data": {
            "text/plain": [
              "0.8538681948424068"
            ]
          },
          "metadata": {},
          "execution_count": 85
        }
      ],
      "source": [
        "from sklearn.metrics import accuracy_score\n",
        "accuracy_score(test_datatset.classes, predictions)"
      ]
    },
    {
      "cell_type": "code",
      "execution_count": 86,
      "metadata": {
        "colab": {
          "base_uri": "https://localhost:8080/",
          "height": 435
        },
        "id": "CwufQs6AOjVu",
        "outputId": "5633d704-cef6-4a36-8337-dd0887e6d621"
      },
      "outputs": [
        {
          "output_type": "display_data",
          "data": {
            "text/plain": [
              "<Figure size 640x480 with 2 Axes>"
            ],
            "image/png": "[encoded data removed]"
          },
          "metadata": {}
        }
      ],
      "source": [
        "from sklearn.metrics import confusion_matrix\n",
        "cm = confusion_matrix(test_datatset.classes, predictions)\n",
        "sns.heatmap(cm, annot=True);"
      ]
    },
    {
      "cell_type": "code",
      "execution_count": 87,
      "metadata": {
        "colab": {
          "base_uri": "https://localhost:8080/"
        },
        "id": "lfg484OCPGqq",
        "outputId": "df513f40-6b5c-4f22-e103-8ac1f10fb954"
      },
      "outputs": [
        {
          "output_type": "stream",
          "name": "stdout",
          "text": [
            "              precision    recall  f1-score   support\n",
            "\n",
            "           0       0.92      0.98      0.95       198\n",
            "           1       0.99      1.00      0.99       200\n",
            "           2       0.74      0.80      0.77       200\n",
            "           3       0.73      0.53      0.61       199\n",
            "           4       0.88      0.94      0.91       200\n",
            "           5       0.82      0.80      0.81       199\n",
            "           6       0.86      0.93      0.89       200\n",
            "\n",
            "    accuracy                           0.85      1396\n",
            "   macro avg       0.85      0.85      0.85      1396\n",
            "weighted avg       0.85      0.85      0.85      1396\n",
            "\n"
          ]
        }
      ],
      "source": [
        "from sklearn.metrics import classification_report\n",
        "print(classification_report(test_datatset.classes, predictions))"
      ]
    },
    {
      "cell_type": "code",
      "execution_count": 88,
      "metadata": {
        "colab": {
          "base_uri": "https://localhost:8080/",
          "height": 472
        },
        "id": "AwBdQqe9Porm",
        "outputId": "c7e7025e-1a03-4764-82e9-f18f99f7c516"
      },
      "outputs": [
        {
          "output_type": "display_data",
          "data": {
            "text/plain": [
              "<Figure size 640x480 with 1 Axes>"
            ],
            "image/png": "[encoded data removed]"
          },
          "metadata": {}
        }
      ],
      "source": [
        "plt.plot(history.history['accuracy'])\n",
        "plt.plot(history.history['val_accuracy'])\n",
        "plt.title('model accuracy')\n",
        "plt.ylabel('accuracy')\n",
        "plt.xlabel('epoch')\n",
        "plt.legend(['train', 'val'], loc='upper left')\n",
        "plt.show()"
      ]
    },
    {
      "cell_type": "code",
      "execution_count": 89,
      "metadata": {
        "colab": {
          "base_uri": "https://localhost:8080/",
          "height": 472
        },
        "id": "vVr7AUw8SNre",
        "outputId": "50c2fefe-eb10-4ee6-b57c-44d6431c2443"
      },
      "outputs": [
        {
          "output_type": "display_data",
          "data": {
            "text/plain": [
              "<Figure size 640x480 with 1 Axes>"
            ],
            "image/png": "[encoded data removed]"
          },
          "metadata": {}
        }
      ],
      "source": [
        "plt.plot(history.history['loss'])\n",
        "plt.plot(history.history['val_loss'])\n",
        "plt.title('model loss')\n",
        "plt.ylabel('loss')\n",
        "plt.xlabel('epoch')\n",
        "plt.legend(['train', 'val'], loc='upper left')\n",
        "plt.show()"
      ]
    },
    {
      "cell_type": "code",
      "execution_count": 90,
      "metadata": {
        "id": "pnmlR6M8gih2"
      },
      "outputs": [],
      "source": [
        "from tensorflow.keras.models import load_model\n",
        "model = load_model('/content/best_model1.h5')"
      ]
    },
    {
      "cell_type": "code",
      "execution_count": 91,
      "metadata": {
        "colab": {
          "base_uri": "https://localhost:8080/"
        },
        "id": "P5SUDIaUg8-G",
        "outputId": "c879629b-d40d-4abe-dbd4-39bfff72b70d"
      },
      "outputs": [
        {
          "output_type": "stream",
          "name": "stdout",
          "text": [
            "1396/1396 [==============================] - 24s 17ms/step - loss: 0.5015 - accuracy: 0.8381\n"
          ]
        },
        {
          "output_type": "execute_result",
          "data": {
            "text/plain": [
              "[0.5015476942062378, 0.8381088972091675]"
            ]
          },
          "metadata": {},
          "execution_count": 91
        }
      ],
      "source": [
        "model.evaluate(test_datatset)"
      ]
    },
    {
      "cell_type": "code",
      "execution_count": 92,
      "metadata": {
        "colab": {
          "base_uri": "https://localhost:8080/",
          "height": 435
        },
        "id": "Zqq4ec2JhKgt",
        "outputId": "350ea917-0c27-4031-9d79-d1a56bce0562"
      },
      "outputs": [
        {
          "output_type": "display_data",
          "data": {
            "text/plain": [
              "<Figure size 640x480 with 2 Axes>"
            ],
            "image/png": "[encoded data removed]"
          },
          "metadata": {}
        }
      ],
      "source": [
        "pred = model.predict(test_datatset)\n",
        "pred = np.argmax(pred, axis=1)\n",
        "cm = confusion_matrix(test_datatset.classes, pred)\n",
        "sns.heatmap(cm, annot=True);"
      ]
    },
    {
      "cell_type": "code",
      "execution_count": 93,
      "metadata": {
        "colab": {
          "base_uri": "https://localhost:8080/"
        },
        "id": "e2TSljdej81S",
        "outputId": "9db9abbc-d8ed-4b66-e68d-6f1371035971"
      },
      "outputs": [
        {
          "output_type": "stream",
          "name": "stdout",
          "text": [
            "              precision    recall  f1-score   support\n",
            "\n",
            "           0       0.93      0.98      0.95       198\n",
            "           1       0.99      1.00      0.99       200\n",
            "           2       0.71      0.74      0.73       200\n",
            "           3       0.66      0.55      0.60       199\n",
            "           4       0.86      0.95      0.91       200\n",
            "           5       0.83      0.74      0.78       199\n",
            "           6       0.87      0.90      0.88       200\n",
            "\n",
            "    accuracy                           0.84      1396\n",
            "   macro avg       0.83      0.84      0.83      1396\n",
            "weighted avg       0.83      0.84      0.83      1396\n",
            "\n"
          ]
        }
      ],
      "source": [
        "print(classification_report(test_datatset.classes, pred))"
      ]
    },
    {
      "cell_type": "code",
      "execution_count": 94,
      "metadata": {
        "id": "jzbwiv0ikEVG"
      },
      "outputs": [],
      "source": [
        "network.save('network.h5')"
      ]
    },
    {
      "cell_type": "code",
      "execution_count": 95,
      "metadata": {
        "id": "mTxEZdsQtlC4"
      },
      "outputs": [],
      "source": [
        "net = load_model('/content/network.h5')"
      ]
    },
    {
      "cell_type": "code",
      "execution_count": 96,
      "metadata": {
        "colab": {
          "base_uri": "https://localhost:8080/"
        },
        "id": "JgEg6VxztpAx",
        "outputId": "68c52aea-94e4-4f53-ca3f-7561193b82a3"
      },
      "outputs": [
        {
          "output_type": "stream",
          "name": "stdout",
          "text": [
            "1396/1396 [==============================] - 25s 18ms/step - loss: 0.4608 - accuracy: 0.8539\n"
          ]
        },
        {
          "output_type": "execute_result",
          "data": {
            "text/plain": [
              "[0.4608190953731537, 0.8538681864738464]"
            ]
          },
          "metadata": {},
          "execution_count": 96
        }
      ],
      "source": [
        "net.evaluate(test_datatset)"
      ]
    },
    {
      "cell_type": "code",
      "execution_count": 97,
      "metadata": {
        "colab": {
          "base_uri": "https://localhost:8080/",
          "height": 435
        },
        "id": "6wbroQ7EvUvp",
        "outputId": "16ab5bcc-75de-4bae-bbb5-7579482ded72"
      },
      "outputs": [
        {
          "output_type": "display_data",
          "data": {
            "text/plain": [
              "<Figure size 640x480 with 2 Axes>"
            ],
            "image/png": "[encoded data removed]"
          },
          "metadata": {}
        }
      ],
      "source": [
        "pre = net.predict(test_datatset)\n",
        "pre = np.argmax(pre, axis=1)\n",
        "cm = confusion_matrix(test_datatset.classes, pre)\n",
        "sns.heatmap(cm, annot=True);"
      ]
    },
    {
      "cell_type": "code",
      "execution_count": 98,
      "metadata": {
        "colab": {
          "base_uri": "https://localhost:8080/"
        },
        "id": "0c6L1deT_TAY",
        "outputId": "0abc3de9-efa1-408a-df38-6dd034636669"
      },
      "outputs": [
        {
          "output_type": "stream",
          "name": "stdout",
          "text": [
            "              precision    recall  f1-score   support\n",
            "\n",
            "           0       0.93      0.98      0.95       198\n",
            "           1       0.99      1.00      0.99       200\n",
            "           2       0.71      0.74      0.73       200\n",
            "           3       0.66      0.55      0.60       199\n",
            "           4       0.86      0.95      0.91       200\n",
            "           5       0.83      0.74      0.78       199\n",
            "           6       0.87      0.90      0.88       200\n",
            "\n",
            "    accuracy                           0.84      1396\n",
            "   macro avg       0.83      0.84      0.83      1396\n",
            "weighted avg       0.83      0.84      0.83      1396\n",
            "\n"
          ]
        }
      ],
      "source": [
        "print(classification_report(test_datatset.classes, pred))"
      ]
    }
  ],
  "metadata": {
    "colab": {
      "provenance": [],
      "include_colab_link": true
    },
    "kernelspec": {
      "display_name": "Python 3",
      "name": "python3"
    },
    "language_info": {
      "name": "python"
    }
  },
  "nbformat": 4,
  "nbformat_minor": 0
}