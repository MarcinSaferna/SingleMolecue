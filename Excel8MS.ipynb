{
  "cells": [
    {
      "cell_type": "markdown",
      "metadata": {
        "id": "view-in-github",
        "colab_type": "text"
      },
      "source": [
        "<a href=\"https://colab.research.google.com/github/MarcinSaferna/SingleMolecue/blob/main/Excel8MS.ipynb\" target=\"_parent\"><img src=\"https://colab.research.google.com/assets/colab-badge.svg\" alt=\"Open In Colab\"/></a>"
      ]
    },
    {
      "cell_type": "code",
      "execution_count": 1,
      "metadata": {
        "colab": {
          "base_uri": "https://localhost:8080/"
        },
        "id": "647sNsjCJ0hX",
        "outputId": "a5f246fa-0277-4da2-92d5-344c89cbdf0c"
      },
      "outputs": [
        {
          "output_type": "stream",
          "name": "stdout",
          "text": [
            "Requirement already satisfied: h5py in /usr/local/lib/python3.10/dist-packages (3.8.0)\n",
            "Requirement already satisfied: numpy>=1.14.5 in /usr/local/lib/python3.10/dist-packages (from h5py) (1.22.4)\n",
            "Requirement already satisfied: typing-extensions in /usr/local/lib/python3.10/dist-packages (4.7.1)\n",
            "Requirement already satisfied: wheel in /usr/local/lib/python3.10/dist-packages (0.41.0)\n"
          ]
        }
      ],
      "source": [
        "!pip install h5py\n",
        "!pip install typing-extensions\n",
        "!pip install wheel"
      ]
    },
    {
      "cell_type": "code",
      "execution_count": 2,
      "metadata": {
        "colab": {
          "base_uri": "https://localhost:8080/"
        },
        "id": "kq6qJdUqIWCQ",
        "outputId": "b5e89f78-a29c-4c82-ed5c-659f98b43be1"
      },
      "outputs": [
        {
          "output_type": "stream",
          "name": "stdout",
          "text": [
            "Collecting tensorflow==2.8\n",
            "  Downloading tensorflow-2.8.0-cp310-cp310-manylinux2010_x86_64.whl (497.6 MB)\n",
            "\u001b[2K     \u001b[90m━━━━━━━━━━━━━━━━━━━━━━━━━━━━━━━━━━━━━━━\u001b[0m \u001b[32m497.6/497.6 MB\u001b[0m \u001b[31m2.5 MB/s\u001b[0m eta \u001b[36m0:00:00\u001b[0m\n",
            "\u001b[?25hRequirement already satisfied: absl-py>=0.4.0 in /usr/local/lib/python3.10/dist-packages (from tensorflow==2.8) (1.4.0)\n",
            "Requirement already satisfied: astunparse>=1.6.0 in /usr/local/lib/python3.10/dist-packages (from tensorflow==2.8) (1.6.3)\n",
            "Requirement already satisfied: flatbuffers>=1.12 in /usr/local/lib/python3.10/dist-packages (from tensorflow==2.8) (23.5.26)\n",
            "Requirement already satisfied: gast>=0.2.1 in /usr/local/lib/python3.10/dist-packages (from tensorflow==2.8) (0.4.0)\n",
            "Requirement already satisfied: google-pasta>=0.1.1 in /usr/local/lib/python3.10/dist-packages (from tensorflow==2.8) (0.2.0)\n",
            "Requirement already satisfied: h5py>=2.9.0 in /usr/local/lib/python3.10/dist-packages (from tensorflow==2.8) (3.8.0)\n",
            "Collecting keras-preprocessing>=1.1.1 (from tensorflow==2.8)\n",
            "  Downloading Keras_Preprocessing-1.1.2-py2.py3-none-any.whl (42 kB)\n",
            "\u001b[2K     \u001b[90m━━━━━━━━━━━━━━━━━━━━━━━━━━━━━━━━━━━━━━━━\u001b[0m \u001b[32m42.6/42.6 kB\u001b[0m \u001b[31m2.7 MB/s\u001b[0m eta \u001b[36m0:00:00\u001b[0m\n",
            "\u001b[?25hRequirement already satisfied: libclang>=9.0.1 in /usr/local/lib/python3.10/dist-packages (from tensorflow==2.8) (16.0.6)\n",
            "Requirement already satisfied: numpy>=1.20 in /usr/local/lib/python3.10/dist-packages (from tensorflow==2.8) (1.22.4)\n",
            "Requirement already satisfied: opt-einsum>=2.3.2 in /usr/local/lib/python3.10/dist-packages (from tensorflow==2.8) (3.3.0)\n",
            "Requirement already satisfied: protobuf>=3.9.2 in /usr/local/lib/python3.10/dist-packages (from tensorflow==2.8) (3.20.3)\n",
            "Requirement already satisfied: setuptools in /usr/local/lib/python3.10/dist-packages (from tensorflow==2.8) (67.7.2)\n",
            "Requirement already satisfied: six>=1.12.0 in /usr/local/lib/python3.10/dist-packages (from tensorflow==2.8) (1.16.0)\n",
            "Requirement already satisfied: termcolor>=1.1.0 in /usr/local/lib/python3.10/dist-packages (from tensorflow==2.8) (2.3.0)\n",
            "Requirement already satisfied: typing-extensions>=3.6.6 in /usr/local/lib/python3.10/dist-packages (from tensorflow==2.8) (4.7.1)\n",
            "Requirement already satisfied: wrapt>=1.11.0 in /usr/local/lib/python3.10/dist-packages (from tensorflow==2.8) (1.14.1)\n",
            "Collecting tensorboard<2.9,>=2.8 (from tensorflow==2.8)\n",
            "  Downloading tensorboard-2.8.0-py3-none-any.whl (5.8 MB)\n",
            "\u001b[2K     \u001b[90m━━━━━━━━━━━━━━━━━━━━━━━━━━━━━━━━━━━━━━━━\u001b[0m \u001b[32m5.8/5.8 MB\u001b[0m \u001b[31m44.3 MB/s\u001b[0m eta \u001b[36m0:00:00\u001b[0m\n",
            "\u001b[?25hCollecting tf-estimator-nightly==2.8.0.dev2021122109 (from tensorflow==2.8)\n",
            "  Downloading tf_estimator_nightly-2.8.0.dev2021122109-py2.py3-none-any.whl (462 kB)\n",
            "\u001b[2K     \u001b[90m━━━━━━━━━━━━━━━━━━━━━━━━━━━━━━━━━━━━━━\u001b[0m \u001b[32m462.5/462.5 kB\u001b[0m \u001b[31m29.4 MB/s\u001b[0m eta \u001b[36m0:00:00\u001b[0m\n",
            "\u001b[?25hCollecting keras<2.9,>=2.8.0rc0 (from tensorflow==2.8)\n",
            "  Downloading keras-2.8.0-py2.py3-none-any.whl (1.4 MB)\n",
            "\u001b[2K     \u001b[90m━━━━━━━━━━━━━━━━━━━━━━━━━━━━━━━━━━━━━━━━\u001b[0m \u001b[32m1.4/1.4 MB\u001b[0m \u001b[31m70.9 MB/s\u001b[0m eta \u001b[36m0:00:00\u001b[0m\n",
            "\u001b[?25hRequirement already satisfied: tensorflow-io-gcs-filesystem>=0.23.1 in /usr/local/lib/python3.10/dist-packages (from tensorflow==2.8) (0.32.0)\n",
            "Requirement already satisfied: grpcio<2.0,>=1.24.3 in /usr/local/lib/python3.10/dist-packages (from tensorflow==2.8) (1.56.2)\n",
            "Requirement already satisfied: wheel<1.0,>=0.23.0 in /usr/local/lib/python3.10/dist-packages (from astunparse>=1.6.0->tensorflow==2.8) (0.41.0)\n",
            "Requirement already satisfied: google-auth<3,>=1.6.3 in /usr/local/lib/python3.10/dist-packages (from tensorboard<2.9,>=2.8->tensorflow==2.8) (2.17.3)\n",
            "Collecting google-auth-oauthlib<0.5,>=0.4.1 (from tensorboard<2.9,>=2.8->tensorflow==2.8)\n",
            "  Downloading google_auth_oauthlib-0.4.6-py2.py3-none-any.whl (18 kB)\n",
            "Requirement already satisfied: markdown>=2.6.8 in /usr/local/lib/python3.10/dist-packages (from tensorboard<2.9,>=2.8->tensorflow==2.8) (3.4.4)\n",
            "Requirement already satisfied: requests<3,>=2.21.0 in /usr/local/lib/python3.10/dist-packages (from tensorboard<2.9,>=2.8->tensorflow==2.8) (2.27.1)\n",
            "Collecting tensorboard-data-server<0.7.0,>=0.6.0 (from tensorboard<2.9,>=2.8->tensorflow==2.8)\n",
            "  Downloading tensorboard_data_server-0.6.1-py3-none-manylinux2010_x86_64.whl (4.9 MB)\n",
            "\u001b[2K     \u001b[90m━━━━━━━━━━━━━━━━━━━━━━━━━━━━━━━━━━━━━━━━\u001b[0m \u001b[32m4.9/4.9 MB\u001b[0m \u001b[31m78.2 MB/s\u001b[0m eta \u001b[36m0:00:00\u001b[0m\n",
            "\u001b[?25hCollecting tensorboard-plugin-wit>=1.6.0 (from tensorboard<2.9,>=2.8->tensorflow==2.8)\n",
            "  Downloading tensorboard_plugin_wit-1.8.1-py3-none-any.whl (781 kB)\n",
            "\u001b[2K     \u001b[90m━━━━━━━━━━━━━━━━━━━━━━━━━━━━━━━━━━━━━━\u001b[0m \u001b[32m781.3/781.3 kB\u001b[0m \u001b[31m54.2 MB/s\u001b[0m eta \u001b[36m0:00:00\u001b[0m\n",
            "\u001b[?25hRequirement already satisfied: werkzeug>=0.11.15 in /usr/local/lib/python3.10/dist-packages (from tensorboard<2.9,>=2.8->tensorflow==2.8) (2.3.6)\n",
            "Requirement already satisfied: cachetools<6.0,>=2.0.0 in /usr/local/lib/python3.10/dist-packages (from google-auth<3,>=1.6.3->tensorboard<2.9,>=2.8->tensorflow==2.8) (5.3.1)\n",
            "Requirement already satisfied: pyasn1-modules>=0.2.1 in /usr/local/lib/python3.10/dist-packages (from google-auth<3,>=1.6.3->tensorboard<2.9,>=2.8->tensorflow==2.8) (0.3.0)\n",
            "Requirement already satisfied: rsa<5,>=3.1.4 in /usr/local/lib/python3.10/dist-packages (from google-auth<3,>=1.6.3->tensorboard<2.9,>=2.8->tensorflow==2.8) (4.9)\n",
            "Requirement already satisfied: requests-oauthlib>=0.7.0 in /usr/local/lib/python3.10/dist-packages (from google-auth-oauthlib<0.5,>=0.4.1->tensorboard<2.9,>=2.8->tensorflow==2.8) (1.3.1)\n",
            "Requirement already satisfied: urllib3<1.27,>=1.21.1 in /usr/local/lib/python3.10/dist-packages (from requests<3,>=2.21.0->tensorboard<2.9,>=2.8->tensorflow==2.8) (1.26.16)\n",
            "Requirement already satisfied: certifi>=2017.4.17 in /usr/local/lib/python3.10/dist-packages (from requests<3,>=2.21.0->tensorboard<2.9,>=2.8->tensorflow==2.8) (2023.7.22)\n",
            "Requirement already satisfied: charset-normalizer~=2.0.0 in /usr/local/lib/python3.10/dist-packages (from requests<3,>=2.21.0->tensorboard<2.9,>=2.8->tensorflow==2.8) (2.0.12)\n",
            "Requirement already satisfied: idna<4,>=2.5 in /usr/local/lib/python3.10/dist-packages (from requests<3,>=2.21.0->tensorboard<2.9,>=2.8->tensorflow==2.8) (3.4)\n",
            "Requirement already satisfied: MarkupSafe>=2.1.1 in /usr/local/lib/python3.10/dist-packages (from werkzeug>=0.11.15->tensorboard<2.9,>=2.8->tensorflow==2.8) (2.1.3)\n",
            "Requirement already satisfied: pyasn1<0.6.0,>=0.4.6 in /usr/local/lib/python3.10/dist-packages (from pyasn1-modules>=0.2.1->google-auth<3,>=1.6.3->tensorboard<2.9,>=2.8->tensorflow==2.8) (0.5.0)\n",
            "Requirement already satisfied: oauthlib>=3.0.0 in /usr/local/lib/python3.10/dist-packages (from requests-oauthlib>=0.7.0->google-auth-oauthlib<0.5,>=0.4.1->tensorboard<2.9,>=2.8->tensorflow==2.8) (3.2.2)\n",
            "Installing collected packages: tf-estimator-nightly, tensorboard-plugin-wit, keras, tensorboard-data-server, keras-preprocessing, google-auth-oauthlib, tensorboard, tensorflow\n",
            "  Attempting uninstall: keras\n",
            "    Found existing installation: keras 2.12.0\n",
            "    Uninstalling keras-2.12.0:\n",
            "      Successfully uninstalled keras-2.12.0\n",
            "  Attempting uninstall: tensorboard-data-server\n",
            "    Found existing installation: tensorboard-data-server 0.7.1\n",
            "    Uninstalling tensorboard-data-server-0.7.1:\n",
            "      Successfully uninstalled tensorboard-data-server-0.7.1\n",
            "  Attempting uninstall: google-auth-oauthlib\n",
            "    Found existing installation: google-auth-oauthlib 1.0.0\n",
            "    Uninstalling google-auth-oauthlib-1.0.0:\n",
            "      Successfully uninstalled google-auth-oauthlib-1.0.0\n",
            "  Attempting uninstall: tensorboard\n",
            "    Found existing installation: tensorboard 2.12.3\n",
            "    Uninstalling tensorboard-2.12.3:\n",
            "      Successfully uninstalled tensorboard-2.12.3\n",
            "  Attempting uninstall: tensorflow\n",
            "    Found existing installation: tensorflow 2.12.0\n",
            "    Uninstalling tensorflow-2.12.0:\n",
            "      Successfully uninstalled tensorflow-2.12.0\n",
            "Successfully installed google-auth-oauthlib-0.4.6 keras-2.8.0 keras-preprocessing-1.1.2 tensorboard-2.8.0 tensorboard-data-server-0.6.1 tensorboard-plugin-wit-1.8.1 tensorflow-2.8.0 tf-estimator-nightly-2.8.0.dev2021122109\n"
          ]
        }
      ],
      "source": [
        "!pip install tensorflow==2.8"
      ]
    },
    {
      "cell_type": "code",
      "execution_count": 3,
      "metadata": {
        "colab": {
          "base_uri": "https://localhost:8080/",
          "height": 36
        },
        "id": "I0X9qkMXs_pp",
        "outputId": "3b8dfc47-b119-4ad7-c2db-76c203a668d8"
      },
      "outputs": [
        {
          "output_type": "execute_result",
          "data": {
            "text/plain": [
              "'2.8.0'"
            ],
            "application/vnd.google.colaboratory.intrinsic+json": {
              "type": "string"
            }
          },
          "metadata": {},
          "execution_count": 3
        }
      ],
      "source": [
        "import matplotlib.pyplot as plt\n",
        "import seaborn as sns\n",
        "import zipfile\n",
        "import numpy as np\n",
        "import cv2\n",
        "from google.colab.patches import cv2_imshow\n",
        "import tensorflow as tf\n",
        "from tensorflow.keras.callbacks import ReduceLROnPlateau\n",
        "from tensorflow.keras import regularizers\n",
        "from tensorflow.keras.callbacks import ModelCheckpoint, EarlyStopping\n",
        "from tensorflow.keras.models import Sequential\n",
        "from tensorflow.keras.layers import Conv2D, MaxPool2D, Flatten, Dense, BatchNormalization, Dropout\n",
        "from tensorflow.keras.preprocessing.image import ImageDataGenerator\n",
        "tf.__version__"
      ]
    },
    {
      "cell_type": "code",
      "execution_count": 4,
      "metadata": {
        "colab": {
          "base_uri": "https://localhost:8080/"
        },
        "id": "yQMOvsd99H-V",
        "outputId": "a96b23c6-468d-4127-a7b6-51c592a84b9f"
      },
      "outputs": [
        {
          "output_type": "stream",
          "name": "stdout",
          "text": [
            "Mounted at /content/drive\n"
          ]
        }
      ],
      "source": [
        "from google.colab import drive\n",
        "drive.mount('/content/drive')"
      ]
    },
    {
      "cell_type": "code",
      "execution_count": 5,
      "metadata": {
        "id": "Y_BgiI3JxA9q"
      },
      "outputs": [],
      "source": [
        "path = '/content/drive/MyDrive/praktyki/rawDataSingleMolecule/gotowe.zip'\n",
        "zip_object = zipfile.ZipFile(file=path, mode='r')\n",
        "zip_object.extractall('./')\n",
        "zip_object.close()"
      ]
    },
    {
      "cell_type": "code",
      "execution_count": 6,
      "metadata": {
        "id": "7-PhxwM60uM7"
      },
      "outputs": [],
      "source": [
        "training_generator = ImageDataGenerator(rescale=1./255,\n",
        "                                        horizontal_flip=True,\n",
        "                                        vertical_flip=True)\n"
      ]
    },
    {
      "cell_type": "code",
      "execution_count": 7,
      "metadata": {
        "colab": {
          "base_uri": "https://localhost:8080/"
        },
        "id": "jMErkkVv_mXw",
        "outputId": "46fc5cf8-e717-4508-bd71-67038ac44fb4"
      },
      "outputs": [
        {
          "output_type": "stream",
          "name": "stdout",
          "text": [
            "Found 11158 images belonging to 7 classes.\n"
          ]
        }
      ],
      "source": [
        "train_dataset = training_generator.flow_from_directory('/content/gotowe/train_set',\n",
        "                                                       target_size = (100, 100),\n",
        "                                                       batch_size = 10,\n",
        "                                                       color_mode='rgb',\n",
        "                                                       class_mode = 'categorical',\n",
        "                                                       shuffle = True)"
      ]
    },
    {
      "cell_type": "code",
      "execution_count": 8,
      "metadata": {
        "colab": {
          "base_uri": "https://localhost:8080/"
        },
        "id": "C4errPxfAukM",
        "outputId": "84ba9a61-a1a2-4828-9347-417b49f29d57"
      },
      "outputs": [
        {
          "output_type": "execute_result",
          "data": {
            "text/plain": [
              "array([0, 0, 0, ..., 6, 6, 6], dtype=int32)"
            ]
          },
          "metadata": {},
          "execution_count": 8
        }
      ],
      "source": [
        "train_dataset.classes"
      ]
    },
    {
      "cell_type": "code",
      "execution_count": 9,
      "metadata": {
        "colab": {
          "base_uri": "https://localhost:8080/"
        },
        "id": "jYCiD3adA5xf",
        "outputId": "fd2e6609-c9c4-497e-f4da-85599c0626a2"
      },
      "outputs": [
        {
          "output_type": "execute_result",
          "data": {
            "text/plain": [
              "{'nematyk': 0,\n",
              " 'smektyk_C': 1,\n",
              " 'smektyk_F': 2,\n",
              " 'smektyk_GMosaic': 3,\n",
              " 'smektyk_GSchliren': 4,\n",
              " 'smektyk_H': 5,\n",
              " 'smektyk_I': 6}"
            ]
          },
          "metadata": {},
          "execution_count": 9
        }
      ],
      "source": [
        "train_dataset.class_indices"
      ]
    },
    {
      "cell_type": "code",
      "execution_count": 10,
      "metadata": {
        "id": "6VK7xyH-BkSq"
      },
      "outputs": [],
      "source": [
        "test_generator = ImageDataGenerator(rescale=1./255)\n",
        "val_generator = ImageDataGenerator(rescale=1./255)"
      ]
    },
    {
      "cell_type": "code",
      "execution_count": 11,
      "metadata": {
        "colab": {
          "base_uri": "https://localhost:8080/"
        },
        "id": "84kKwMy6U7oh",
        "outputId": "c6ebea3e-5036-449b-ff34-991df08034eb"
      },
      "outputs": [
        {
          "output_type": "stream",
          "name": "stdout",
          "text": [
            "Found 1395 images belonging to 7 classes.\n"
          ]
        }
      ],
      "source": [
        "validation_dataset = val_generator.flow_from_directory('/content/gotowe/val_set',\n",
        "                                                        target_size=(100, 100),\n",
        "                                                        batch_size=1,\n",
        "                                                        class_mode='categorical',\n",
        "                                                        color_mode='rgb',\n",
        "                                                        shuffle=True) # set as validation data"
      ]
    },
    {
      "cell_type": "code",
      "execution_count": 12,
      "metadata": {
        "id": "PB2pU5bzXPTa"
      },
      "outputs": [],
      "source": [
        "L2 = 0.00001"
      ]
    },
    {
      "cell_type": "code",
      "execution_count": 13,
      "metadata": {
        "colab": {
          "base_uri": "https://localhost:8080/"
        },
        "id": "SdqIBmxiBvU1",
        "outputId": "df581cf5-b09b-4fcf-9063-e1f03ca3105c"
      },
      "outputs": [
        {
          "output_type": "stream",
          "name": "stdout",
          "text": [
            "Found 1396 images belonging to 7 classes.\n"
          ]
        }
      ],
      "source": [
        "test_datatset = test_generator.flow_from_directory('/content/gotowe/test_set',\n",
        "                                                   target_size = (100, 100),\n",
        "                                                   batch_size = 1,\n",
        "                                                   color_mode='rgb',\n",
        "                                                   class_mode = 'categorical',\n",
        "                                                   shuffle = False)"
      ]
    },
    {
      "cell_type": "code",
      "execution_count": 14,
      "metadata": {
        "id": "xVLgf1bADs_C"
      },
      "outputs": [],
      "source": [
        "initializer1 = tf.keras.initializers.HeNormal()\n",
        "initializer2 = tf.keras.initializers.GlorotUniform()"
      ]
    },
    {
      "cell_type": "code",
      "execution_count": 78,
      "metadata": {
        "colab": {
          "base_uri": "https://localhost:8080/"
        },
        "id": "QTr7SiKfD6UI",
        "outputId": "f6c85e1c-d4dd-4c07-f6f3-b43567ce17b6"
      },
      "outputs": [
        {
          "output_type": "stream",
          "name": "stdout",
          "text": [
            "Model: \"sequential_9\"\n",
            "_________________________________________________________________\n",
            " Layer (type)                Output Shape              Param #   \n",
            "=================================================================\n",
            " conv2d_99 (Conv2D)          (None, 98, 98, 16)        448       \n",
            "                                                                 \n",
            " conv2d_100 (Conv2D)         (None, 98, 98, 16)        272       \n",
            "                                                                 \n",
            " conv2d_101 (Conv2D)         (None, 98, 98, 16)        2320      \n",
            "                                                                 \n",
            " batch_normalization_82 (Bat  (None, 98, 98, 16)       64        \n",
            " chNormalization)                                                \n",
            "                                                                 \n",
            " conv2d_102 (Conv2D)         (None, 98, 98, 32)        4640      \n",
            "                                                                 \n",
            " conv2d_103 (Conv2D)         (None, 98, 98, 32)        9248      \n",
            "                                                                 \n",
            " conv2d_104 (Conv2D)         (None, 98, 98, 32)        9248      \n",
            "                                                                 \n",
            " batch_normalization_83 (Bat  (None, 98, 98, 32)       128       \n",
            " chNormalization)                                                \n",
            "                                                                 \n",
            " max_pooling2d_42 (MaxPoolin  (None, 49, 49, 32)       0         \n",
            " g2D)                                                            \n",
            "                                                                 \n",
            " conv2d_105 (Conv2D)         (None, 49, 49, 64)        18496     \n",
            "                                                                 \n",
            " batch_normalization_84 (Bat  (None, 49, 49, 64)       256       \n",
            " chNormalization)                                                \n",
            "                                                                 \n",
            " max_pooling2d_43 (MaxPoolin  (None, 24, 24, 64)       0         \n",
            " g2D)                                                            \n",
            "                                                                 \n",
            " conv2d_106 (Conv2D)         (None, 24, 24, 128)       8320      \n",
            "                                                                 \n",
            " batch_normalization_85 (Bat  (None, 24, 24, 128)      512       \n",
            " chNormalization)                                                \n",
            "                                                                 \n",
            " conv2d_107 (Conv2D)         (None, 24, 24, 256)       33024     \n",
            "                                                                 \n",
            " batch_normalization_86 (Bat  (None, 24, 24, 256)      1024      \n",
            " chNormalization)                                                \n",
            "                                                                 \n",
            " max_pooling2d_44 (MaxPoolin  (None, 12, 12, 256)      0         \n",
            " g2D)                                                            \n",
            "                                                                 \n",
            " conv2d_108 (Conv2D)         (None, 12, 12, 512)       131584    \n",
            "                                                                 \n",
            " conv2d_109 (Conv2D)         (None, 12, 12, 512)       262656    \n",
            "                                                                 \n",
            " batch_normalization_87 (Bat  (None, 12, 12, 512)      2048      \n",
            " chNormalization)                                                \n",
            "                                                                 \n",
            " max_pooling2d_45 (MaxPoolin  (None, 6, 6, 512)        0         \n",
            " g2D)                                                            \n",
            "                                                                 \n",
            " flatten_9 (Flatten)         (None, 18432)             0         \n",
            "                                                                 \n",
            " dropout_9 (Dropout)         (None, 18432)             0         \n",
            "                                                                 \n",
            " dense_38 (Dense)            (None, 512)               9437696   \n",
            "                                                                 \n",
            " batch_normalization_88 (Bat  (None, 512)              2048      \n",
            " chNormalization)                                                \n",
            "                                                                 \n",
            " dense_39 (Dense)            (None, 256)               131328    \n",
            "                                                                 \n",
            " batch_normalization_89 (Bat  (None, 256)              1024      \n",
            " chNormalization)                                                \n",
            "                                                                 \n",
            " dense_40 (Dense)            (None, 32)                8224      \n",
            "                                                                 \n",
            " batch_normalization_90 (Bat  (None, 32)               128       \n",
            " chNormalization)                                                \n",
            "                                                                 \n",
            " dense_41 (Dense)            (None, 7)                 231       \n",
            "                                                                 \n",
            "=================================================================\n",
            "Total params: 10,064,967\n",
            "Trainable params: 10,061,351\n",
            "Non-trainable params: 3,616\n",
            "_________________________________________________________________\n"
          ]
        }
      ],
      "source": [
        "network = Sequential()\n",
        "network.add(Conv2D(filters=16, kernel_size=(3,3), activation = 'relu', input_shape = (100,100,3), kernel_initializer=initializer1))\n",
        "network.add(Conv2D(filters=16, kernel_size=(1,1), activation = 'relu', padding='same', kernel_initializer=initializer1))\n",
        "network.add(Conv2D(filters=16, kernel_size=(3,3), activation = 'relu', padding='same', kernel_initializer=initializer1))\n",
        "network.add(BatchNormalization())\n",
        "#network.add(MaxPool2D(pool_size=(2,2)))\n",
        "\n",
        "network.add(Conv2D(filters=32, kernel_size=(3,3), activation = 'relu', padding='same', kernel_initializer=initializer1))\n",
        "network.add(Conv2D(filters=32, kernel_size=(3,3), activation = 'relu', padding='same', kernel_initializer=initializer1))\n",
        "network.add(Conv2D(filters=32, kernel_size=(3,3), activation = 'relu', padding='same', kernel_initializer=initializer1))\n",
        "network.add(BatchNormalization())\n",
        "network.add(MaxPool2D(pool_size=(2,2)))\n",
        "\n",
        "\n",
        "network.add(Conv2D(filters=64, kernel_size=(3,3), activation = 'relu', padding='same', kernel_initializer=initializer1))\n",
        "#network.add(Conv2D(filters=64, kernel_size=(3,3), activation = 'relu', padding='same', kernel_initializer=initializer1))\n",
        "#network.add(Conv2D(filters=64, kernel_size=(3,3), activation = 'relu', padding='same', kernel_initializer=initializer1))\n",
        "network.add(BatchNormalization())\n",
        "network.add(MaxPool2D(pool_size=(2,2)))\n",
        "\n",
        "network.add(Conv2D(filters=128, kernel_size=(1,1), activation = 'relu', padding='same', kernel_initializer=initializer1))\n",
        "#network.add(Conv2D(filters=128, kernel_size=(3,3), activation = 'relu', padding='same', kernel_initializer=initializer1))\n",
        "#network.add(Conv2D(filters=128, kernel_size=(3,3), activation = 'relu', padding='same', kernel_initializer=initializer1))\n",
        "network.add(BatchNormalization())\n",
        "#network.add(MaxPool2D(pool_size=(2,2)))\n",
        "\n",
        "network.add(Conv2D(filters=256, kernel_size=(1,1), activation = 'relu', padding='same', kernel_initializer=initializer1))\n",
        "#network.add(Conv2D(filters=256, kernel_size=(1,1), activation = 'relu', padding='same', kernel_initializer=initializer1))\n",
        "#network.add(Conv2D(filters=256, kernel_size=(1,1), activation = 'relu', padding='same', kernel_initializer=initializer1))\n",
        "network.add(BatchNormalization())\n",
        "network.add(MaxPool2D(pool_size=(2,2)))\n",
        "\n",
        "network.add(Conv2D(filters=512, kernel_size=(1,1), activation = 'relu', padding='same', kernel_initializer=initializer1))\n",
        "network.add(Conv2D(filters=512, kernel_size=(1,1), activation = 'relu', padding='same', kernel_initializer=initializer1))\n",
        "network.add(BatchNormalization())\n",
        "network.add(MaxPool2D(pool_size=(2,2)))\n",
        "\n",
        "network.add(Flatten())\n",
        "\n",
        "network.add(Dropout(0.24))\n",
        "network.add(Dense(units = 512, activation = 'relu', kernel_initializer=initializer1))\n",
        "network.add(BatchNormalization())\n",
        "network.add(Dense(units = 256, activation = 'relu', kernel_initializer=initializer1))\n",
        "network.add(BatchNormalization())\n",
        "#network.add(Dense(units = 128, activation = 'relu', kernel_initializer=initializer1))\n",
        "#network.add(BatchNormalization())\n",
        "#network.add(Dense(units = 64, activation = 'relu', kernel_initializer=initializer1))\n",
        "#network.add(BatchNormalization())\n",
        "network.add(Dense(units = 32, activation = 'relu', kernel_initializer=initializer1))\n",
        "network.add(BatchNormalization())\n",
        "#network.add(Dense(units = 16, activation = 'relu', kernel_initializer=initializer1, kernel_regularizer=tf.keras.regularizers.L1L2()))\n",
        "#network.add(BatchNormalization())\n",
        "network.add(Dense(units = 7, activation = 'softmax', kernel_initializer=initializer2))\n",
        "network.summary()"
      ]
    },
    {
      "cell_type": "code",
      "execution_count": 79,
      "metadata": {
        "id": "6viOH_kUE4Bq"
      },
      "outputs": [],
      "source": [
        "from tensorflow.keras.optimizers import Adam\n",
        "#opt = Adam(lr=0.005)\n",
        "opt = Adam()\n",
        "network.compile(optimizer='Adam', loss='categorical_crossentropy', metrics = ['accuracy'])\n"
      ]
    },
    {
      "cell_type": "code",
      "execution_count": 80,
      "metadata": {
        "id": "5IXmjfYmbuYh"
      },
      "outputs": [],
      "source": [
        "es = EarlyStopping(monitor = 'val_accuracy', min_delta = 0.001, patience = 20, verbose =1)\n",
        "model_cp = ModelCheckpoint(filepath = 'best_model8.h5', monitor = 'val_accuracy', save_best_only = True, verbose = 1)\n",
        "learning_rate_reduction = ReduceLROnPlateau(monitor='val_accuracy', patience = 5, verbose=1, factor=0.5, min_lr=0.00001)"
      ]
    },
    {
      "cell_type": "code",
      "execution_count": 81,
      "metadata": {
        "colab": {
          "base_uri": "https://localhost:8080/"
        },
        "id": "Uk8BSV5gGazz",
        "outputId": "75aea6b4-eca2-471c-cb36-9fa51e8b4971"
      },
      "outputs": [
        {
          "output_type": "stream",
          "name": "stdout",
          "text": [
            "Epoch 1/100\n"
          ]
        },
        {
          "output_type": "stream",
          "name": "stderr",
          "text": [
            "<ipython-input-81-d45876fe1552>:1: UserWarning: `Model.fit_generator` is deprecated and will be removed in a future version. Please use `Model.fit`, which supports generators.\n",
            "  history = network.fit_generator(train_dataset,\n"
          ]
        },
        {
          "output_type": "stream",
          "name": "stdout",
          "text": [
            "50/50 [==============================] - ETA: 0s - loss: 1.4564 - accuracy: 0.5020\n",
            "Epoch 1: val_accuracy improved from -inf to 0.14000, saving model to best_model8.h5\n",
            "50/50 [==============================] - 38s 742ms/step - loss: 1.4564 - accuracy: 0.5020 - val_loss: 4.6636 - val_accuracy: 0.1400 - lr: 0.0010\n",
            "Epoch 2/100\n",
            "50/50 [==============================] - ETA: 0s - loss: 1.2266 - accuracy: 0.5700\n",
            "Epoch 2: val_accuracy improved from 0.14000 to 0.20000, saving model to best_model8.h5\n",
            "50/50 [==============================] - 39s 780ms/step - loss: 1.2266 - accuracy: 0.5700 - val_loss: 2.9477 - val_accuracy: 0.2000 - lr: 0.0010\n",
            "Epoch 3/100\n",
            "50/50 [==============================] - ETA: 0s - loss: 1.0492 - accuracy: 0.6140\n",
            "Epoch 3: val_accuracy improved from 0.20000 to 0.38000, saving model to best_model8.h5\n",
            "50/50 [==============================] - 39s 772ms/step - loss: 1.0492 - accuracy: 0.6140 - val_loss: 1.9758 - val_accuracy: 0.3800 - lr: 0.0010\n",
            "Epoch 4/100\n",
            "50/50 [==============================] - ETA: 0s - loss: 1.0577 - accuracy: 0.6240\n",
            "Epoch 4: val_accuracy did not improve from 0.38000\n",
            "50/50 [==============================] - 38s 758ms/step - loss: 1.0577 - accuracy: 0.6240 - val_loss: 1.7445 - val_accuracy: 0.3800 - lr: 0.0010\n",
            "Epoch 5/100\n",
            "50/50 [==============================] - ETA: 0s - loss: 1.1122 - accuracy: 0.6240\n",
            "Epoch 5: val_accuracy improved from 0.38000 to 0.52000, saving model to best_model8.h5\n",
            "50/50 [==============================] - 37s 736ms/step - loss: 1.1122 - accuracy: 0.6240 - val_loss: 1.2751 - val_accuracy: 0.5200 - lr: 0.0010\n",
            "Epoch 6/100\n",
            "50/50 [==============================] - ETA: 0s - loss: 0.8640 - accuracy: 0.6880\n",
            "Epoch 6: val_accuracy did not improve from 0.52000\n",
            "50/50 [==============================] - 38s 770ms/step - loss: 0.8640 - accuracy: 0.6880 - val_loss: 1.8648 - val_accuracy: 0.4200 - lr: 0.0010\n",
            "Epoch 7/100\n",
            "50/50 [==============================] - ETA: 0s - loss: 0.9726 - accuracy: 0.6606\n",
            "Epoch 7: val_accuracy did not improve from 0.52000\n",
            "50/50 [==============================] - 36s 725ms/step - loss: 0.9726 - accuracy: 0.6606 - val_loss: 1.6648 - val_accuracy: 0.3400 - lr: 0.0010\n",
            "Epoch 8/100\n",
            "50/50 [==============================] - ETA: 0s - loss: 0.8623 - accuracy: 0.6720\n",
            "Epoch 8: val_accuracy did not improve from 0.52000\n",
            "50/50 [==============================] - 36s 721ms/step - loss: 0.8623 - accuracy: 0.6720 - val_loss: 2.2499 - val_accuracy: 0.3800 - lr: 0.0010\n",
            "Epoch 9/100\n",
            "50/50 [==============================] - ETA: 0s - loss: 0.9935 - accuracy: 0.6560\n",
            "Epoch 9: val_accuracy improved from 0.52000 to 0.56000, saving model to best_model8.h5\n",
            "50/50 [==============================] - 36s 724ms/step - loss: 0.9935 - accuracy: 0.6560 - val_loss: 1.2037 - val_accuracy: 0.5600 - lr: 0.0010\n",
            "Epoch 10/100\n",
            "50/50 [==============================] - ETA: 0s - loss: 0.8442 - accuracy: 0.7120\n",
            "Epoch 10: val_accuracy improved from 0.56000 to 0.66000, saving model to best_model8.h5\n",
            "50/50 [==============================] - 38s 760ms/step - loss: 0.8442 - accuracy: 0.7120 - val_loss: 0.8759 - val_accuracy: 0.6600 - lr: 0.0010\n",
            "Epoch 11/100\n",
            "50/50 [==============================] - ETA: 0s - loss: 0.8736 - accuracy: 0.6820\n",
            "Epoch 11: val_accuracy improved from 0.66000 to 0.78000, saving model to best_model8.h5\n",
            "50/50 [==============================] - 37s 747ms/step - loss: 0.8736 - accuracy: 0.6820 - val_loss: 0.7726 - val_accuracy: 0.7800 - lr: 0.0010\n",
            "Epoch 12/100\n",
            "50/50 [==============================] - ETA: 0s - loss: 0.9087 - accuracy: 0.7040\n",
            "Epoch 12: val_accuracy did not improve from 0.78000\n",
            "50/50 [==============================] - 36s 717ms/step - loss: 0.9087 - accuracy: 0.7040 - val_loss: 0.9474 - val_accuracy: 0.7400 - lr: 0.0010\n",
            "Epoch 13/100\n",
            "50/50 [==============================] - ETA: 0s - loss: 0.8642 - accuracy: 0.6980\n",
            "Epoch 13: val_accuracy did not improve from 0.78000\n",
            "50/50 [==============================] - 37s 738ms/step - loss: 0.8642 - accuracy: 0.6980 - val_loss: 1.3525 - val_accuracy: 0.5800 - lr: 0.0010\n",
            "Epoch 14/100\n",
            "50/50 [==============================] - ETA: 0s - loss: 0.8860 - accuracy: 0.6880\n",
            "Epoch 14: val_accuracy did not improve from 0.78000\n",
            "50/50 [==============================] - 36s 716ms/step - loss: 0.8860 - accuracy: 0.6880 - val_loss: 0.8051 - val_accuracy: 0.7400 - lr: 0.0010\n",
            "Epoch 15/100\n",
            "50/50 [==============================] - ETA: 0s - loss: 0.7959 - accuracy: 0.7380\n",
            "Epoch 15: val_accuracy did not improve from 0.78000\n",
            "50/50 [==============================] - 38s 763ms/step - loss: 0.7959 - accuracy: 0.7380 - val_loss: 0.9319 - val_accuracy: 0.7600 - lr: 0.0010\n",
            "Epoch 16/100\n",
            "50/50 [==============================] - ETA: 0s - loss: 0.8370 - accuracy: 0.7008\n",
            "Epoch 16: val_accuracy did not improve from 0.78000\n",
            "\n",
            "Epoch 16: ReduceLROnPlateau reducing learning rate to 0.0005000000237487257.\n",
            "50/50 [==============================] - 36s 714ms/step - loss: 0.8370 - accuracy: 0.7008 - val_loss: 0.7107 - val_accuracy: 0.7600 - lr: 0.0010\n",
            "Epoch 17/100\n",
            "50/50 [==============================] - ETA: 0s - loss: 0.8133 - accuracy: 0.7040\n",
            "Epoch 17: val_accuracy improved from 0.78000 to 0.82000, saving model to best_model8.h5\n",
            "50/50 [==============================] - 36s 724ms/step - loss: 0.8133 - accuracy: 0.7040 - val_loss: 0.5469 - val_accuracy: 0.8200 - lr: 5.0000e-04\n",
            "Epoch 18/100\n",
            "50/50 [==============================] - ETA: 0s - loss: 0.7723 - accuracy: 0.7080\n",
            "Epoch 18: val_accuracy did not improve from 0.82000\n",
            "50/50 [==============================] - 36s 720ms/step - loss: 0.7723 - accuracy: 0.7080 - val_loss: 0.4510 - val_accuracy: 0.8200 - lr: 5.0000e-04\n",
            "Epoch 19/100\n",
            "50/50 [==============================] - ETA: 0s - loss: 0.7472 - accuracy: 0.7420\n",
            "Epoch 19: val_accuracy did not improve from 0.82000\n",
            "50/50 [==============================] - 38s 747ms/step - loss: 0.7472 - accuracy: 0.7420 - val_loss: 0.7444 - val_accuracy: 0.7400 - lr: 5.0000e-04\n",
            "Epoch 20/100\n",
            "50/50 [==============================] - ETA: 0s - loss: 0.7688 - accuracy: 0.7120\n",
            "Epoch 20: val_accuracy did not improve from 0.82000\n",
            "50/50 [==============================] - 36s 718ms/step - loss: 0.7688 - accuracy: 0.7120 - val_loss: 0.8344 - val_accuracy: 0.7600 - lr: 5.0000e-04\n",
            "Epoch 21/100\n",
            "50/50 [==============================] - ETA: 0s - loss: 0.7512 - accuracy: 0.7340\n",
            "Epoch 21: val_accuracy improved from 0.82000 to 0.86000, saving model to best_model8.h5\n",
            "50/50 [==============================] - 38s 761ms/step - loss: 0.7512 - accuracy: 0.7340 - val_loss: 0.5800 - val_accuracy: 0.8600 - lr: 5.0000e-04\n",
            "Epoch 22/100\n",
            "50/50 [==============================] - ETA: 0s - loss: 0.8072 - accuracy: 0.7180\n",
            "Epoch 22: val_accuracy did not improve from 0.86000\n",
            "50/50 [==============================] - 36s 728ms/step - loss: 0.8072 - accuracy: 0.7180 - val_loss: 0.6050 - val_accuracy: 0.8000 - lr: 5.0000e-04\n",
            "Epoch 23/100\n",
            "50/50 [==============================] - ETA: 0s - loss: 0.7222 - accuracy: 0.7440\n",
            "Epoch 23: val_accuracy did not improve from 0.86000\n",
            "50/50 [==============================] - 36s 717ms/step - loss: 0.7222 - accuracy: 0.7440 - val_loss: 0.5813 - val_accuracy: 0.8000 - lr: 5.0000e-04\n",
            "Epoch 24/100\n",
            "50/50 [==============================] - ETA: 0s - loss: 0.7811 - accuracy: 0.7160\n",
            "Epoch 24: val_accuracy did not improve from 0.86000\n",
            "50/50 [==============================] - 38s 760ms/step - loss: 0.7811 - accuracy: 0.7160 - val_loss: 0.5180 - val_accuracy: 0.8600 - lr: 5.0000e-04\n",
            "Epoch 25/100\n",
            "50/50 [==============================] - ETA: 0s - loss: 0.7280 - accuracy: 0.7320\n",
            "Epoch 25: val_accuracy did not improve from 0.86000\n",
            "50/50 [==============================] - 36s 719ms/step - loss: 0.7280 - accuracy: 0.7320 - val_loss: 0.6115 - val_accuracy: 0.7800 - lr: 5.0000e-04\n",
            "Epoch 26/100\n",
            "50/50 [==============================] - ETA: 0s - loss: 0.6990 - accuracy: 0.7660\n",
            "Epoch 26: val_accuracy did not improve from 0.86000\n",
            "\n",
            "Epoch 26: ReduceLROnPlateau reducing learning rate to 0.0002500000118743628.\n",
            "50/50 [==============================] - 38s 750ms/step - loss: 0.6990 - accuracy: 0.7660 - val_loss: 0.5050 - val_accuracy: 0.8400 - lr: 5.0000e-04\n",
            "Epoch 27/100\n",
            "50/50 [==============================] - ETA: 0s - loss: 0.6700 - accuracy: 0.7680\n",
            "Epoch 27: val_accuracy improved from 0.86000 to 0.92000, saving model to best_model8.h5\n",
            "50/50 [==============================] - 36s 725ms/step - loss: 0.6700 - accuracy: 0.7680 - val_loss: 0.3563 - val_accuracy: 0.9200 - lr: 2.5000e-04\n",
            "Epoch 28/100\n",
            "50/50 [==============================] - ETA: 0s - loss: 0.6283 - accuracy: 0.7880\n",
            "Epoch 28: val_accuracy did not improve from 0.92000\n",
            "50/50 [==============================] - 36s 715ms/step - loss: 0.6283 - accuracy: 0.7880 - val_loss: 0.6126 - val_accuracy: 0.7800 - lr: 2.5000e-04\n",
            "Epoch 29/100\n",
            "50/50 [==============================] - ETA: 0s - loss: 0.6336 - accuracy: 0.7820\n",
            "Epoch 29: val_accuracy did not improve from 0.92000\n",
            "50/50 [==============================] - 37s 744ms/step - loss: 0.6336 - accuracy: 0.7820 - val_loss: 0.6046 - val_accuracy: 0.8200 - lr: 2.5000e-04\n",
            "Epoch 30/100\n",
            "50/50 [==============================] - ETA: 0s - loss: 0.6129 - accuracy: 0.7780\n",
            "Epoch 30: val_accuracy did not improve from 0.92000\n",
            "50/50 [==============================] - 37s 725ms/step - loss: 0.6129 - accuracy: 0.7780 - val_loss: 0.3976 - val_accuracy: 0.8800 - lr: 2.5000e-04\n",
            "Epoch 31/100\n",
            "50/50 [==============================] - ETA: 0s - loss: 0.7013 - accuracy: 0.7580\n",
            "Epoch 31: val_accuracy did not improve from 0.92000\n",
            "50/50 [==============================] - 38s 755ms/step - loss: 0.7013 - accuracy: 0.7580 - val_loss: 0.4243 - val_accuracy: 0.8400 - lr: 2.5000e-04\n",
            "Epoch 32/100\n",
            "50/50 [==============================] - ETA: 0s - loss: 0.6132 - accuracy: 0.7840\n",
            "Epoch 32: val_accuracy did not improve from 0.92000\n",
            "\n",
            "Epoch 32: ReduceLROnPlateau reducing learning rate to 0.0001250000059371814.\n",
            "50/50 [==============================] - 36s 730ms/step - loss: 0.6132 - accuracy: 0.7840 - val_loss: 0.6006 - val_accuracy: 0.8000 - lr: 2.5000e-04\n",
            "Epoch 33/100\n",
            "50/50 [==============================] - ETA: 0s - loss: 0.5416 - accuracy: 0.8080\n",
            "Epoch 33: val_accuracy did not improve from 0.92000\n",
            "50/50 [==============================] - 36s 719ms/step - loss: 0.5416 - accuracy: 0.8080 - val_loss: 0.5590 - val_accuracy: 0.8200 - lr: 1.2500e-04\n",
            "Epoch 34/100\n",
            "50/50 [==============================] - ETA: 0s - loss: 0.6628 - accuracy: 0.7540\n",
            "Epoch 34: val_accuracy did not improve from 0.92000\n",
            "50/50 [==============================] - 36s 720ms/step - loss: 0.6628 - accuracy: 0.7540 - val_loss: 0.3469 - val_accuracy: 0.8600 - lr: 1.2500e-04\n",
            "Epoch 35/100\n",
            "50/50 [==============================] - ETA: 0s - loss: 0.6114 - accuracy: 0.7980\n",
            "Epoch 35: val_accuracy improved from 0.92000 to 0.98000, saving model to best_model8.h5\n",
            "50/50 [==============================] - 37s 739ms/step - loss: 0.6114 - accuracy: 0.7980 - val_loss: 0.2846 - val_accuracy: 0.9800 - lr: 1.2500e-04\n",
            "Epoch 36/100\n",
            "50/50 [==============================] - ETA: 0s - loss: 0.5242 - accuracy: 0.8120\n",
            "Epoch 36: val_accuracy did not improve from 0.98000\n",
            "50/50 [==============================] - 36s 720ms/step - loss: 0.5242 - accuracy: 0.8120 - val_loss: 0.4595 - val_accuracy: 0.8200 - lr: 1.2500e-04\n",
            "Epoch 37/100\n",
            "50/50 [==============================] - ETA: 0s - loss: 0.6091 - accuracy: 0.7771\n",
            "Epoch 37: val_accuracy did not improve from 0.98000\n",
            "50/50 [==============================] - 36s 715ms/step - loss: 0.6091 - accuracy: 0.7771 - val_loss: 0.5778 - val_accuracy: 0.8000 - lr: 1.2500e-04\n",
            "Epoch 38/100\n",
            "50/50 [==============================] - ETA: 0s - loss: 0.6342 - accuracy: 0.7760\n",
            "Epoch 38: val_accuracy did not improve from 0.98000\n",
            "50/50 [==============================] - 37s 725ms/step - loss: 0.6342 - accuracy: 0.7760 - val_loss: 0.4756 - val_accuracy: 0.8800 - lr: 1.2500e-04\n",
            "Epoch 39/100\n",
            "50/50 [==============================] - ETA: 0s - loss: 0.5410 - accuracy: 0.8200\n",
            "Epoch 39: val_accuracy did not improve from 0.98000\n",
            "50/50 [==============================] - 37s 735ms/step - loss: 0.5410 - accuracy: 0.8200 - val_loss: 0.6170 - val_accuracy: 0.7600 - lr: 1.2500e-04\n",
            "Epoch 40/100\n",
            "50/50 [==============================] - ETA: 0s - loss: 0.6195 - accuracy: 0.7720\n",
            "Epoch 40: val_accuracy did not improve from 0.98000\n",
            "\n",
            "Epoch 40: ReduceLROnPlateau reducing learning rate to 6.25000029685907e-05.\n",
            "50/50 [==============================] - 36s 717ms/step - loss: 0.6195 - accuracy: 0.7720 - val_loss: 0.3982 - val_accuracy: 0.8800 - lr: 1.2500e-04\n",
            "Epoch 41/100\n",
            "50/50 [==============================] - ETA: 0s - loss: 0.5474 - accuracy: 0.8180\n",
            "Epoch 41: val_accuracy did not improve from 0.98000\n",
            "50/50 [==============================] - 38s 754ms/step - loss: 0.5474 - accuracy: 0.8180 - val_loss: 0.4296 - val_accuracy: 0.8600 - lr: 6.2500e-05\n",
            "Epoch 42/100\n",
            "50/50 [==============================] - ETA: 0s - loss: 0.5503 - accuracy: 0.8280\n",
            "Epoch 42: val_accuracy did not improve from 0.98000\n",
            "50/50 [==============================] - 36s 719ms/step - loss: 0.5503 - accuracy: 0.8280 - val_loss: 0.3957 - val_accuracy: 0.8800 - lr: 6.2500e-05\n",
            "Epoch 43/100\n",
            "50/50 [==============================] - ETA: 0s - loss: 0.5888 - accuracy: 0.8060\n",
            "Epoch 43: val_accuracy did not improve from 0.98000\n",
            "50/50 [==============================] - 38s 758ms/step - loss: 0.5888 - accuracy: 0.8060 - val_loss: 0.2334 - val_accuracy: 0.9400 - lr: 6.2500e-05\n",
            "Epoch 44/100\n",
            "50/50 [==============================] - ETA: 0s - loss: 0.5752 - accuracy: 0.8100\n",
            "Epoch 44: val_accuracy did not improve from 0.98000\n",
            "50/50 [==============================] - 36s 720ms/step - loss: 0.5752 - accuracy: 0.8100 - val_loss: 0.3245 - val_accuracy: 0.9000 - lr: 6.2500e-05\n",
            "Epoch 45/100\n",
            "50/50 [==============================] - ETA: 0s - loss: 0.5117 - accuracy: 0.8280\n",
            "Epoch 45: val_accuracy did not improve from 0.98000\n",
            "\n",
            "Epoch 45: ReduceLROnPlateau reducing learning rate to 3.125000148429535e-05.\n",
            "50/50 [==============================] - 38s 758ms/step - loss: 0.5117 - accuracy: 0.8280 - val_loss: 0.3537 - val_accuracy: 0.9000 - lr: 6.2500e-05\n",
            "Epoch 46/100\n",
            "50/50 [==============================] - ETA: 0s - loss: 0.4992 - accuracy: 0.8360\n",
            "Epoch 46: val_accuracy did not improve from 0.98000\n",
            "50/50 [==============================] - 36s 719ms/step - loss: 0.4992 - accuracy: 0.8360 - val_loss: 0.2987 - val_accuracy: 0.9200 - lr: 3.1250e-05\n",
            "Epoch 47/100\n",
            "50/50 [==============================] - ETA: 0s - loss: 0.5876 - accuracy: 0.8160\n",
            "Epoch 47: val_accuracy did not improve from 0.98000\n",
            "50/50 [==============================] - 36s 714ms/step - loss: 0.5876 - accuracy: 0.8160 - val_loss: 0.3431 - val_accuracy: 0.8600 - lr: 3.1250e-05\n",
            "Epoch 48/100\n",
            "50/50 [==============================] - ETA: 0s - loss: 0.6077 - accuracy: 0.8100\n",
            "Epoch 48: val_accuracy did not improve from 0.98000\n",
            "50/50 [==============================] - 39s 774ms/step - loss: 0.6077 - accuracy: 0.8100 - val_loss: 0.2930 - val_accuracy: 0.8800 - lr: 3.1250e-05\n",
            "Epoch 49/100\n",
            "50/50 [==============================] - ETA: 0s - loss: 0.5899 - accuracy: 0.7800\n",
            "Epoch 49: val_accuracy did not improve from 0.98000\n",
            "50/50 [==============================] - 36s 718ms/step - loss: 0.5899 - accuracy: 0.7800 - val_loss: 0.5100 - val_accuracy: 0.7800 - lr: 3.1250e-05\n",
            "Epoch 50/100\n",
            "50/50 [==============================] - ETA: 0s - loss: 0.6298 - accuracy: 0.7760\n",
            "Epoch 50: val_accuracy did not improve from 0.98000\n",
            "\n",
            "Epoch 50: ReduceLROnPlateau reducing learning rate to 1.5625000742147677e-05.\n",
            "50/50 [==============================] - 36s 715ms/step - loss: 0.6298 - accuracy: 0.7760 - val_loss: 0.4320 - val_accuracy: 0.8400 - lr: 3.1250e-05\n",
            "Epoch 51/100\n",
            "50/50 [==============================] - ETA: 0s - loss: 0.4647 - accuracy: 0.8380\n",
            "Epoch 51: val_accuracy did not improve from 0.98000\n",
            "50/50 [==============================] - 38s 757ms/step - loss: 0.4647 - accuracy: 0.8380 - val_loss: 0.5158 - val_accuracy: 0.7800 - lr: 1.5625e-05\n",
            "Epoch 52/100\n",
            "50/50 [==============================] - ETA: 0s - loss: 0.5341 - accuracy: 0.8040\n",
            "Epoch 52: val_accuracy did not improve from 0.98000\n",
            "50/50 [==============================] - 36s 721ms/step - loss: 0.5341 - accuracy: 0.8040 - val_loss: 0.3794 - val_accuracy: 0.8600 - lr: 1.5625e-05\n",
            "Epoch 53/100\n",
            "50/50 [==============================] - ETA: 0s - loss: 0.5266 - accuracy: 0.8200\n",
            "Epoch 53: val_accuracy did not improve from 0.98000\n",
            "50/50 [==============================] - 38s 755ms/step - loss: 0.5266 - accuracy: 0.8200 - val_loss: 0.3809 - val_accuracy: 0.8400 - lr: 1.5625e-05\n",
            "Epoch 54/100\n",
            "50/50 [==============================] - ETA: 0s - loss: 0.5698 - accuracy: 0.7920\n",
            "Epoch 54: val_accuracy did not improve from 0.98000\n",
            "50/50 [==============================] - 37s 739ms/step - loss: 0.5698 - accuracy: 0.7920 - val_loss: 0.3246 - val_accuracy: 0.8400 - lr: 1.5625e-05\n",
            "Epoch 55/100\n",
            "50/50 [==============================] - ETA: 0s - loss: 0.4521 - accuracy: 0.8400\n",
            "Epoch 55: val_accuracy did not improve from 0.98000\n",
            "\n",
            "Epoch 55: ReduceLROnPlateau reducing learning rate to 1e-05.\n",
            "50/50 [==============================] - 37s 728ms/step - loss: 0.4521 - accuracy: 0.8400 - val_loss: 0.6102 - val_accuracy: 0.8200 - lr: 1.5625e-05\n",
            "Epoch 55: early stopping\n"
          ]
        }
      ],
      "source": [
        "history = network.fit_generator(train_dataset,\n",
        "                                steps_per_epoch = 50,\n",
        "                                validation_data = validation_dataset,\n",
        "                                validation_steps = 50,\n",
        "                                epochs=100,\n",
        "                                callbacks=[es, model_cp, learning_rate_reduction])"
      ]
    },
    {
      "cell_type": "code",
      "execution_count": 82,
      "metadata": {
        "id": "4xXIb__YN8jO"
      },
      "outputs": [],
      "source": [
        "predictions=network.predict(test_datatset)\n",
        "predictions = np.argmax(predictions, axis=1)"
      ]
    },
    {
      "cell_type": "code",
      "execution_count": 83,
      "metadata": {
        "colab": {
          "base_uri": "https://localhost:8080/"
        },
        "id": "MfitKd4WOO0c",
        "outputId": "9aff5573-b654-4ac3-9b97-f10137398f56"
      },
      "outputs": [
        {
          "output_type": "execute_result",
          "data": {
            "text/plain": [
              "0.8595988538681948"
            ]
          },
          "metadata": {},
          "execution_count": 83
        }
      ],
      "source": [
        "from sklearn.metrics import accuracy_score\n",
        "accuracy_score(test_datatset.classes, predictions)"
      ]
    },
    {
      "cell_type": "code",
      "execution_count": 84,
      "metadata": {
        "colab": {
          "base_uri": "https://localhost:8080/",
          "height": 435
        },
        "id": "CwufQs6AOjVu",
        "outputId": "b1b4a90f-cb4c-4e48-ef61-b31094f66069"
      },
      "outputs": [
        {
          "output_type": "display_data",
          "data": {
            "text/plain": [
              "<Figure size 640x480 with 2 Axes>"
            ],
            "image/png": "[encoded data removed]"
          },
          "metadata": {}
        }
      ],
      "source": [
        "from sklearn.metrics import confusion_matrix\n",
        "cm = confusion_matrix(test_datatset.classes, predictions)\n",
        "sns.heatmap(cm, annot=True);"
      ]
    },
    {
      "cell_type": "code",
      "execution_count": 85,
      "metadata": {
        "colab": {
          "base_uri": "https://localhost:8080/"
        },
        "id": "lfg484OCPGqq",
        "outputId": "cb39c40f-dfc7-415e-e188-cc8d1dc1079d"
      },
      "outputs": [
        {
          "output_type": "stream",
          "name": "stdout",
          "text": [
            "              precision    recall  f1-score   support\n",
            "\n",
            "           0       0.88      1.00      0.94       198\n",
            "           1       1.00      1.00      1.00       200\n",
            "           2       0.73      0.81      0.76       200\n",
            "           3       0.82      0.61      0.70       199\n",
            "           4       0.90      0.91      0.90       200\n",
            "           5       0.83      0.80      0.81       199\n",
            "           6       0.86      0.90      0.88       200\n",
            "\n",
            "    accuracy                           0.86      1396\n",
            "   macro avg       0.86      0.86      0.86      1396\n",
            "weighted avg       0.86      0.86      0.86      1396\n",
            "\n"
          ]
        }
      ],
      "source": [
        "from sklearn.metrics import classification_report\n",
        "print(classification_report(test_datatset.classes, predictions))"
      ]
    },
    {
      "cell_type": "code",
      "execution_count": 86,
      "metadata": {
        "colab": {
          "base_uri": "https://localhost:8080/",
          "height": 472
        },
        "id": "AwBdQqe9Porm",
        "outputId": "cebe2312-c7fc-4913-8ea9-ad535307442c"
      },
      "outputs": [
        {
          "output_type": "display_data",
          "data": {
            "text/plain": [
              "<Figure size 640x480 with 1 Axes>"
            ],
            "image/png": "[encoded data removed]"
          },
          "metadata": {}
        }
      ],
      "source": [
        "plt.plot(history.history['accuracy'])\n",
        "plt.plot(history.history['val_accuracy'])\n",
        "plt.title('model accuracy')\n",
        "plt.ylabel('accuracy')\n",
        "plt.xlabel('epoch')\n",
        "plt.legend(['train', 'val'], loc='upper left')\n",
        "plt.show()"
      ]
    },
    {
      "cell_type": "code",
      "execution_count": 87,
      "metadata": {
        "colab": {
          "base_uri": "https://localhost:8080/",
          "height": 472
        },
        "id": "vVr7AUw8SNre",
        "outputId": "56ca0c6d-8ba6-4570-b00f-e0bd4a7e1833"
      },
      "outputs": [
        {
          "output_type": "display_data",
          "data": {
            "text/plain": [
              "<Figure size 640x480 with 1 Axes>"
            ],
            "image/png": "[encoded data removed]"
          },
          "metadata": {}
        }
      ],
      "source": [
        "plt.plot(history.history['loss'])\n",
        "plt.plot(history.history['val_loss'])\n",
        "plt.title('model loss')\n",
        "plt.ylabel('loss')\n",
        "plt.xlabel('epoch')\n",
        "plt.legend(['train', 'val'], loc='upper left')\n",
        "plt.show()"
      ]
    },
    {
      "cell_type": "code",
      "execution_count": 88,
      "metadata": {
        "id": "pnmlR6M8gih2"
      },
      "outputs": [],
      "source": [
        "from tensorflow.keras.models import load_model\n",
        "model = load_model('/content/best_model8.h5')"
      ]
    },
    {
      "cell_type": "code",
      "execution_count": 89,
      "metadata": {
        "colab": {
          "base_uri": "https://localhost:8080/"
        },
        "id": "P5SUDIaUg8-G",
        "outputId": "a37b515e-946e-4e6e-b1e9-dfa315bf8a74"
      },
      "outputs": [
        {
          "output_type": "stream",
          "name": "stdout",
          "text": [
            "1396/1396 [==============================] - 33s 24ms/step - loss: 0.4224 - accuracy: 0.8589\n"
          ]
        },
        {
          "output_type": "execute_result",
          "data": {
            "text/plain": [
              "[0.42236486077308655, 0.8588825464248657]"
            ]
          },
          "metadata": {},
          "execution_count": 89
        }
      ],
      "source": [
        "model.evaluate(test_datatset)"
      ]
    },
    {
      "cell_type": "code",
      "execution_count": 90,
      "metadata": {
        "colab": {
          "base_uri": "https://localhost:8080/",
          "height": 435
        },
        "id": "Zqq4ec2JhKgt",
        "outputId": "bd2718d9-531a-40bb-f2f3-e9c9e39aa1e7"
      },
      "outputs": [
        {
          "output_type": "display_data",
          "data": {
            "text/plain": [
              "<Figure size 640x480 with 2 Axes>"
            ],
            "image/png": "[encoded data removed]"
          },
          "metadata": {}
        }
      ],
      "source": [
        "pred = model.predict(test_datatset)\n",
        "pred = np.argmax(pred, axis=1)\n",
        "cm = confusion_matrix(test_datatset.classes, pred)\n",
        "sns.heatmap(cm, annot=True);"
      ]
    },
    {
      "cell_type": "code",
      "execution_count": 91,
      "metadata": {
        "colab": {
          "base_uri": "https://localhost:8080/"
        },
        "id": "e2TSljdej81S",
        "outputId": "3cee0963-4fae-4075-96e2-64ff87cb9b10"
      },
      "outputs": [
        {
          "output_type": "stream",
          "name": "stdout",
          "text": [
            "              precision    recall  f1-score   support\n",
            "\n",
            "           0       0.92      0.98      0.95       198\n",
            "           1       1.00      1.00      1.00       200\n",
            "           2       0.77      0.71      0.74       200\n",
            "           3       0.71      0.69      0.70       199\n",
            "           4       0.87      0.94      0.90       200\n",
            "           5       0.83      0.81      0.82       199\n",
            "           6       0.90      0.88      0.89       200\n",
            "\n",
            "    accuracy                           0.86      1396\n",
            "   macro avg       0.86      0.86      0.86      1396\n",
            "weighted avg       0.86      0.86      0.86      1396\n",
            "\n"
          ]
        }
      ],
      "source": [
        "print(classification_report(test_datatset.classes, pred))"
      ]
    },
    {
      "cell_type": "code",
      "execution_count": 92,
      "metadata": {
        "id": "jzbwiv0ikEVG"
      },
      "outputs": [],
      "source": [
        "network.save('network.h5')"
      ]
    },
    {
      "cell_type": "code",
      "execution_count": 93,
      "metadata": {
        "id": "mTxEZdsQtlC4"
      },
      "outputs": [],
      "source": [
        "net = load_model('/content/network.h5')"
      ]
    },
    {
      "cell_type": "code",
      "execution_count": 94,
      "metadata": {
        "colab": {
          "base_uri": "https://localhost:8080/"
        },
        "id": "JgEg6VxztpAx",
        "outputId": "481e3ee5-205b-4e34-e181-c78da8b5f003"
      },
      "outputs": [
        {
          "output_type": "stream",
          "name": "stdout",
          "text": [
            "1396/1396 [==============================] - 34s 24ms/step - loss: 0.3990 - accuracy: 0.8596\n"
          ]
        },
        {
          "output_type": "execute_result",
          "data": {
            "text/plain": [
              "[0.39900562167167664, 0.8595988750457764]"
            ]
          },
          "metadata": {},
          "execution_count": 94
        }
      ],
      "source": [
        "net.evaluate(test_datatset)"
      ]
    },
    {
      "cell_type": "code",
      "execution_count": 95,
      "metadata": {
        "colab": {
          "base_uri": "https://localhost:8080/",
          "height": 435
        },
        "id": "6wbroQ7EvUvp",
        "outputId": "a04a94b6-8749-465a-c8f6-996f0e212a71"
      },
      "outputs": [
        {
          "output_type": "display_data",
          "data": {
            "text/plain": [
              "<Figure size 640x480 with 2 Axes>"
            ],
            "image/png": "[encoded data removed]"
          },
          "metadata": {}
        }
      ],
      "source": [
        "pre = net.predict(test_datatset)\n",
        "pre = np.argmax(pre, axis=1)\n",
        "cm = confusion_matrix(test_datatset.classes, pre)\n",
        "sns.heatmap(cm, annot=True);"
      ]
    },
    {
      "cell_type": "code",
      "execution_count": 96,
      "metadata": {
        "colab": {
          "base_uri": "https://localhost:8080/"
        },
        "id": "0c6L1deT_TAY",
        "outputId": "8734416d-281b-44f8-deaf-6e0638f8a887"
      },
      "outputs": [
        {
          "output_type": "stream",
          "name": "stdout",
          "text": [
            "              precision    recall  f1-score   support\n",
            "\n",
            "           0       0.92      0.98      0.95       198\n",
            "           1       1.00      1.00      1.00       200\n",
            "           2       0.77      0.71      0.74       200\n",
            "           3       0.71      0.69      0.70       199\n",
            "           4       0.87      0.94      0.90       200\n",
            "           5       0.83      0.81      0.82       199\n",
            "           6       0.90      0.88      0.89       200\n",
            "\n",
            "    accuracy                           0.86      1396\n",
            "   macro avg       0.86      0.86      0.86      1396\n",
            "weighted avg       0.86      0.86      0.86      1396\n",
            "\n"
          ]
        }
      ],
      "source": [
        "print(classification_report(test_datatset.classes, pred))"
      ]
    }
  ],
  "metadata": {
    "colab": {
      "provenance": [],
      "include_colab_link": true
    },
    "kernelspec": {
      "display_name": "Python 3",
      "name": "python3"
    },
    "language_info": {
      "name": "python"
    }
  },
  "nbformat": 4,
  "nbformat_minor": 0
}