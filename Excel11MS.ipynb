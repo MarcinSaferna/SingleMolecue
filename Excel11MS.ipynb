{
  "cells": [
    {
      "cell_type": "markdown",
      "metadata": {
        "id": "view-in-github",
        "colab_type": "text"
      },
      "source": [
        "<a href=\"https://colab.research.google.com/github/MarcinSaferna/SingleMolecue/blob/main/Excel11MS.ipynb\" target=\"_parent\"><img src=\"https://colab.research.google.com/assets/colab-badge.svg\" alt=\"Open In Colab\"/></a>"
      ]
    },
    {
      "cell_type": "code",
      "execution_count": 1,
      "metadata": {
        "colab": {
          "base_uri": "https://localhost:8080/"
        },
        "id": "647sNsjCJ0hX",
        "outputId": "7d49b4b5-3803-482d-a272-c900d13aa3e4"
      },
      "outputs": [
        {
          "output_type": "stream",
          "name": "stdout",
          "text": [
            "Requirement already satisfied: h5py in /usr/local/lib/python3.10/dist-packages (3.8.0)\n",
            "Requirement already satisfied: numpy>=1.14.5 in /usr/local/lib/python3.10/dist-packages (from h5py) (1.23.5)\n",
            "Requirement already satisfied: typing-extensions in /usr/local/lib/python3.10/dist-packages (4.7.1)\n",
            "Requirement already satisfied: wheel in /usr/local/lib/python3.10/dist-packages (0.41.0)\n"
          ]
        }
      ],
      "source": [
        "!pip install h5py\n",
        "!pip install typing-extensions\n",
        "!pip install wheel"
      ]
    },
    {
      "cell_type": "code",
      "execution_count": 2,
      "metadata": {
        "colab": {
          "base_uri": "https://localhost:8080/"
        },
        "id": "kq6qJdUqIWCQ",
        "outputId": "748ab166-88a7-41af-a3d4-c8a06b0ac235"
      },
      "outputs": [
        {
          "output_type": "stream",
          "name": "stdout",
          "text": [
            "Collecting tensorflow==2.8\n",
            "  Downloading tensorflow-2.8.0-cp310-cp310-manylinux2010_x86_64.whl (497.6 MB)\n",
            "\u001b[2K     \u001b[90m━━━━━━━━━━━━━━━━━━━━━━━━━━━━━━━━━━━━━━━\u001b[0m \u001b[32m497.6/497.6 MB\u001b[0m \u001b[31m2.5 MB/s\u001b[0m eta \u001b[36m0:00:00\u001b[0m\n",
            "\u001b[?25hRequirement already satisfied: absl-py>=0.4.0 in /usr/local/lib/python3.10/dist-packages (from tensorflow==2.8) (1.4.0)\n",
            "Requirement already satisfied: astunparse>=1.6.0 in /usr/local/lib/python3.10/dist-packages (from tensorflow==2.8) (1.6.3)\n",
            "Requirement already satisfied: flatbuffers>=1.12 in /usr/local/lib/python3.10/dist-packages (from tensorflow==2.8) (23.5.26)\n",
            "Requirement already satisfied: gast>=0.2.1 in /usr/local/lib/python3.10/dist-packages (from tensorflow==2.8) (0.4.0)\n",
            "Requirement already satisfied: google-pasta>=0.1.1 in /usr/local/lib/python3.10/dist-packages (from tensorflow==2.8) (0.2.0)\n",
            "Requirement already satisfied: h5py>=2.9.0 in /usr/local/lib/python3.10/dist-packages (from tensorflow==2.8) (3.8.0)\n",
            "Collecting keras-preprocessing>=1.1.1 (from tensorflow==2.8)\n",
            "  Downloading Keras_Preprocessing-1.1.2-py2.py3-none-any.whl (42 kB)\n",
            "\u001b[2K     \u001b[90m━━━━━━━━━━━━━━━━━━━━━━━━━━━━━━━━━━━━━━━━\u001b[0m \u001b[32m42.6/42.6 kB\u001b[0m \u001b[31m2.2 MB/s\u001b[0m eta \u001b[36m0:00:00\u001b[0m\n",
            "\u001b[?25hRequirement already satisfied: libclang>=9.0.1 in /usr/local/lib/python3.10/dist-packages (from tensorflow==2.8) (16.0.6)\n",
            "Requirement already satisfied: numpy>=1.20 in /usr/local/lib/python3.10/dist-packages (from tensorflow==2.8) (1.23.5)\n",
            "Requirement already satisfied: opt-einsum>=2.3.2 in /usr/local/lib/python3.10/dist-packages (from tensorflow==2.8) (3.3.0)\n",
            "Requirement already satisfied: protobuf>=3.9.2 in /usr/local/lib/python3.10/dist-packages (from tensorflow==2.8) (3.20.3)\n",
            "Requirement already satisfied: setuptools in /usr/local/lib/python3.10/dist-packages (from tensorflow==2.8) (67.7.2)\n",
            "Requirement already satisfied: six>=1.12.0 in /usr/local/lib/python3.10/dist-packages (from tensorflow==2.8) (1.16.0)\n",
            "Requirement already satisfied: termcolor>=1.1.0 in /usr/local/lib/python3.10/dist-packages (from tensorflow==2.8) (2.3.0)\n",
            "Requirement already satisfied: typing-extensions>=3.6.6 in /usr/local/lib/python3.10/dist-packages (from tensorflow==2.8) (4.7.1)\n",
            "Requirement already satisfied: wrapt>=1.11.0 in /usr/local/lib/python3.10/dist-packages (from tensorflow==2.8) (1.14.1)\n",
            "Collecting tensorboard<2.9,>=2.8 (from tensorflow==2.8)\n",
            "  Downloading tensorboard-2.8.0-py3-none-any.whl (5.8 MB)\n",
            "\u001b[2K     \u001b[90m━━━━━━━━━━━━━━━━━━━━━━━━━━━━━━━━━━━━━━━━\u001b[0m \u001b[32m5.8/5.8 MB\u001b[0m \u001b[31m51.5 MB/s\u001b[0m eta \u001b[36m0:00:00\u001b[0m\n",
            "\u001b[?25hCollecting tf-estimator-nightly==2.8.0.dev2021122109 (from tensorflow==2.8)\n",
            "  Downloading tf_estimator_nightly-2.8.0.dev2021122109-py2.py3-none-any.whl (462 kB)\n",
            "\u001b[2K     \u001b[90m━━━━━━━━━━━━━━━━━━━━━━━━━━━━━━━━━━━━━━\u001b[0m \u001b[32m462.5/462.5 kB\u001b[0m \u001b[31m31.8 MB/s\u001b[0m eta \u001b[36m0:00:00\u001b[0m\n",
            "\u001b[?25hCollecting keras<2.9,>=2.8.0rc0 (from tensorflow==2.8)\n",
            "  Downloading keras-2.8.0-py2.py3-none-any.whl (1.4 MB)\n",
            "\u001b[2K     \u001b[90m━━━━━━━━━━━━━━━━━━━━━━━━━━━━━━━━━━━━━━━━\u001b[0m \u001b[32m1.4/1.4 MB\u001b[0m \u001b[31m41.9 MB/s\u001b[0m eta \u001b[36m0:00:00\u001b[0m\n",
            "\u001b[?25hRequirement already satisfied: tensorflow-io-gcs-filesystem>=0.23.1 in /usr/local/lib/python3.10/dist-packages (from tensorflow==2.8) (0.33.0)\n",
            "Requirement already satisfied: grpcio<2.0,>=1.24.3 in /usr/local/lib/python3.10/dist-packages (from tensorflow==2.8) (1.56.2)\n",
            "Requirement already satisfied: wheel<1.0,>=0.23.0 in /usr/local/lib/python3.10/dist-packages (from astunparse>=1.6.0->tensorflow==2.8) (0.41.0)\n",
            "Requirement already satisfied: google-auth<3,>=1.6.3 in /usr/local/lib/python3.10/dist-packages (from tensorboard<2.9,>=2.8->tensorflow==2.8) (2.17.3)\n",
            "Collecting google-auth-oauthlib<0.5,>=0.4.1 (from tensorboard<2.9,>=2.8->tensorflow==2.8)\n",
            "  Downloading google_auth_oauthlib-0.4.6-py2.py3-none-any.whl (18 kB)\n",
            "Requirement already satisfied: markdown>=2.6.8 in /usr/local/lib/python3.10/dist-packages (from tensorboard<2.9,>=2.8->tensorflow==2.8) (3.4.4)\n",
            "Requirement already satisfied: requests<3,>=2.21.0 in /usr/local/lib/python3.10/dist-packages (from tensorboard<2.9,>=2.8->tensorflow==2.8) (2.31.0)\n",
            "Collecting tensorboard-data-server<0.7.0,>=0.6.0 (from tensorboard<2.9,>=2.8->tensorflow==2.8)\n",
            "  Downloading tensorboard_data_server-0.6.1-py3-none-manylinux2010_x86_64.whl (4.9 MB)\n",
            "\u001b[2K     \u001b[90m━━━━━━━━━━━━━━━━━━━━━━━━━━━━━━━━━━━━━━━━\u001b[0m \u001b[32m4.9/4.9 MB\u001b[0m \u001b[31m39.6 MB/s\u001b[0m eta \u001b[36m0:00:00\u001b[0m\n",
            "\u001b[?25hCollecting tensorboard-plugin-wit>=1.6.0 (from tensorboard<2.9,>=2.8->tensorflow==2.8)\n",
            "  Downloading tensorboard_plugin_wit-1.8.1-py3-none-any.whl (781 kB)\n",
            "\u001b[2K     \u001b[90m━━━━━━━━━━━━━━━━━━━━━━━━━━━━━━━━━━━━━━\u001b[0m \u001b[32m781.3/781.3 kB\u001b[0m \u001b[31m37.1 MB/s\u001b[0m eta \u001b[36m0:00:00\u001b[0m\n",
            "\u001b[?25hRequirement already satisfied: werkzeug>=0.11.15 in /usr/local/lib/python3.10/dist-packages (from tensorboard<2.9,>=2.8->tensorflow==2.8) (2.3.6)\n",
            "Requirement already satisfied: cachetools<6.0,>=2.0.0 in /usr/local/lib/python3.10/dist-packages (from google-auth<3,>=1.6.3->tensorboard<2.9,>=2.8->tensorflow==2.8) (5.3.1)\n",
            "Requirement already satisfied: pyasn1-modules>=0.2.1 in /usr/local/lib/python3.10/dist-packages (from google-auth<3,>=1.6.3->tensorboard<2.9,>=2.8->tensorflow==2.8) (0.3.0)\n",
            "Requirement already satisfied: rsa<5,>=3.1.4 in /usr/local/lib/python3.10/dist-packages (from google-auth<3,>=1.6.3->tensorboard<2.9,>=2.8->tensorflow==2.8) (4.9)\n",
            "Requirement already satisfied: requests-oauthlib>=0.7.0 in /usr/local/lib/python3.10/dist-packages (from google-auth-oauthlib<0.5,>=0.4.1->tensorboard<2.9,>=2.8->tensorflow==2.8) (1.3.1)\n",
            "Requirement already satisfied: charset-normalizer<4,>=2 in /usr/local/lib/python3.10/dist-packages (from requests<3,>=2.21.0->tensorboard<2.9,>=2.8->tensorflow==2.8) (3.2.0)\n",
            "Requirement already satisfied: idna<4,>=2.5 in /usr/local/lib/python3.10/dist-packages (from requests<3,>=2.21.0->tensorboard<2.9,>=2.8->tensorflow==2.8) (3.4)\n",
            "Requirement already satisfied: urllib3<3,>=1.21.1 in /usr/local/lib/python3.10/dist-packages (from requests<3,>=2.21.0->tensorboard<2.9,>=2.8->tensorflow==2.8) (1.26.16)\n",
            "Requirement already satisfied: certifi>=2017.4.17 in /usr/local/lib/python3.10/dist-packages (from requests<3,>=2.21.0->tensorboard<2.9,>=2.8->tensorflow==2.8) (2023.7.22)\n",
            "Requirement already satisfied: MarkupSafe>=2.1.1 in /usr/local/lib/python3.10/dist-packages (from werkzeug>=0.11.15->tensorboard<2.9,>=2.8->tensorflow==2.8) (2.1.3)\n",
            "Requirement already satisfied: pyasn1<0.6.0,>=0.4.6 in /usr/local/lib/python3.10/dist-packages (from pyasn1-modules>=0.2.1->google-auth<3,>=1.6.3->tensorboard<2.9,>=2.8->tensorflow==2.8) (0.5.0)\n",
            "Requirement already satisfied: oauthlib>=3.0.0 in /usr/local/lib/python3.10/dist-packages (from requests-oauthlib>=0.7.0->google-auth-oauthlib<0.5,>=0.4.1->tensorboard<2.9,>=2.8->tensorflow==2.8) (3.2.2)\n",
            "Installing collected packages: tf-estimator-nightly, tensorboard-plugin-wit, keras, tensorboard-data-server, keras-preprocessing, google-auth-oauthlib, tensorboard, tensorflow\n",
            "  Attempting uninstall: keras\n",
            "    Found existing installation: keras 2.12.0\n",
            "    Uninstalling keras-2.12.0:\n",
            "      Successfully uninstalled keras-2.12.0\n",
            "  Attempting uninstall: tensorboard-data-server\n",
            "    Found existing installation: tensorboard-data-server 0.7.1\n",
            "    Uninstalling tensorboard-data-server-0.7.1:\n",
            "      Successfully uninstalled tensorboard-data-server-0.7.1\n",
            "  Attempting uninstall: google-auth-oauthlib\n",
            "    Found existing installation: google-auth-oauthlib 1.0.0\n",
            "    Uninstalling google-auth-oauthlib-1.0.0:\n",
            "      Successfully uninstalled google-auth-oauthlib-1.0.0\n",
            "  Attempting uninstall: tensorboard\n",
            "    Found existing installation: tensorboard 2.12.3\n",
            "    Uninstalling tensorboard-2.12.3:\n",
            "      Successfully uninstalled tensorboard-2.12.3\n",
            "  Attempting uninstall: tensorflow\n",
            "    Found existing installation: tensorflow 2.12.0\n",
            "    Uninstalling tensorflow-2.12.0:\n",
            "      Successfully uninstalled tensorflow-2.12.0\n",
            "Successfully installed google-auth-oauthlib-0.4.6 keras-2.8.0 keras-preprocessing-1.1.2 tensorboard-2.8.0 tensorboard-data-server-0.6.1 tensorboard-plugin-wit-1.8.1 tensorflow-2.8.0 tf-estimator-nightly-2.8.0.dev2021122109\n"
          ]
        }
      ],
      "source": [
        "!pip install tensorflow==2.8"
      ]
    },
    {
      "cell_type": "code",
      "execution_count": 3,
      "metadata": {
        "colab": {
          "base_uri": "https://localhost:8080/",
          "height": 36
        },
        "id": "I0X9qkMXs_pp",
        "outputId": "58874fd2-945a-419b-85e2-f4593452a29c"
      },
      "outputs": [
        {
          "output_type": "execute_result",
          "data": {
            "text/plain": [
              "'2.8.0'"
            ],
            "application/vnd.google.colaboratory.intrinsic+json": {
              "type": "string"
            }
          },
          "metadata": {},
          "execution_count": 3
        }
      ],
      "source": [
        "import matplotlib.pyplot as plt\n",
        "import seaborn as sns\n",
        "import zipfile\n",
        "import numpy as np\n",
        "import cv2\n",
        "from google.colab.patches import cv2_imshow\n",
        "import tensorflow as tf\n",
        "from tensorflow.keras.callbacks import ReduceLROnPlateau\n",
        "from tensorflow.keras import regularizers\n",
        "from tensorflow.keras.callbacks import ModelCheckpoint, EarlyStopping\n",
        "from tensorflow.keras.models import Sequential\n",
        "from tensorflow.keras.layers import Conv2D, MaxPool2D, Flatten, Dense, BatchNormalization, Dropout\n",
        "from tensorflow.keras.preprocessing.image import ImageDataGenerator\n",
        "tf.__version__"
      ]
    },
    {
      "cell_type": "code",
      "execution_count": 4,
      "metadata": {
        "colab": {
          "base_uri": "https://localhost:8080/"
        },
        "id": "yQMOvsd99H-V",
        "outputId": "a0dafd6f-e8ea-4a1a-eade-82119e20072c"
      },
      "outputs": [
        {
          "output_type": "stream",
          "name": "stdout",
          "text": [
            "Mounted at /content/drive\n"
          ]
        }
      ],
      "source": [
        "from google.colab import drive\n",
        "drive.mount('/content/drive')"
      ]
    },
    {
      "cell_type": "code",
      "execution_count": 5,
      "metadata": {
        "id": "Y_BgiI3JxA9q"
      },
      "outputs": [],
      "source": [
        "path = '/content/drive/MyDrive/praktyki/rawDataSingleMolecule/gotowe.zip'\n",
        "zip_object = zipfile.ZipFile(file=path, mode='r')\n",
        "zip_object.extractall('./')\n",
        "zip_object.close()"
      ]
    },
    {
      "cell_type": "code",
      "execution_count": 6,
      "metadata": {
        "id": "7-PhxwM60uM7"
      },
      "outputs": [],
      "source": [
        "training_generator = ImageDataGenerator(rescale=1./255,\n",
        "                                        horizontal_flip=True,\n",
        "                                        vertical_flip=True)\n"
      ]
    },
    {
      "cell_type": "code",
      "execution_count": 7,
      "metadata": {
        "colab": {
          "base_uri": "https://localhost:8080/"
        },
        "id": "jMErkkVv_mXw",
        "outputId": "5c96ba6a-54a6-4268-e004-f964a33b9172"
      },
      "outputs": [
        {
          "output_type": "stream",
          "name": "stdout",
          "text": [
            "Found 11158 images belonging to 7 classes.\n"
          ]
        }
      ],
      "source": [
        "train_dataset = training_generator.flow_from_directory('/content/gotowe/train_set',\n",
        "                                                       target_size = (100, 100),\n",
        "                                                       batch_size = 10,\n",
        "                                                       color_mode='rgb',\n",
        "                                                       class_mode = 'categorical',\n",
        "                                                       shuffle = True)"
      ]
    },
    {
      "cell_type": "code",
      "execution_count": 8,
      "metadata": {
        "colab": {
          "base_uri": "https://localhost:8080/"
        },
        "id": "C4errPxfAukM",
        "outputId": "c96babd8-1762-4526-d21d-a8466a43a8e6"
      },
      "outputs": [
        {
          "output_type": "execute_result",
          "data": {
            "text/plain": [
              "array([0, 0, 0, ..., 6, 6, 6], dtype=int32)"
            ]
          },
          "metadata": {},
          "execution_count": 8
        }
      ],
      "source": [
        "train_dataset.classes"
      ]
    },
    {
      "cell_type": "code",
      "execution_count": 9,
      "metadata": {
        "colab": {
          "base_uri": "https://localhost:8080/"
        },
        "id": "jYCiD3adA5xf",
        "outputId": "63e87c16-0307-4d33-f4fd-5b7c1ae0b257"
      },
      "outputs": [
        {
          "output_type": "execute_result",
          "data": {
            "text/plain": [
              "{'nematyk': 0,\n",
              " 'smektyk_C': 1,\n",
              " 'smektyk_F': 2,\n",
              " 'smektyk_GMosaic': 3,\n",
              " 'smektyk_GSchliren': 4,\n",
              " 'smektyk_H': 5,\n",
              " 'smektyk_I': 6}"
            ]
          },
          "metadata": {},
          "execution_count": 9
        }
      ],
      "source": [
        "train_dataset.class_indices"
      ]
    },
    {
      "cell_type": "code",
      "execution_count": 10,
      "metadata": {
        "id": "6VK7xyH-BkSq"
      },
      "outputs": [],
      "source": [
        "test_generator = ImageDataGenerator(rescale=1./255)\n",
        "val_generator = ImageDataGenerator(rescale=1./255)"
      ]
    },
    {
      "cell_type": "code",
      "execution_count": 11,
      "metadata": {
        "colab": {
          "base_uri": "https://localhost:8080/"
        },
        "id": "84kKwMy6U7oh",
        "outputId": "cec845fd-2f61-4dba-c374-21cb312fb7a3"
      },
      "outputs": [
        {
          "output_type": "stream",
          "name": "stdout",
          "text": [
            "Found 1395 images belonging to 7 classes.\n"
          ]
        }
      ],
      "source": [
        "validation_dataset = val_generator.flow_from_directory('/content/gotowe/val_set',\n",
        "                                                        target_size=(100, 100),\n",
        "                                                        batch_size=1,\n",
        "                                                        class_mode='categorical',\n",
        "                                                        color_mode='rgb',\n",
        "                                                        shuffle=True) # set as validation data"
      ]
    },
    {
      "cell_type": "code",
      "execution_count": 12,
      "metadata": {
        "id": "PB2pU5bzXPTa"
      },
      "outputs": [],
      "source": [
        "L2 = 0.00001"
      ]
    },
    {
      "cell_type": "code",
      "execution_count": 13,
      "metadata": {
        "colab": {
          "base_uri": "https://localhost:8080/"
        },
        "id": "SdqIBmxiBvU1",
        "outputId": "cc7ca0a8-da91-4b96-b183-be6b62f81053"
      },
      "outputs": [
        {
          "output_type": "stream",
          "name": "stdout",
          "text": [
            "Found 1396 images belonging to 7 classes.\n"
          ]
        }
      ],
      "source": [
        "test_datatset = test_generator.flow_from_directory('/content/gotowe/test_set',\n",
        "                                                   target_size = (100, 100),\n",
        "                                                   batch_size = 1,\n",
        "                                                   color_mode='rgb',\n",
        "                                                   class_mode = 'categorical',\n",
        "                                                   shuffle = False)"
      ]
    },
    {
      "cell_type": "code",
      "execution_count": 14,
      "metadata": {
        "id": "xVLgf1bADs_C"
      },
      "outputs": [],
      "source": [
        "initializer1 = tf.keras.initializers.HeNormal()\n",
        "initializer2 = tf.keras.initializers.GlorotUniform()"
      ]
    },
    {
      "cell_type": "code",
      "execution_count": 60,
      "metadata": {
        "colab": {
          "base_uri": "https://localhost:8080/"
        },
        "id": "QTr7SiKfD6UI",
        "outputId": "55b044b1-3f00-4dda-a0bd-e3a455e26f52"
      },
      "outputs": [
        {
          "output_type": "stream",
          "name": "stdout",
          "text": [
            "Model: \"sequential_5\"\n",
            "_________________________________________________________________\n",
            " Layer (type)                Output Shape              Param #   \n",
            "=================================================================\n",
            " conv2d_74 (Conv2D)          (None, 98, 98, 16)        448       \n",
            "                                                                 \n",
            " conv2d_75 (Conv2D)          (None, 98, 98, 16)        272       \n",
            "                                                                 \n",
            " conv2d_76 (Conv2D)          (None, 98, 98, 16)        2320      \n",
            "                                                                 \n",
            " conv2d_77 (Conv2D)          (None, 98, 98, 16)        272       \n",
            "                                                                 \n",
            " batch_normalization_53 (Bat  (None, 98, 98, 16)       64        \n",
            " chNormalization)                                                \n",
            "                                                                 \n",
            " conv2d_78 (Conv2D)          (None, 98, 98, 32)        4640      \n",
            "                                                                 \n",
            " conv2d_79 (Conv2D)          (None, 98, 98, 32)        9248      \n",
            "                                                                 \n",
            " conv2d_80 (Conv2D)          (None, 98, 98, 32)        1056      \n",
            "                                                                 \n",
            " batch_normalization_54 (Bat  (None, 98, 98, 32)       128       \n",
            " chNormalization)                                                \n",
            "                                                                 \n",
            " max_pooling2d_20 (MaxPoolin  (None, 49, 49, 32)       0         \n",
            " g2D)                                                            \n",
            "                                                                 \n",
            " conv2d_81 (Conv2D)          (None, 49, 49, 64)        18496     \n",
            "                                                                 \n",
            " conv2d_82 (Conv2D)          (None, 49, 49, 64)        36928     \n",
            "                                                                 \n",
            " conv2d_83 (Conv2D)          (None, 49, 49, 64)        36928     \n",
            "                                                                 \n",
            " batch_normalization_55 (Bat  (None, 49, 49, 64)       256       \n",
            " chNormalization)                                                \n",
            "                                                                 \n",
            " max_pooling2d_21 (MaxPoolin  (None, 24, 24, 64)       0         \n",
            " g2D)                                                            \n",
            "                                                                 \n",
            " conv2d_84 (Conv2D)          (None, 24, 24, 128)       8320      \n",
            "                                                                 \n",
            " conv2d_85 (Conv2D)          (None, 24, 24, 128)       147584    \n",
            "                                                                 \n",
            " conv2d_86 (Conv2D)          (None, 24, 24, 128)       147584    \n",
            "                                                                 \n",
            " conv2d_87 (Conv2D)          (None, 24, 24, 128)       16512     \n",
            "                                                                 \n",
            " batch_normalization_56 (Bat  (None, 24, 24, 128)      512       \n",
            " chNormalization)                                                \n",
            "                                                                 \n",
            " conv2d_88 (Conv2D)          (None, 24, 24, 256)       33024     \n",
            "                                                                 \n",
            " conv2d_89 (Conv2D)          (None, 24, 24, 256)       590080    \n",
            "                                                                 \n",
            " conv2d_90 (Conv2D)          (None, 24, 24, 256)       65792     \n",
            "                                                                 \n",
            " batch_normalization_57 (Bat  (None, 24, 24, 256)      1024      \n",
            " chNormalization)                                                \n",
            "                                                                 \n",
            " max_pooling2d_22 (MaxPoolin  (None, 12, 12, 256)      0         \n",
            " g2D)                                                            \n",
            "                                                                 \n",
            " conv2d_91 (Conv2D)          (None, 12, 12, 512)       131584    \n",
            "                                                                 \n",
            " conv2d_92 (Conv2D)          (None, 12, 12, 512)       1049088   \n",
            "                                                                 \n",
            " conv2d_93 (Conv2D)          (None, 12, 12, 512)       262656    \n",
            "                                                                 \n",
            " batch_normalization_58 (Bat  (None, 12, 12, 512)      2048      \n",
            " chNormalization)                                                \n",
            "                                                                 \n",
            " max_pooling2d_23 (MaxPoolin  (None, 6, 6, 512)        0         \n",
            " g2D)                                                            \n",
            "                                                                 \n",
            " flatten_5 (Flatten)         (None, 18432)             0         \n",
            "                                                                 \n",
            " dropout_5 (Dropout)         (None, 18432)             0         \n",
            "                                                                 \n",
            " dense_28 (Dense)            (None, 512)               9437696   \n",
            "                                                                 \n",
            " batch_normalization_59 (Bat  (None, 512)              2048      \n",
            " chNormalization)                                                \n",
            "                                                                 \n",
            " dense_29 (Dense)            (None, 256)               131328    \n",
            "                                                                 \n",
            " batch_normalization_60 (Bat  (None, 256)              1024      \n",
            " chNormalization)                                                \n",
            "                                                                 \n",
            " dense_30 (Dense)            (None, 128)               32896     \n",
            "                                                                 \n",
            " batch_normalization_61 (Bat  (None, 128)              512       \n",
            " chNormalization)                                                \n",
            "                                                                 \n",
            " dense_31 (Dense)            (None, 64)                8256      \n",
            "                                                                 \n",
            " batch_normalization_62 (Bat  (None, 64)               256       \n",
            " chNormalization)                                                \n",
            "                                                                 \n",
            " dense_32 (Dense)            (None, 32)                2080      \n",
            "                                                                 \n",
            " batch_normalization_63 (Bat  (None, 32)               128       \n",
            " chNormalization)                                                \n",
            "                                                                 \n",
            " dense_33 (Dense)            (None, 16)                528       \n",
            "                                                                 \n",
            " batch_normalization_64 (Bat  (None, 16)               64        \n",
            " chNormalization)                                                \n",
            "                                                                 \n",
            " dense_34 (Dense)            (None, 7)                 119       \n",
            "                                                                 \n",
            "=================================================================\n",
            "Total params: 12,183,799\n",
            "Trainable params: 12,179,767\n",
            "Non-trainable params: 4,032\n",
            "_________________________________________________________________\n"
          ]
        }
      ],
      "source": [
        "network = Sequential()\n",
        "network.add(Conv2D(filters=16, kernel_size=(3,3), activation = 'relu', input_shape = (100,100,3), kernel_initializer=initializer1))\n",
        "network.add(Conv2D(filters=16, kernel_size=(1,1), activation = 'relu', padding='same', kernel_initializer=initializer1))\n",
        "network.add(Conv2D(filters=16, kernel_size=(3,3), activation = 'relu', padding='same', kernel_initializer=initializer1))\n",
        "network.add(Conv2D(filters=16, kernel_size=(1,1), activation = 'relu', padding='same', kernel_initializer=initializer1))\n",
        "network.add(BatchNormalization())\n",
        "#network.add(MaxPool2D(pool_size=(2,2)))\n",
        "\n",
        "network.add(Conv2D(filters=32, kernel_size=(3,3), activation = 'relu', padding='same', kernel_initializer=initializer1))\n",
        "network.add(Conv2D(filters=32, kernel_size=(3,3), activation = 'relu', padding='same', kernel_initializer=initializer1))\n",
        "network.add(Conv2D(filters=32, kernel_size=(1,1), activation = 'relu', padding='same', kernel_initializer=initializer1))\n",
        "network.add(BatchNormalization())\n",
        "network.add(MaxPool2D(pool_size=(2,2)))\n",
        "\n",
        "\n",
        "network.add(Conv2D(filters=64, kernel_size=(3,3), activation = 'relu', padding='same', kernel_initializer=initializer1))\n",
        "network.add(Conv2D(filters=64, kernel_size=(3,3), activation = 'relu', padding='same', kernel_initializer=initializer1))\n",
        "network.add(Conv2D(filters=64, kernel_size=(3,3), activation = 'relu', padding='same', kernel_initializer=initializer1))\n",
        "network.add(BatchNormalization())\n",
        "network.add(MaxPool2D(pool_size=(2,2)))\n",
        "\n",
        "network.add(Conv2D(filters=128, kernel_size=(1,1), activation = 'relu', padding='same', kernel_initializer=initializer1))\n",
        "network.add(Conv2D(filters=128, kernel_size=(3,3), activation = 'relu', padding='same', kernel_initializer=initializer1))\n",
        "network.add(Conv2D(filters=128, kernel_size=(3,3), activation = 'relu', padding='same', kernel_initializer=initializer1))\n",
        "network.add(Conv2D(filters=128, kernel_size=(1,1), activation = 'relu', padding='same', kernel_initializer=initializer1))\n",
        "network.add(BatchNormalization())\n",
        "#network.add(MaxPool2D(pool_size=(2,2)))\n",
        "\n",
        "network.add(Conv2D(filters=256, kernel_size=(1,1), activation = 'relu', padding='same', kernel_initializer=initializer1))\n",
        "network.add(Conv2D(filters=256, kernel_size=(3,3), activation = 'relu', padding='same', kernel_initializer=initializer1))\n",
        "network.add(Conv2D(filters=256, kernel_size=(1,1), activation = 'relu', padding='same', kernel_initializer=initializer1))\n",
        "network.add(BatchNormalization())\n",
        "network.add(MaxPool2D(pool_size=(2,2)))\n",
        "\n",
        "network.add(Conv2D(filters=512, kernel_size=(1,1), activation = 'relu', padding='same', kernel_initializer=initializer1))\n",
        "network.add(Conv2D(filters=512, kernel_size=(2,2), activation = 'relu', padding='same', kernel_initializer=initializer1))\n",
        "network.add(Conv2D(filters=512, kernel_size=(1,1), activation = 'relu', padding='same', kernel_initializer=initializer1))\n",
        "network.add(BatchNormalization())\n",
        "network.add(MaxPool2D(pool_size=(2,2)))\n",
        "\n",
        "network.add(Flatten())\n",
        "\n",
        "network.add(Dropout(0.08))\n",
        "network.add(Dense(units = 512, activation = 'relu', kernel_initializer=initializer1))\n",
        "network.add(BatchNormalization())\n",
        "network.add(Dense(units = 256, activation = 'relu', kernel_initializer=initializer1))\n",
        "network.add(BatchNormalization())\n",
        "network.add(Dense(units = 128, activation = 'relu', kernel_initializer=initializer1))\n",
        "network.add(BatchNormalization())\n",
        "network.add(Dense(units = 64, activation = 'relu', kernel_initializer=initializer1))\n",
        "network.add(BatchNormalization())\n",
        "network.add(Dense(units = 32, activation = 'relu', kernel_initializer=initializer1))\n",
        "network.add(BatchNormalization())\n",
        "network.add(Dense(units = 16, activation = 'relu', kernel_initializer=initializer1, kernel_regularizer=tf.keras.regularizers.L1L2()))\n",
        "network.add(BatchNormalization())\n",
        "network.add(Dense(units = 7, activation = 'softmax', kernel_initializer=initializer2))\n",
        "network.summary()"
      ]
    },
    {
      "cell_type": "code",
      "execution_count": 61,
      "metadata": {
        "id": "6viOH_kUE4Bq"
      },
      "outputs": [],
      "source": [
        "from tensorflow.keras.optimizers import Adam\n",
        "#opt = Adam(lr=0.005)\n",
        "opt = Adam()\n",
        "network.compile(optimizer='Adam', loss='categorical_crossentropy', metrics = ['accuracy'])\n"
      ]
    },
    {
      "cell_type": "code",
      "execution_count": 62,
      "metadata": {
        "id": "5IXmjfYmbuYh"
      },
      "outputs": [],
      "source": [
        "es = EarlyStopping(monitor = 'val_accuracy', min_delta = 0.001, patience = 20, verbose =1)\n",
        "model_cp = ModelCheckpoint(filepath = 'best_model11.h5', monitor = 'val_accuracy', save_best_only = True, verbose = 1)\n",
        "learning_rate_reduction = ReduceLROnPlateau(monitor='val_accuracy', patience = 5, verbose=1, factor=0.5, min_lr=0.00001)"
      ]
    },
    {
      "cell_type": "code",
      "execution_count": 63,
      "metadata": {
        "colab": {
          "base_uri": "https://localhost:8080/"
        },
        "id": "Uk8BSV5gGazz",
        "outputId": "ebd00610-6f06-41bc-c55f-42c081c25082"
      },
      "outputs": [
        {
          "output_type": "stream",
          "name": "stdout",
          "text": [
            "Epoch 1/100\n"
          ]
        },
        {
          "output_type": "stream",
          "name": "stderr",
          "text": [
            "<ipython-input-63-d45876fe1552>:1: UserWarning: `Model.fit_generator` is deprecated and will be removed in a future version. Please use `Model.fit`, which supports generators.\n",
            "  history = network.fit_generator(train_dataset,\n"
          ]
        },
        {
          "output_type": "stream",
          "name": "stdout",
          "text": [
            "50/50 [==============================] - ETA: 0s - loss: 2.2692 - accuracy: 0.1720\n",
            "Epoch 1: val_accuracy improved from -inf to 0.14000, saving model to best_model11.h5\n",
            "50/50 [==============================] - 135s 3s/step - loss: 2.2692 - accuracy: 0.1720 - val_loss: 23.5097 - val_accuracy: 0.1400 - lr: 0.0010\n",
            "Epoch 2/100\n",
            "50/50 [==============================] - ETA: 0s - loss: 1.8466 - accuracy: 0.3040\n",
            "Epoch 2: val_accuracy did not improve from 0.14000\n",
            "50/50 [==============================] - 122s 2s/step - loss: 1.8466 - accuracy: 0.3040 - val_loss: 3.2467 - val_accuracy: 0.1200 - lr: 0.0010\n",
            "Epoch 3/100\n",
            "50/50 [==============================] - ETA: 0s - loss: 1.6276 - accuracy: 0.3900\n",
            "Epoch 3: val_accuracy did not improve from 0.14000\n",
            "50/50 [==============================] - 131s 3s/step - loss: 1.6276 - accuracy: 0.3900 - val_loss: 2.7552 - val_accuracy: 0.0800 - lr: 0.0010\n",
            "Epoch 4/100\n",
            "50/50 [==============================] - ETA: 0s - loss: 1.6121 - accuracy: 0.3760\n",
            "Epoch 4: val_accuracy did not improve from 0.14000\n",
            "50/50 [==============================] - 121s 2s/step - loss: 1.6121 - accuracy: 0.3760 - val_loss: 2.4983 - val_accuracy: 0.0000e+00 - lr: 0.0010\n",
            "Epoch 5/100\n",
            "50/50 [==============================] - ETA: 0s - loss: 1.6923 - accuracy: 0.3020\n",
            "Epoch 5: val_accuracy did not improve from 0.14000\n",
            "50/50 [==============================] - 130s 3s/step - loss: 1.6923 - accuracy: 0.3020 - val_loss: 2.7301 - val_accuracy: 0.1400 - lr: 0.0010\n",
            "Epoch 6/100\n",
            "50/50 [==============================] - ETA: 0s - loss: 1.5524 - accuracy: 0.3980\n",
            "Epoch 6: val_accuracy did not improve from 0.14000\n",
            "\n",
            "Epoch 6: ReduceLROnPlateau reducing learning rate to 0.0005000000237487257.\n",
            "50/50 [==============================] - 125s 2s/step - loss: 1.5524 - accuracy: 0.3980 - val_loss: 2.7713 - val_accuracy: 0.1400 - lr: 0.0010\n",
            "Epoch 7/100\n",
            "50/50 [==============================] - ETA: 0s - loss: 1.4927 - accuracy: 0.4420\n",
            "Epoch 7: val_accuracy improved from 0.14000 to 0.30000, saving model to best_model11.h5\n",
            "50/50 [==============================] - 127s 3s/step - loss: 1.4927 - accuracy: 0.4420 - val_loss: 2.1251 - val_accuracy: 0.3000 - lr: 5.0000e-04\n",
            "Epoch 8/100\n",
            "50/50 [==============================] - ETA: 0s - loss: 1.5460 - accuracy: 0.4080\n",
            "Epoch 8: val_accuracy improved from 0.30000 to 0.32000, saving model to best_model11.h5\n",
            "50/50 [==============================] - 128s 3s/step - loss: 1.5460 - accuracy: 0.4080 - val_loss: 1.8311 - val_accuracy: 0.3200 - lr: 5.0000e-04\n",
            "Epoch 9/100\n",
            "50/50 [==============================] - ETA: 0s - loss: 1.4198 - accuracy: 0.4940\n",
            "Epoch 9: val_accuracy improved from 0.32000 to 0.60000, saving model to best_model11.h5\n",
            "50/50 [==============================] - 128s 3s/step - loss: 1.4198 - accuracy: 0.4940 - val_loss: 1.2984 - val_accuracy: 0.6000 - lr: 5.0000e-04\n",
            "Epoch 10/100\n",
            "50/50 [==============================] - ETA: 0s - loss: 1.4394 - accuracy: 0.4520\n",
            "Epoch 10: val_accuracy did not improve from 0.60000\n",
            "50/50 [==============================] - 128s 3s/step - loss: 1.4394 - accuracy: 0.4520 - val_loss: 1.5359 - val_accuracy: 0.4400 - lr: 5.0000e-04\n",
            "Epoch 11/100\n",
            "50/50 [==============================] - ETA: 0s - loss: 1.3496 - accuracy: 0.4860\n",
            "Epoch 11: val_accuracy did not improve from 0.60000\n",
            "50/50 [==============================] - 126s 2s/step - loss: 1.3496 - accuracy: 0.4860 - val_loss: 1.5081 - val_accuracy: 0.4600 - lr: 5.0000e-04\n",
            "Epoch 12/100\n",
            "50/50 [==============================] - ETA: 0s - loss: 1.3864 - accuracy: 0.4620\n",
            "Epoch 12: val_accuracy did not improve from 0.60000\n",
            "50/50 [==============================] - 125s 3s/step - loss: 1.3864 - accuracy: 0.4620 - val_loss: 1.4069 - val_accuracy: 0.5000 - lr: 5.0000e-04\n",
            "Epoch 13/100\n",
            "50/50 [==============================] - ETA: 0s - loss: 1.4089 - accuracy: 0.4500\n",
            "Epoch 13: val_accuracy did not improve from 0.60000\n",
            "50/50 [==============================] - 125s 3s/step - loss: 1.4089 - accuracy: 0.4500 - val_loss: 1.2251 - val_accuracy: 0.5400 - lr: 5.0000e-04\n",
            "Epoch 14/100\n",
            "50/50 [==============================] - ETA: 0s - loss: 1.3647 - accuracy: 0.4719\n",
            "Epoch 14: val_accuracy improved from 0.60000 to 0.68000, saving model to best_model11.h5\n",
            "50/50 [==============================] - 126s 3s/step - loss: 1.3647 - accuracy: 0.4719 - val_loss: 1.0805 - val_accuracy: 0.6800 - lr: 5.0000e-04\n",
            "Epoch 15/100\n",
            "50/50 [==============================] - ETA: 0s - loss: 1.3786 - accuracy: 0.4620\n",
            "Epoch 15: val_accuracy did not improve from 0.68000\n",
            "50/50 [==============================] - 123s 2s/step - loss: 1.3786 - accuracy: 0.4620 - val_loss: 1.1971 - val_accuracy: 0.6400 - lr: 5.0000e-04\n",
            "Epoch 16/100\n",
            "50/50 [==============================] - ETA: 0s - loss: 1.3549 - accuracy: 0.5100\n",
            "Epoch 16: val_accuracy did not improve from 0.68000\n",
            "50/50 [==============================] - 124s 2s/step - loss: 1.3549 - accuracy: 0.5100 - val_loss: 1.1302 - val_accuracy: 0.6200 - lr: 5.0000e-04\n",
            "Epoch 17/100\n",
            "50/50 [==============================] - ETA: 0s - loss: 1.2849 - accuracy: 0.5240\n",
            "Epoch 17: val_accuracy did not improve from 0.68000\n",
            "50/50 [==============================] - 125s 3s/step - loss: 1.2849 - accuracy: 0.5240 - val_loss: 1.1837 - val_accuracy: 0.5800 - lr: 5.0000e-04\n",
            "Epoch 18/100\n",
            "50/50 [==============================] - ETA: 0s - loss: 1.2542 - accuracy: 0.5140\n",
            "Epoch 18: val_accuracy improved from 0.68000 to 0.70000, saving model to best_model11.h5\n",
            "50/50 [==============================] - 125s 3s/step - loss: 1.2542 - accuracy: 0.5140 - val_loss: 0.8739 - val_accuracy: 0.7000 - lr: 5.0000e-04\n",
            "Epoch 19/100\n",
            "50/50 [==============================] - ETA: 0s - loss: 1.2434 - accuracy: 0.5360\n",
            "Epoch 19: val_accuracy did not improve from 0.70000\n",
            "50/50 [==============================] - 125s 3s/step - loss: 1.2434 - accuracy: 0.5360 - val_loss: 1.3752 - val_accuracy: 0.4400 - lr: 5.0000e-04\n",
            "Epoch 20/100\n",
            "50/50 [==============================] - ETA: 0s - loss: 1.2267 - accuracy: 0.5460\n",
            "Epoch 20: val_accuracy did not improve from 0.70000\n",
            "50/50 [==============================] - 125s 3s/step - loss: 1.2267 - accuracy: 0.5460 - val_loss: 0.8500 - val_accuracy: 0.6400 - lr: 5.0000e-04\n",
            "Epoch 21/100\n",
            "50/50 [==============================] - ETA: 0s - loss: 1.3112 - accuracy: 0.5080\n",
            "Epoch 21: val_accuracy did not improve from 0.70000\n",
            "50/50 [==============================] - 125s 3s/step - loss: 1.3112 - accuracy: 0.5080 - val_loss: 1.2403 - val_accuracy: 0.5800 - lr: 5.0000e-04\n",
            "Epoch 22/100\n",
            "50/50 [==============================] - ETA: 0s - loss: 1.2383 - accuracy: 0.5482\n",
            "Epoch 22: val_accuracy did not improve from 0.70000\n",
            "50/50 [==============================] - 124s 2s/step - loss: 1.2383 - accuracy: 0.5482 - val_loss: 1.3474 - val_accuracy: 0.5400 - lr: 5.0000e-04\n",
            "Epoch 23/100\n",
            "50/50 [==============================] - ETA: 0s - loss: 1.2329 - accuracy: 0.5280\n",
            "Epoch 23: val_accuracy did not improve from 0.70000\n",
            "\n",
            "Epoch 23: ReduceLROnPlateau reducing learning rate to 0.0002500000118743628.\n",
            "50/50 [==============================] - 126s 3s/step - loss: 1.2329 - accuracy: 0.5280 - val_loss: 1.1713 - val_accuracy: 0.6400 - lr: 5.0000e-04\n",
            "Epoch 24/100\n",
            "50/50 [==============================] - ETA: 0s - loss: 1.1821 - accuracy: 0.5520\n",
            "Epoch 24: val_accuracy did not improve from 0.70000\n",
            "50/50 [==============================] - 125s 3s/step - loss: 1.1821 - accuracy: 0.5520 - val_loss: 1.1219 - val_accuracy: 0.5600 - lr: 2.5000e-04\n",
            "Epoch 25/100\n",
            "50/50 [==============================] - ETA: 0s - loss: 1.2539 - accuracy: 0.5380\n",
            "Epoch 25: val_accuracy did not improve from 0.70000\n",
            "50/50 [==============================] - 127s 3s/step - loss: 1.2539 - accuracy: 0.5380 - val_loss: 1.0849 - val_accuracy: 0.5800 - lr: 2.5000e-04\n",
            "Epoch 26/100\n",
            "50/50 [==============================] - ETA: 0s - loss: 1.1923 - accuracy: 0.5460\n",
            "Epoch 26: val_accuracy did not improve from 0.70000\n",
            "50/50 [==============================] - 118s 2s/step - loss: 1.1923 - accuracy: 0.5460 - val_loss: 1.0356 - val_accuracy: 0.7000 - lr: 2.5000e-04\n",
            "Epoch 27/100\n",
            "50/50 [==============================] - ETA: 0s - loss: 1.2565 - accuracy: 0.5420\n",
            "Epoch 27: val_accuracy did not improve from 0.70000\n",
            "50/50 [==============================] - 128s 3s/step - loss: 1.2565 - accuracy: 0.5420 - val_loss: 0.9837 - val_accuracy: 0.6800 - lr: 2.5000e-04\n",
            "Epoch 28/100\n",
            "50/50 [==============================] - ETA: 0s - loss: 1.2064 - accuracy: 0.5720\n",
            "Epoch 28: val_accuracy did not improve from 0.70000\n",
            "\n",
            "Epoch 28: ReduceLROnPlateau reducing learning rate to 0.0001250000059371814.\n",
            "50/50 [==============================] - 120s 2s/step - loss: 1.2064 - accuracy: 0.5720 - val_loss: 1.0055 - val_accuracy: 0.6800 - lr: 2.5000e-04\n",
            "Epoch 29/100\n",
            "50/50 [==============================] - ETA: 0s - loss: 1.1601 - accuracy: 0.5740\n",
            "Epoch 29: val_accuracy did not improve from 0.70000\n",
            "50/50 [==============================] - 128s 3s/step - loss: 1.1601 - accuracy: 0.5740 - val_loss: 1.0065 - val_accuracy: 0.6000 - lr: 1.2500e-04\n",
            "Epoch 30/100\n",
            "50/50 [==============================] - ETA: 0s - loss: 1.1598 - accuracy: 0.5360\n",
            "Epoch 30: val_accuracy improved from 0.70000 to 0.74000, saving model to best_model11.h5\n",
            "50/50 [==============================] - 123s 2s/step - loss: 1.1598 - accuracy: 0.5360 - val_loss: 0.7775 - val_accuracy: 0.7400 - lr: 1.2500e-04\n",
            "Epoch 31/100\n",
            "50/50 [==============================] - ETA: 0s - loss: 1.1610 - accuracy: 0.5360\n",
            "Epoch 31: val_accuracy did not improve from 0.74000\n",
            "50/50 [==============================] - 127s 3s/step - loss: 1.1610 - accuracy: 0.5360 - val_loss: 0.9439 - val_accuracy: 0.6600 - lr: 1.2500e-04\n",
            "Epoch 32/100\n",
            "50/50 [==============================] - ETA: 0s - loss: 1.1588 - accuracy: 0.5720\n",
            "Epoch 32: val_accuracy did not improve from 0.74000\n",
            "50/50 [==============================] - 118s 2s/step - loss: 1.1588 - accuracy: 0.5720 - val_loss: 0.8769 - val_accuracy: 0.7000 - lr: 1.2500e-04\n",
            "Epoch 33/100\n",
            "50/50 [==============================] - ETA: 0s - loss: 1.1243 - accuracy: 0.5960\n",
            "Epoch 33: val_accuracy did not improve from 0.74000\n",
            "50/50 [==============================] - 125s 2s/step - loss: 1.1243 - accuracy: 0.5960 - val_loss: 0.8909 - val_accuracy: 0.7000 - lr: 1.2500e-04\n",
            "Epoch 34/100\n",
            "50/50 [==============================] - ETA: 0s - loss: 1.1915 - accuracy: 0.5340\n",
            "Epoch 34: val_accuracy did not improve from 0.74000\n",
            "50/50 [==============================] - 120s 2s/step - loss: 1.1915 - accuracy: 0.5340 - val_loss: 0.9876 - val_accuracy: 0.6400 - lr: 1.2500e-04\n",
            "Epoch 35/100\n",
            "50/50 [==============================] - ETA: 0s - loss: 1.0910 - accuracy: 0.5880\n",
            "Epoch 35: val_accuracy did not improve from 0.74000\n",
            "\n",
            "Epoch 35: ReduceLROnPlateau reducing learning rate to 6.25000029685907e-05.\n",
            "50/50 [==============================] - 128s 3s/step - loss: 1.0910 - accuracy: 0.5880 - val_loss: 0.7977 - val_accuracy: 0.7400 - lr: 1.2500e-04\n",
            "Epoch 36/100\n",
            "50/50 [==============================] - ETA: 0s - loss: 1.1557 - accuracy: 0.5400\n",
            "Epoch 36: val_accuracy did not improve from 0.74000\n",
            "50/50 [==============================] - 120s 2s/step - loss: 1.1557 - accuracy: 0.5400 - val_loss: 1.0108 - val_accuracy: 0.6600 - lr: 6.2500e-05\n",
            "Epoch 37/100\n",
            "50/50 [==============================] - ETA: 0s - loss: 1.1297 - accuracy: 0.5700\n",
            "Epoch 37: val_accuracy did not improve from 0.74000\n",
            "50/50 [==============================] - 127s 3s/step - loss: 1.1297 - accuracy: 0.5700 - val_loss: 0.9383 - val_accuracy: 0.7000 - lr: 6.2500e-05\n",
            "Epoch 38/100\n",
            "50/50 [==============================] - ETA: 0s - loss: 1.1546 - accuracy: 0.5680\n",
            "Epoch 38: val_accuracy did not improve from 0.74000\n",
            "50/50 [==============================] - 121s 2s/step - loss: 1.1546 - accuracy: 0.5680 - val_loss: 0.9059 - val_accuracy: 0.6600 - lr: 6.2500e-05\n",
            "Epoch 39/100\n",
            "50/50 [==============================] - ETA: 0s - loss: 1.1357 - accuracy: 0.5580\n",
            "Epoch 39: val_accuracy improved from 0.74000 to 0.78000, saving model to best_model11.h5\n",
            "50/50 [==============================] - 128s 3s/step - loss: 1.1357 - accuracy: 0.5580 - val_loss: 0.8113 - val_accuracy: 0.7800 - lr: 6.2500e-05\n",
            "Epoch 40/100\n",
            "50/50 [==============================] - ETA: 0s - loss: 1.1247 - accuracy: 0.5860\n",
            "Epoch 40: val_accuracy did not improve from 0.78000\n",
            "50/50 [==============================] - 123s 2s/step - loss: 1.1247 - accuracy: 0.5860 - val_loss: 1.0111 - val_accuracy: 0.5400 - lr: 6.2500e-05\n",
            "Epoch 41/100\n",
            "50/50 [==============================] - ETA: 0s - loss: 1.1962 - accuracy: 0.5580\n",
            "Epoch 41: val_accuracy did not improve from 0.78000\n",
            "50/50 [==============================] - 122s 2s/step - loss: 1.1962 - accuracy: 0.5580 - val_loss: 0.9423 - val_accuracy: 0.7600 - lr: 6.2500e-05\n",
            "Epoch 42/100\n",
            "50/50 [==============================] - ETA: 0s - loss: 1.1049 - accuracy: 0.5880\n",
            "Epoch 42: val_accuracy did not improve from 0.78000\n",
            "50/50 [==============================] - 123s 2s/step - loss: 1.1049 - accuracy: 0.5880 - val_loss: 0.7433 - val_accuracy: 0.7400 - lr: 6.2500e-05\n",
            "Epoch 43/100\n",
            "50/50 [==============================] - ETA: 0s - loss: 1.0930 - accuracy: 0.6140\n",
            "Epoch 43: val_accuracy did not improve from 0.78000\n",
            "50/50 [==============================] - 124s 2s/step - loss: 1.0930 - accuracy: 0.6140 - val_loss: 0.8993 - val_accuracy: 0.6600 - lr: 6.2500e-05\n",
            "Epoch 44/100\n",
            "50/50 [==============================] - ETA: 0s - loss: 1.0761 - accuracy: 0.6080\n",
            "Epoch 44: val_accuracy did not improve from 0.78000\n",
            "\n",
            "Epoch 44: ReduceLROnPlateau reducing learning rate to 3.125000148429535e-05.\n",
            "50/50 [==============================] - 123s 2s/step - loss: 1.0761 - accuracy: 0.6080 - val_loss: 0.9675 - val_accuracy: 0.6600 - lr: 6.2500e-05\n",
            "Epoch 45/100\n",
            "50/50 [==============================] - ETA: 0s - loss: 1.1963 - accuracy: 0.5520\n",
            "Epoch 45: val_accuracy did not improve from 0.78000\n",
            "50/50 [==============================] - 124s 2s/step - loss: 1.1963 - accuracy: 0.5520 - val_loss: 0.8144 - val_accuracy: 0.7600 - lr: 3.1250e-05\n",
            "Epoch 46/100\n",
            "50/50 [==============================] - ETA: 0s - loss: 1.0360 - accuracy: 0.6100\n",
            "Epoch 46: val_accuracy did not improve from 0.78000\n",
            "50/50 [==============================] - 121s 2s/step - loss: 1.0360 - accuracy: 0.6100 - val_loss: 1.0568 - val_accuracy: 0.6000 - lr: 3.1250e-05\n",
            "Epoch 47/100\n",
            "50/50 [==============================] - ETA: 0s - loss: 1.1079 - accuracy: 0.5880\n",
            "Epoch 47: val_accuracy did not improve from 0.78000\n",
            "50/50 [==============================] - 122s 2s/step - loss: 1.1079 - accuracy: 0.5880 - val_loss: 0.8426 - val_accuracy: 0.7400 - lr: 3.1250e-05\n",
            "Epoch 48/100\n",
            "50/50 [==============================] - ETA: 0s - loss: 1.0930 - accuracy: 0.6340\n",
            "Epoch 48: val_accuracy did not improve from 0.78000\n",
            "50/50 [==============================] - 118s 2s/step - loss: 1.0930 - accuracy: 0.6340 - val_loss: 0.9410 - val_accuracy: 0.5600 - lr: 3.1250e-05\n",
            "Epoch 49/100\n",
            "50/50 [==============================] - ETA: 0s - loss: 1.0767 - accuracy: 0.5660\n",
            "Epoch 49: val_accuracy did not improve from 0.78000\n",
            "\n",
            "Epoch 49: ReduceLROnPlateau reducing learning rate to 1.5625000742147677e-05.\n",
            "50/50 [==============================] - 127s 3s/step - loss: 1.0767 - accuracy: 0.5660 - val_loss: 0.7415 - val_accuracy: 0.7200 - lr: 3.1250e-05\n",
            "Epoch 50/100\n",
            "50/50 [==============================] - ETA: 0s - loss: 1.0395 - accuracy: 0.6160\n",
            "Epoch 50: val_accuracy did not improve from 0.78000\n",
            "50/50 [==============================] - 118s 2s/step - loss: 1.0395 - accuracy: 0.6160 - val_loss: 0.9046 - val_accuracy: 0.6400 - lr: 1.5625e-05\n",
            "Epoch 51/100\n",
            "50/50 [==============================] - ETA: 0s - loss: 1.1089 - accuracy: 0.5820\n",
            "Epoch 51: val_accuracy did not improve from 0.78000\n",
            "50/50 [==============================] - 127s 3s/step - loss: 1.1089 - accuracy: 0.5820 - val_loss: 0.9479 - val_accuracy: 0.7000 - lr: 1.5625e-05\n",
            "Epoch 52/100\n",
            "50/50 [==============================] - ETA: 0s - loss: 1.1288 - accuracy: 0.5900\n",
            "Epoch 52: val_accuracy did not improve from 0.78000\n",
            "50/50 [==============================] - 122s 2s/step - loss: 1.1288 - accuracy: 0.5900 - val_loss: 0.7794 - val_accuracy: 0.7200 - lr: 1.5625e-05\n",
            "Epoch 53/100\n",
            "50/50 [==============================] - ETA: 0s - loss: 1.1307 - accuracy: 0.5820\n",
            "Epoch 53: val_accuracy did not improve from 0.78000\n",
            "50/50 [==============================] - 121s 2s/step - loss: 1.1307 - accuracy: 0.5820 - val_loss: 0.8931 - val_accuracy: 0.7000 - lr: 1.5625e-05\n",
            "Epoch 54/100\n",
            "50/50 [==============================] - ETA: 0s - loss: 1.0584 - accuracy: 0.6020\n",
            "Epoch 54: val_accuracy did not improve from 0.78000\n",
            "\n",
            "Epoch 54: ReduceLROnPlateau reducing learning rate to 1e-05.\n",
            "50/50 [==============================] - 128s 3s/step - loss: 1.0584 - accuracy: 0.6020 - val_loss: 0.9576 - val_accuracy: 0.6200 - lr: 1.5625e-05\n",
            "Epoch 55/100\n",
            "50/50 [==============================] - ETA: 0s - loss: 1.1009 - accuracy: 0.5780\n",
            "Epoch 55: val_accuracy did not improve from 0.78000\n",
            "50/50 [==============================] - 121s 2s/step - loss: 1.1009 - accuracy: 0.5780 - val_loss: 0.8733 - val_accuracy: 0.7000 - lr: 1.0000e-05\n",
            "Epoch 56/100\n",
            "50/50 [==============================] - ETA: 0s - loss: 1.0796 - accuracy: 0.5880\n",
            "Epoch 56: val_accuracy did not improve from 0.78000\n",
            "50/50 [==============================] - 127s 3s/step - loss: 1.0796 - accuracy: 0.5880 - val_loss: 0.8862 - val_accuracy: 0.7600 - lr: 1.0000e-05\n",
            "Epoch 57/100\n",
            "50/50 [==============================] - ETA: 0s - loss: 1.0512 - accuracy: 0.6040\n",
            "Epoch 57: val_accuracy did not improve from 0.78000\n",
            "50/50 [==============================] - 120s 2s/step - loss: 1.0512 - accuracy: 0.6040 - val_loss: 0.9091 - val_accuracy: 0.6200 - lr: 1.0000e-05\n",
            "Epoch 58/100\n",
            "50/50 [==============================] - ETA: 0s - loss: 1.1024 - accuracy: 0.6200\n",
            "Epoch 58: val_accuracy did not improve from 0.78000\n",
            "50/50 [==============================] - 126s 2s/step - loss: 1.1024 - accuracy: 0.6200 - val_loss: 0.7458 - val_accuracy: 0.7200 - lr: 1.0000e-05\n",
            "Epoch 59/100\n",
            "50/50 [==============================] - ETA: 0s - loss: 1.1618 - accuracy: 0.5640\n",
            "Epoch 59: val_accuracy did not improve from 0.78000\n",
            "50/50 [==============================] - 120s 2s/step - loss: 1.1618 - accuracy: 0.5640 - val_loss: 0.8461 - val_accuracy: 0.7000 - lr: 1.0000e-05\n",
            "Epoch 59: early stopping\n"
          ]
        }
      ],
      "source": [
        "history = network.fit_generator(train_dataset,\n",
        "                                steps_per_epoch = 50,\n",
        "                                validation_data = validation_dataset,\n",
        "                                validation_steps = 50,\n",
        "                                epochs=100,\n",
        "                                callbacks=[es, model_cp, learning_rate_reduction])"
      ]
    },
    {
      "cell_type": "code",
      "execution_count": 64,
      "metadata": {
        "id": "4xXIb__YN8jO"
      },
      "outputs": [],
      "source": [
        "predictions=network.predict(test_datatset)\n",
        "predictions = np.argmax(predictions, axis=1)"
      ]
    },
    {
      "cell_type": "code",
      "execution_count": 65,
      "metadata": {
        "colab": {
          "base_uri": "https://localhost:8080/"
        },
        "id": "MfitKd4WOO0c",
        "outputId": "19d97f90-407f-4c6a-e17e-f967d5f6c808"
      },
      "outputs": [
        {
          "output_type": "execute_result",
          "data": {
            "text/plain": [
              "0.7127507163323782"
            ]
          },
          "metadata": {},
          "execution_count": 65
        }
      ],
      "source": [
        "from sklearn.metrics import accuracy_score\n",
        "accuracy_score(test_datatset.classes, predictions)"
      ]
    },
    {
      "cell_type": "code",
      "execution_count": 66,
      "metadata": {
        "colab": {
          "base_uri": "https://localhost:8080/",
          "height": 430
        },
        "id": "CwufQs6AOjVu",
        "outputId": "b8772a35-ab6b-49c7-ffd3-178f4d636a51"
      },
      "outputs": [
        {
          "output_type": "display_data",
          "data": {
            "text/plain": [
              "<Figure size 640x480 with 2 Axes>"
            ],
            "image/png": "[encoded data removed]"
          },
          "metadata": {}
        }
      ],
      "source": [
        "from sklearn.metrics import confusion_matrix\n",
        "cm = confusion_matrix(test_datatset.classes, predictions)\n",
        "sns.heatmap(cm, annot=True);"
      ]
    },
    {
      "cell_type": "code",
      "execution_count": 67,
      "metadata": {
        "colab": {
          "base_uri": "https://localhost:8080/"
        },
        "id": "lfg484OCPGqq",
        "outputId": "26ebe7fe-363e-4912-d2ed-a52ec1ad10b5"
      },
      "outputs": [
        {
          "output_type": "stream",
          "name": "stdout",
          "text": [
            "              precision    recall  f1-score   support\n",
            "\n",
            "           0       0.76      0.87      0.81       198\n",
            "           1       0.95      0.94      0.95       200\n",
            "           2       0.57      0.70      0.63       200\n",
            "           3       0.69      0.32      0.43       199\n",
            "           4       0.71      0.95      0.81       200\n",
            "           5       0.56      0.54      0.55       199\n",
            "           6       0.76      0.67      0.71       200\n",
            "\n",
            "    accuracy                           0.71      1396\n",
            "   macro avg       0.72      0.71      0.70      1396\n",
            "weighted avg       0.72      0.71      0.70      1396\n",
            "\n"
          ]
        }
      ],
      "source": [
        "from sklearn.metrics import classification_report\n",
        "print(classification_report(test_datatset.classes, predictions))"
      ]
    },
    {
      "cell_type": "code",
      "execution_count": 68,
      "metadata": {
        "colab": {
          "base_uri": "https://localhost:8080/",
          "height": 472
        },
        "id": "AwBdQqe9Porm",
        "outputId": "80c7bdbd-4f02-4e6a-dbe8-dc58642f0dab"
      },
      "outputs": [
        {
          "output_type": "display_data",
          "data": {
            "text/plain": [
              "<Figure size 640x480 with 1 Axes>"
            ],
            "image/png": "[encoded data removed]"
          },
          "metadata": {}
        }
      ],
      "source": [
        "plt.plot(history.history['accuracy'])\n",
        "plt.plot(history.history['val_accuracy'])\n",
        "plt.title('model accuracy')\n",
        "plt.ylabel('accuracy')\n",
        "plt.xlabel('epoch')\n",
        "plt.legend(['train', 'val'], loc='upper left')\n",
        "plt.show()"
      ]
    },
    {
      "cell_type": "code",
      "execution_count": 69,
      "metadata": {
        "colab": {
          "base_uri": "https://localhost:8080/",
          "height": 472
        },
        "id": "vVr7AUw8SNre",
        "outputId": "bb4bc559-3bdb-4a8b-df27-716b5b914f0b"
      },
      "outputs": [
        {
          "output_type": "display_data",
          "data": {
            "text/plain": [
              "<Figure size 640x480 with 1 Axes>"
            ],
            "image/png": "[encoded data removed]"
          },
          "metadata": {}
        }
      ],
      "source": [
        "plt.plot(history.history['loss'])\n",
        "plt.plot(history.history['val_loss'])\n",
        "plt.title('model loss')\n",
        "plt.ylabel('loss')\n",
        "plt.xlabel('epoch')\n",
        "plt.legend(['train', 'val'], loc='upper left')\n",
        "plt.show()"
      ]
    },
    {
      "cell_type": "code",
      "execution_count": 70,
      "metadata": {
        "id": "pnmlR6M8gih2"
      },
      "outputs": [],
      "source": [
        "from tensorflow.keras.models import load_model\n",
        "model = load_model('/content/best_model11.h5')"
      ]
    },
    {
      "cell_type": "code",
      "execution_count": 71,
      "metadata": {
        "colab": {
          "base_uri": "https://localhost:8080/"
        },
        "id": "P5SUDIaUg8-G",
        "outputId": "f7428701-012f-445c-9376-7d103ab39817"
      },
      "outputs": [
        {
          "output_type": "stream",
          "name": "stdout",
          "text": [
            "1396/1396 [==============================] - 106s 75ms/step - loss: 0.8886 - accuracy: 0.6812\n"
          ]
        },
        {
          "output_type": "execute_result",
          "data": {
            "text/plain": [
              "[0.8886110782623291, 0.6812320947647095]"
            ]
          },
          "metadata": {},
          "execution_count": 71
        }
      ],
      "source": [
        "model.evaluate(test_datatset)"
      ]
    },
    {
      "cell_type": "code",
      "execution_count": 72,
      "metadata": {
        "colab": {
          "base_uri": "https://localhost:8080/",
          "height": 430
        },
        "id": "Zqq4ec2JhKgt",
        "outputId": "a21596c3-7fb4-4292-e87c-11dab763cbea"
      },
      "outputs": [
        {
          "output_type": "display_data",
          "data": {
            "text/plain": [
              "<Figure size 640x480 with 2 Axes>"
            ],
            "image/png": "[encoded data removed]"
          },
          "metadata": {}
        }
      ],
      "source": [
        "pred = model.predict(test_datatset)\n",
        "pred = np.argmax(pred, axis=1)\n",
        "cm = confusion_matrix(test_datatset.classes, pred)\n",
        "sns.heatmap(cm, annot=True);"
      ]
    },
    {
      "cell_type": "code",
      "execution_count": 73,
      "metadata": {
        "colab": {
          "base_uri": "https://localhost:8080/"
        },
        "id": "e2TSljdej81S",
        "outputId": "cdf8b792-e920-4295-e132-fe681512994f"
      },
      "outputs": [
        {
          "output_type": "stream",
          "name": "stdout",
          "text": [
            "              precision    recall  f1-score   support\n",
            "\n",
            "           0       0.78      0.89      0.83       198\n",
            "           1       0.95      0.94      0.95       200\n",
            "           2       0.54      0.67      0.60       200\n",
            "           3       0.55      0.28      0.37       199\n",
            "           4       0.68      0.91      0.78       200\n",
            "           5       0.50      0.46      0.48       199\n",
            "           6       0.71      0.61      0.66       200\n",
            "\n",
            "    accuracy                           0.68      1396\n",
            "   macro avg       0.67      0.68      0.67      1396\n",
            "weighted avg       0.67      0.68      0.67      1396\n",
            "\n"
          ]
        }
      ],
      "source": [
        "print(classification_report(test_datatset.classes, pred))"
      ]
    },
    {
      "cell_type": "code",
      "execution_count": 74,
      "metadata": {
        "id": "jzbwiv0ikEVG"
      },
      "outputs": [],
      "source": [
        "network.save('network.h5')"
      ]
    },
    {
      "cell_type": "code",
      "execution_count": 75,
      "metadata": {
        "id": "mTxEZdsQtlC4"
      },
      "outputs": [],
      "source": [
        "net = load_model('/content/network.h5')"
      ]
    },
    {
      "cell_type": "code",
      "execution_count": 76,
      "metadata": {
        "colab": {
          "base_uri": "https://localhost:8080/"
        },
        "id": "JgEg6VxztpAx",
        "outputId": "94dfe518-f360-4ab2-8b8e-a6a1bd0e607d"
      },
      "outputs": [
        {
          "output_type": "stream",
          "name": "stdout",
          "text": [
            "1396/1396 [==============================] - 105s 74ms/step - loss: 0.8410 - accuracy: 0.7128\n"
          ]
        },
        {
          "output_type": "execute_result",
          "data": {
            "text/plain": [
              "[0.8410232067108154, 0.7127507328987122]"
            ]
          },
          "metadata": {},
          "execution_count": 76
        }
      ],
      "source": [
        "net.evaluate(test_datatset)"
      ]
    },
    {
      "cell_type": "code",
      "execution_count": 77,
      "metadata": {
        "colab": {
          "base_uri": "https://localhost:8080/",
          "height": 430
        },
        "id": "6wbroQ7EvUvp",
        "outputId": "ce5639e7-f6e9-48b7-84cc-0fbaac30eb04"
      },
      "outputs": [
        {
          "output_type": "display_data",
          "data": {
            "text/plain": [
              "<Figure size 640x480 with 2 Axes>"
            ],
            "image/png": "[encoded data removed]"
          },
          "metadata": {}
        }
      ],
      "source": [
        "pre = net.predict(test_datatset)\n",
        "pre = np.argmax(pre, axis=1)\n",
        "cm = confusion_matrix(test_datatset.classes, pre)\n",
        "sns.heatmap(cm, annot=True);"
      ]
    },
    {
      "cell_type": "code",
      "execution_count": 78,
      "metadata": {
        "colab": {
          "base_uri": "https://localhost:8080/"
        },
        "id": "0c6L1deT_TAY",
        "outputId": "be91381e-90c5-4541-c96f-383ff409f185"
      },
      "outputs": [
        {
          "output_type": "stream",
          "name": "stdout",
          "text": [
            "              precision    recall  f1-score   support\n",
            "\n",
            "           0       0.78      0.89      0.83       198\n",
            "           1       0.95      0.94      0.95       200\n",
            "           2       0.54      0.67      0.60       200\n",
            "           3       0.55      0.28      0.37       199\n",
            "           4       0.68      0.91      0.78       200\n",
            "           5       0.50      0.46      0.48       199\n",
            "           6       0.71      0.61      0.66       200\n",
            "\n",
            "    accuracy                           0.68      1396\n",
            "   macro avg       0.67      0.68      0.67      1396\n",
            "weighted avg       0.67      0.68      0.67      1396\n",
            "\n"
          ]
        }
      ],
      "source": [
        "print(classification_report(test_datatset.classes, pred))"
      ]
    }
  ],
  "metadata": {
    "colab": {
      "provenance": [],
      "include_colab_link": true
    },
    "kernelspec": {
      "display_name": "Python 3",
      "name": "python3"
    },
    "language_info": {
      "name": "python"
    }
  },
  "nbformat": 4,
  "nbformat_minor": 0
}