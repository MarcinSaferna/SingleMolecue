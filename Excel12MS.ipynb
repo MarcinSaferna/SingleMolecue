{
  "cells": [
    {
      "cell_type": "markdown",
      "metadata": {
        "id": "view-in-github",
        "colab_type": "text"
      },
      "source": [
        "<a href=\"https://colab.research.google.com/github/MarcinSaferna/SingleMolecue/blob/main/Excel12MS.ipynb\" target=\"_parent\"><img src=\"https://colab.research.google.com/assets/colab-badge.svg\" alt=\"Open In Colab\"/></a>"
      ]
    },
    {
      "cell_type": "code",
      "execution_count": 2,
      "metadata": {
        "colab": {
          "base_uri": "https://localhost:8080/"
        },
        "id": "647sNsjCJ0hX",
        "outputId": "5879e63b-c4b7-43ee-cdad-9652b1f170b8"
      },
      "outputs": [
        {
          "output_type": "stream",
          "name": "stdout",
          "text": [
            "Requirement already satisfied: h5py in /usr/local/lib/python3.10/dist-packages (3.8.0)\n",
            "Requirement already satisfied: numpy>=1.14.5 in /usr/local/lib/python3.10/dist-packages (from h5py) (1.23.5)\n",
            "Requirement already satisfied: typing-extensions in /usr/local/lib/python3.10/dist-packages (4.7.1)\n",
            "Requirement already satisfied: wheel in /usr/local/lib/python3.10/dist-packages (0.41.0)\n"
          ]
        }
      ],
      "source": [
        "!pip install h5py\n",
        "!pip install typing-extensions\n",
        "!pip install wheel"
      ]
    },
    {
      "cell_type": "code",
      "execution_count": 3,
      "metadata": {
        "colab": {
          "base_uri": "https://localhost:8080/"
        },
        "id": "kq6qJdUqIWCQ",
        "outputId": "6ca12243-cfb2-43f5-a389-a358141046c6"
      },
      "outputs": [
        {
          "output_type": "stream",
          "name": "stdout",
          "text": [
            "Collecting tensorflow==2.8\n",
            "  Downloading tensorflow-2.8.0-cp310-cp310-manylinux2010_x86_64.whl (497.6 MB)\n",
            "\u001b[2K     \u001b[90m━━━━━━━━━━━━━━━━━━━━━━━━━━━━━━━━━━━━━━━\u001b[0m \u001b[32m497.6/497.6 MB\u001b[0m \u001b[31m1.7 MB/s\u001b[0m eta \u001b[36m0:00:00\u001b[0m\n",
            "\u001b[?25hRequirement already satisfied: absl-py>=0.4.0 in /usr/local/lib/python3.10/dist-packages (from tensorflow==2.8) (1.4.0)\n",
            "Requirement already satisfied: astunparse>=1.6.0 in /usr/local/lib/python3.10/dist-packages (from tensorflow==2.8) (1.6.3)\n",
            "Requirement already satisfied: flatbuffers>=1.12 in /usr/local/lib/python3.10/dist-packages (from tensorflow==2.8) (23.5.26)\n",
            "Requirement already satisfied: gast>=0.2.1 in /usr/local/lib/python3.10/dist-packages (from tensorflow==2.8) (0.4.0)\n",
            "Requirement already satisfied: google-pasta>=0.1.1 in /usr/local/lib/python3.10/dist-packages (from tensorflow==2.8) (0.2.0)\n",
            "Requirement already satisfied: h5py>=2.9.0 in /usr/local/lib/python3.10/dist-packages (from tensorflow==2.8) (3.8.0)\n",
            "Collecting keras-preprocessing>=1.1.1 (from tensorflow==2.8)\n",
            "  Downloading Keras_Preprocessing-1.1.2-py2.py3-none-any.whl (42 kB)\n",
            "\u001b[2K     \u001b[90m━━━━━━━━━━━━━━━━━━━━━━━━━━━━━━━━━━━━━━━━\u001b[0m \u001b[32m42.6/42.6 kB\u001b[0m \u001b[31m3.1 MB/s\u001b[0m eta \u001b[36m0:00:00\u001b[0m\n",
            "\u001b[?25hRequirement already satisfied: libclang>=9.0.1 in /usr/local/lib/python3.10/dist-packages (from tensorflow==2.8) (16.0.6)\n",
            "Requirement already satisfied: numpy>=1.20 in /usr/local/lib/python3.10/dist-packages (from tensorflow==2.8) (1.23.5)\n",
            "Requirement already satisfied: opt-einsum>=2.3.2 in /usr/local/lib/python3.10/dist-packages (from tensorflow==2.8) (3.3.0)\n",
            "Requirement already satisfied: protobuf>=3.9.2 in /usr/local/lib/python3.10/dist-packages (from tensorflow==2.8) (3.20.3)\n",
            "Requirement already satisfied: setuptools in /usr/local/lib/python3.10/dist-packages (from tensorflow==2.8) (67.7.2)\n",
            "Requirement already satisfied: six>=1.12.0 in /usr/local/lib/python3.10/dist-packages (from tensorflow==2.8) (1.16.0)\n",
            "Requirement already satisfied: termcolor>=1.1.0 in /usr/local/lib/python3.10/dist-packages (from tensorflow==2.8) (2.3.0)\n",
            "Requirement already satisfied: typing-extensions>=3.6.6 in /usr/local/lib/python3.10/dist-packages (from tensorflow==2.8) (4.7.1)\n",
            "Requirement already satisfied: wrapt>=1.11.0 in /usr/local/lib/python3.10/dist-packages (from tensorflow==2.8) (1.14.1)\n",
            "Collecting tensorboard<2.9,>=2.8 (from tensorflow==2.8)\n",
            "  Downloading tensorboard-2.8.0-py3-none-any.whl (5.8 MB)\n",
            "\u001b[2K     \u001b[90m━━━━━━━━━━━━━━━━━━━━━━━━━━━━━━━━━━━━━━━━\u001b[0m \u001b[32m5.8/5.8 MB\u001b[0m \u001b[31m59.7 MB/s\u001b[0m eta \u001b[36m0:00:00\u001b[0m\n",
            "\u001b[?25hCollecting tf-estimator-nightly==2.8.0.dev2021122109 (from tensorflow==2.8)\n",
            "  Downloading tf_estimator_nightly-2.8.0.dev2021122109-py2.py3-none-any.whl (462 kB)\n",
            "\u001b[2K     \u001b[90m━━━━━━━━━━━━━━━━━━━━━━━━━━━━━━━━━━━━━━\u001b[0m \u001b[32m462.5/462.5 kB\u001b[0m \u001b[31m25.4 MB/s\u001b[0m eta \u001b[36m0:00:00\u001b[0m\n",
            "\u001b[?25hCollecting keras<2.9,>=2.8.0rc0 (from tensorflow==2.8)\n",
            "  Downloading keras-2.8.0-py2.py3-none-any.whl (1.4 MB)\n",
            "\u001b[2K     \u001b[90m━━━━━━━━━━━━━━━━━━━━━━━━━━━━━━━━━━━━━━━━\u001b[0m \u001b[32m1.4/1.4 MB\u001b[0m \u001b[31m29.9 MB/s\u001b[0m eta \u001b[36m0:00:00\u001b[0m\n",
            "\u001b[?25hRequirement already satisfied: tensorflow-io-gcs-filesystem>=0.23.1 in /usr/local/lib/python3.10/dist-packages (from tensorflow==2.8) (0.33.0)\n",
            "Requirement already satisfied: grpcio<2.0,>=1.24.3 in /usr/local/lib/python3.10/dist-packages (from tensorflow==2.8) (1.56.2)\n",
            "Requirement already satisfied: wheel<1.0,>=0.23.0 in /usr/local/lib/python3.10/dist-packages (from astunparse>=1.6.0->tensorflow==2.8) (0.41.0)\n",
            "Requirement already satisfied: google-auth<3,>=1.6.3 in /usr/local/lib/python3.10/dist-packages (from tensorboard<2.9,>=2.8->tensorflow==2.8) (2.17.3)\n",
            "Collecting google-auth-oauthlib<0.5,>=0.4.1 (from tensorboard<2.9,>=2.8->tensorflow==2.8)\n",
            "  Downloading google_auth_oauthlib-0.4.6-py2.py3-none-any.whl (18 kB)\n",
            "Requirement already satisfied: markdown>=2.6.8 in /usr/local/lib/python3.10/dist-packages (from tensorboard<2.9,>=2.8->tensorflow==2.8) (3.4.4)\n",
            "Requirement already satisfied: requests<3,>=2.21.0 in /usr/local/lib/python3.10/dist-packages (from tensorboard<2.9,>=2.8->tensorflow==2.8) (2.31.0)\n",
            "Collecting tensorboard-data-server<0.7.0,>=0.6.0 (from tensorboard<2.9,>=2.8->tensorflow==2.8)\n",
            "  Downloading tensorboard_data_server-0.6.1-py3-none-manylinux2010_x86_64.whl (4.9 MB)\n",
            "\u001b[2K     \u001b[90m━━━━━━━━━━━━━━━━━━━━━━━━━━━━━━━━━━━━━━━━\u001b[0m \u001b[32m4.9/4.9 MB\u001b[0m \u001b[31m32.0 MB/s\u001b[0m eta \u001b[36m0:00:00\u001b[0m\n",
            "\u001b[?25hCollecting tensorboard-plugin-wit>=1.6.0 (from tensorboard<2.9,>=2.8->tensorflow==2.8)\n",
            "  Downloading tensorboard_plugin_wit-1.8.1-py3-none-any.whl (781 kB)\n",
            "\u001b[2K     \u001b[90m━━━━━━━━━━━━━━━━━━━━━━━━━━━━━━━━━━━━━━\u001b[0m \u001b[32m781.3/781.3 kB\u001b[0m \u001b[31m27.1 MB/s\u001b[0m eta \u001b[36m0:00:00\u001b[0m\n",
            "\u001b[?25hRequirement already satisfied: werkzeug>=0.11.15 in /usr/local/lib/python3.10/dist-packages (from tensorboard<2.9,>=2.8->tensorflow==2.8) (2.3.6)\n",
            "Requirement already satisfied: cachetools<6.0,>=2.0.0 in /usr/local/lib/python3.10/dist-packages (from google-auth<3,>=1.6.3->tensorboard<2.9,>=2.8->tensorflow==2.8) (5.3.1)\n",
            "Requirement already satisfied: pyasn1-modules>=0.2.1 in /usr/local/lib/python3.10/dist-packages (from google-auth<3,>=1.6.3->tensorboard<2.9,>=2.8->tensorflow==2.8) (0.3.0)\n",
            "Requirement already satisfied: rsa<5,>=3.1.4 in /usr/local/lib/python3.10/dist-packages (from google-auth<3,>=1.6.3->tensorboard<2.9,>=2.8->tensorflow==2.8) (4.9)\n",
            "Requirement already satisfied: requests-oauthlib>=0.7.0 in /usr/local/lib/python3.10/dist-packages (from google-auth-oauthlib<0.5,>=0.4.1->tensorboard<2.9,>=2.8->tensorflow==2.8) (1.3.1)\n",
            "Requirement already satisfied: charset-normalizer<4,>=2 in /usr/local/lib/python3.10/dist-packages (from requests<3,>=2.21.0->tensorboard<2.9,>=2.8->tensorflow==2.8) (3.2.0)\n",
            "Requirement already satisfied: idna<4,>=2.5 in /usr/local/lib/python3.10/dist-packages (from requests<3,>=2.21.0->tensorboard<2.9,>=2.8->tensorflow==2.8) (3.4)\n",
            "Requirement already satisfied: urllib3<3,>=1.21.1 in /usr/local/lib/python3.10/dist-packages (from requests<3,>=2.21.0->tensorboard<2.9,>=2.8->tensorflow==2.8) (1.26.16)\n",
            "Requirement already satisfied: certifi>=2017.4.17 in /usr/local/lib/python3.10/dist-packages (from requests<3,>=2.21.0->tensorboard<2.9,>=2.8->tensorflow==2.8) (2023.7.22)\n",
            "Requirement already satisfied: MarkupSafe>=2.1.1 in /usr/local/lib/python3.10/dist-packages (from werkzeug>=0.11.15->tensorboard<2.9,>=2.8->tensorflow==2.8) (2.1.3)\n",
            "Requirement already satisfied: pyasn1<0.6.0,>=0.4.6 in /usr/local/lib/python3.10/dist-packages (from pyasn1-modules>=0.2.1->google-auth<3,>=1.6.3->tensorboard<2.9,>=2.8->tensorflow==2.8) (0.5.0)\n",
            "Requirement already satisfied: oauthlib>=3.0.0 in /usr/local/lib/python3.10/dist-packages (from requests-oauthlib>=0.7.0->google-auth-oauthlib<0.5,>=0.4.1->tensorboard<2.9,>=2.8->tensorflow==2.8) (3.2.2)\n",
            "Installing collected packages: tf-estimator-nightly, tensorboard-plugin-wit, keras, tensorboard-data-server, keras-preprocessing, google-auth-oauthlib, tensorboard, tensorflow\n",
            "  Attempting uninstall: keras\n",
            "    Found existing installation: keras 2.12.0\n",
            "    Uninstalling keras-2.12.0:\n",
            "      Successfully uninstalled keras-2.12.0\n",
            "  Attempting uninstall: tensorboard-data-server\n",
            "    Found existing installation: tensorboard-data-server 0.7.1\n",
            "    Uninstalling tensorboard-data-server-0.7.1:\n",
            "      Successfully uninstalled tensorboard-data-server-0.7.1\n",
            "  Attempting uninstall: google-auth-oauthlib\n",
            "    Found existing installation: google-auth-oauthlib 1.0.0\n",
            "    Uninstalling google-auth-oauthlib-1.0.0:\n",
            "      Successfully uninstalled google-auth-oauthlib-1.0.0\n",
            "  Attempting uninstall: tensorboard\n",
            "    Found existing installation: tensorboard 2.12.3\n",
            "    Uninstalling tensorboard-2.12.3:\n",
            "      Successfully uninstalled tensorboard-2.12.3\n",
            "  Attempting uninstall: tensorflow\n",
            "    Found existing installation: tensorflow 2.12.0\n",
            "    Uninstalling tensorflow-2.12.0:\n",
            "      Successfully uninstalled tensorflow-2.12.0\n",
            "Successfully installed google-auth-oauthlib-0.4.6 keras-2.8.0 keras-preprocessing-1.1.2 tensorboard-2.8.0 tensorboard-data-server-0.6.1 tensorboard-plugin-wit-1.8.1 tensorflow-2.8.0 tf-estimator-nightly-2.8.0.dev2021122109\n"
          ]
        }
      ],
      "source": [
        "!pip install tensorflow==2.8"
      ]
    },
    {
      "cell_type": "code",
      "execution_count": 4,
      "metadata": {
        "colab": {
          "base_uri": "https://localhost:8080/",
          "height": 36
        },
        "id": "I0X9qkMXs_pp",
        "outputId": "c2a5068b-fdf2-41d5-e59c-b9a80aa0b6e8"
      },
      "outputs": [
        {
          "output_type": "execute_result",
          "data": {
            "text/plain": [
              "'2.8.0'"
            ],
            "application/vnd.google.colaboratory.intrinsic+json": {
              "type": "string"
            }
          },
          "metadata": {},
          "execution_count": 4
        }
      ],
      "source": [
        "import matplotlib.pyplot as plt\n",
        "import seaborn as sns\n",
        "import zipfile\n",
        "import numpy as np\n",
        "import cv2\n",
        "from google.colab.patches import cv2_imshow\n",
        "import tensorflow as tf\n",
        "from tensorflow.keras.callbacks import ReduceLROnPlateau\n",
        "from tensorflow.keras import regularizers\n",
        "from tensorflow.keras.callbacks import ModelCheckpoint, EarlyStopping\n",
        "from tensorflow.keras.models import Sequential\n",
        "from tensorflow.keras.layers import Conv2D, MaxPool2D, Flatten, Dense, BatchNormalization, Dropout\n",
        "from tensorflow.keras.preprocessing.image import ImageDataGenerator\n",
        "tf.__version__"
      ]
    },
    {
      "cell_type": "code",
      "execution_count": 5,
      "metadata": {
        "colab": {
          "base_uri": "https://localhost:8080/"
        },
        "id": "yQMOvsd99H-V",
        "outputId": "5a4abef6-a484-435c-f68b-054555d48097"
      },
      "outputs": [
        {
          "output_type": "stream",
          "name": "stdout",
          "text": [
            "Mounted at /content/drive\n"
          ]
        }
      ],
      "source": [
        "from google.colab import drive\n",
        "drive.mount('/content/drive')"
      ]
    },
    {
      "cell_type": "code",
      "execution_count": 6,
      "metadata": {
        "id": "Y_BgiI3JxA9q"
      },
      "outputs": [],
      "source": [
        "path = '/content/drive/MyDrive/praktyki/rawDataSingleMolecule/gotowe.zip'\n",
        "zip_object = zipfile.ZipFile(file=path, mode='r')\n",
        "zip_object.extractall('./')\n",
        "zip_object.close()"
      ]
    },
    {
      "cell_type": "code",
      "execution_count": 7,
      "metadata": {
        "id": "7-PhxwM60uM7"
      },
      "outputs": [],
      "source": [
        "training_generator = ImageDataGenerator(rescale=1./255,\n",
        "                                        horizontal_flip=True,\n",
        "                                        vertical_flip=True)\n"
      ]
    },
    {
      "cell_type": "code",
      "execution_count": 8,
      "metadata": {
        "colab": {
          "base_uri": "https://localhost:8080/"
        },
        "id": "jMErkkVv_mXw",
        "outputId": "5c78ec31-2b4c-4fa5-b507-9f24c7184d09"
      },
      "outputs": [
        {
          "output_type": "stream",
          "name": "stdout",
          "text": [
            "Found 11158 images belonging to 7 classes.\n"
          ]
        }
      ],
      "source": [
        "train_dataset = training_generator.flow_from_directory('/content/gotowe/train_set',\n",
        "                                                       target_size = (100, 100),\n",
        "                                                       batch_size = 10,\n",
        "                                                       color_mode='rgb',\n",
        "                                                       class_mode = 'categorical',\n",
        "                                                       shuffle = True)"
      ]
    },
    {
      "cell_type": "code",
      "execution_count": 9,
      "metadata": {
        "colab": {
          "base_uri": "https://localhost:8080/"
        },
        "id": "C4errPxfAukM",
        "outputId": "b71f009a-fc21-42e0-b470-ba6d7f72e61b"
      },
      "outputs": [
        {
          "output_type": "execute_result",
          "data": {
            "text/plain": [
              "array([0, 0, 0, ..., 6, 6, 6], dtype=int32)"
            ]
          },
          "metadata": {},
          "execution_count": 9
        }
      ],
      "source": [
        "train_dataset.classes"
      ]
    },
    {
      "cell_type": "code",
      "execution_count": 10,
      "metadata": {
        "colab": {
          "base_uri": "https://localhost:8080/"
        },
        "id": "jYCiD3adA5xf",
        "outputId": "eb7e03af-dc52-44d3-ba99-896a813beecd"
      },
      "outputs": [
        {
          "output_type": "execute_result",
          "data": {
            "text/plain": [
              "{'nematyk': 0,\n",
              " 'smektyk_C': 1,\n",
              " 'smektyk_F': 2,\n",
              " 'smektyk_GMosaic': 3,\n",
              " 'smektyk_GSchliren': 4,\n",
              " 'smektyk_H': 5,\n",
              " 'smektyk_I': 6}"
            ]
          },
          "metadata": {},
          "execution_count": 10
        }
      ],
      "source": [
        "train_dataset.class_indices"
      ]
    },
    {
      "cell_type": "code",
      "execution_count": 11,
      "metadata": {
        "id": "6VK7xyH-BkSq"
      },
      "outputs": [],
      "source": [
        "test_generator = ImageDataGenerator(rescale=1./255)\n",
        "val_generator = ImageDataGenerator(rescale=1./255)"
      ]
    },
    {
      "cell_type": "code",
      "execution_count": 12,
      "metadata": {
        "colab": {
          "base_uri": "https://localhost:8080/"
        },
        "id": "84kKwMy6U7oh",
        "outputId": "a972d3e8-dba3-4ac4-ff2f-a82adebec936"
      },
      "outputs": [
        {
          "output_type": "stream",
          "name": "stdout",
          "text": [
            "Found 1395 images belonging to 7 classes.\n"
          ]
        }
      ],
      "source": [
        "validation_dataset = val_generator.flow_from_directory('/content/gotowe/val_set',\n",
        "                                                        target_size=(100, 100),\n",
        "                                                        batch_size=1,\n",
        "                                                        class_mode='categorical',\n",
        "                                                        color_mode='rgb',\n",
        "                                                        shuffle=True) # set as validation data"
      ]
    },
    {
      "cell_type": "code",
      "execution_count": 13,
      "metadata": {
        "id": "PB2pU5bzXPTa"
      },
      "outputs": [],
      "source": [
        "L2 = 0.00001"
      ]
    },
    {
      "cell_type": "code",
      "execution_count": 14,
      "metadata": {
        "colab": {
          "base_uri": "https://localhost:8080/"
        },
        "id": "SdqIBmxiBvU1",
        "outputId": "13d7b833-c3fb-4f41-f110-4386b658a415"
      },
      "outputs": [
        {
          "output_type": "stream",
          "name": "stdout",
          "text": [
            "Found 1396 images belonging to 7 classes.\n"
          ]
        }
      ],
      "source": [
        "test_datatset = test_generator.flow_from_directory('/content/gotowe/test_set',\n",
        "                                                   target_size = (100, 100),\n",
        "                                                   batch_size = 1,\n",
        "                                                   color_mode='rgb',\n",
        "                                                   class_mode = 'categorical',\n",
        "                                                   shuffle = False)"
      ]
    },
    {
      "cell_type": "code",
      "execution_count": 15,
      "metadata": {
        "id": "xVLgf1bADs_C"
      },
      "outputs": [],
      "source": [
        "initializer1 = tf.keras.initializers.HeNormal()\n",
        "initializer2 = tf.keras.initializers.GlorotUniform()"
      ]
    },
    {
      "cell_type": "code",
      "execution_count": 16,
      "metadata": {
        "colab": {
          "base_uri": "https://localhost:8080/"
        },
        "id": "QTr7SiKfD6UI",
        "outputId": "14ce2e25-2ab6-445e-9c3e-0660e082fddc"
      },
      "outputs": [
        {
          "output_type": "stream",
          "name": "stdout",
          "text": [
            "Model: \"sequential\"\n",
            "_________________________________________________________________\n",
            " Layer (type)                Output Shape              Param #   \n",
            "=================================================================\n",
            " conv2d (Conv2D)             (None, 98, 98, 16)        448       \n",
            "                                                                 \n",
            " batch_normalization (BatchN  (None, 98, 98, 16)       64        \n",
            " ormalization)                                                   \n",
            "                                                                 \n",
            " conv2d_1 (Conv2D)           (None, 98, 98, 32)        4640      \n",
            "                                                                 \n",
            " conv2d_2 (Conv2D)           (None, 98, 98, 32)        9248      \n",
            "                                                                 \n",
            " batch_normalization_1 (Batc  (None, 98, 98, 32)       128       \n",
            " hNormalization)                                                 \n",
            "                                                                 \n",
            " max_pooling2d (MaxPooling2D  (None, 49, 49, 32)       0         \n",
            " )                                                               \n",
            "                                                                 \n",
            " conv2d_3 (Conv2D)           (None, 49, 49, 64)        18496     \n",
            "                                                                 \n",
            " conv2d_4 (Conv2D)           (None, 49, 49, 64)        36928     \n",
            "                                                                 \n",
            " conv2d_5 (Conv2D)           (None, 49, 49, 64)        36928     \n",
            "                                                                 \n",
            " batch_normalization_2 (Batc  (None, 49, 49, 64)       256       \n",
            " hNormalization)                                                 \n",
            "                                                                 \n",
            " max_pooling2d_1 (MaxPooling  (None, 24, 24, 64)       0         \n",
            " 2D)                                                             \n",
            "                                                                 \n",
            " conv2d_6 (Conv2D)           (None, 24, 24, 128)       8320      \n",
            "                                                                 \n",
            " batch_normalization_3 (Batc  (None, 24, 24, 128)      512       \n",
            " hNormalization)                                                 \n",
            "                                                                 \n",
            " max_pooling2d_2 (MaxPooling  (None, 12, 12, 128)      0         \n",
            " 2D)                                                             \n",
            "                                                                 \n",
            " conv2d_7 (Conv2D)           (None, 12, 12, 256)       33024     \n",
            "                                                                 \n",
            " conv2d_8 (Conv2D)           (None, 12, 12, 256)       590080    \n",
            "                                                                 \n",
            " batch_normalization_4 (Batc  (None, 12, 12, 256)      1024      \n",
            " hNormalization)                                                 \n",
            "                                                                 \n",
            " conv2d_9 (Conv2D)           (None, 12, 12, 512)       131584    \n",
            "                                                                 \n",
            " conv2d_10 (Conv2D)          (None, 12, 12, 512)       1049088   \n",
            "                                                                 \n",
            " conv2d_11 (Conv2D)          (None, 12, 12, 512)       262656    \n",
            "                                                                 \n",
            " batch_normalization_5 (Batc  (None, 12, 12, 512)      2048      \n",
            " hNormalization)                                                 \n",
            "                                                                 \n",
            " max_pooling2d_3 (MaxPooling  (None, 6, 6, 512)        0         \n",
            " 2D)                                                             \n",
            "                                                                 \n",
            " flatten (Flatten)           (None, 18432)             0         \n",
            "                                                                 \n",
            " dropout (Dropout)           (None, 18432)             0         \n",
            "                                                                 \n",
            " dense (Dense)               (None, 512)               9437696   \n",
            "                                                                 \n",
            " batch_normalization_6 (Batc  (None, 512)              2048      \n",
            " hNormalization)                                                 \n",
            "                                                                 \n",
            " dense_1 (Dense)             (None, 256)               131328    \n",
            "                                                                 \n",
            " batch_normalization_7 (Batc  (None, 256)              1024      \n",
            " hNormalization)                                                 \n",
            "                                                                 \n",
            " dense_2 (Dense)             (None, 128)               32896     \n",
            "                                                                 \n",
            " batch_normalization_8 (Batc  (None, 128)              512       \n",
            " hNormalization)                                                 \n",
            "                                                                 \n",
            " dense_3 (Dense)             (None, 7)                 903       \n",
            "                                                                 \n",
            "=================================================================\n",
            "Total params: 11,791,879\n",
            "Trainable params: 11,788,071\n",
            "Non-trainable params: 3,808\n",
            "_________________________________________________________________\n"
          ]
        }
      ],
      "source": [
        "network = Sequential()\n",
        "network.add(Conv2D(filters=16, kernel_size=(3,3), activation = 'relu', input_shape = (100,100,3), kernel_initializer=initializer1))\n",
        "#network.add(Conv2D(filters=16, kernel_size=(1,1), activation = 'relu', padding='same', kernel_initializer=initializer1))\n",
        "#network.add(Conv2D(filters=16, kernel_size=(3,3), activation = 'relu', padding='same', kernel_initializer=initializer1))\n",
        "#network.add(Conv2D(filters=16, kernel_size=(1,1), activation = 'relu', padding='same', kernel_initializer=initializer1))\n",
        "network.add(BatchNormalization())\n",
        "#network.add(MaxPool2D(pool_size=(2,2)))\n",
        "\n",
        "network.add(Conv2D(filters=32, kernel_size=(3,3), activation = 'relu', padding='same', kernel_initializer=initializer1))\n",
        "network.add(Conv2D(filters=32, kernel_size=(3,3), activation = 'relu', padding='same', kernel_initializer=initializer1))\n",
        "#network.add(Conv2D(filters=32, kernel_size=(1,1), activation = 'relu', padding='same', kernel_initializer=initializer1))\n",
        "network.add(BatchNormalization())\n",
        "network.add(MaxPool2D(pool_size=(2,2)))\n",
        "\n",
        "\n",
        "network.add(Conv2D(filters=64, kernel_size=(3,3), activation = 'relu', padding='same', kernel_initializer=initializer1))\n",
        "network.add(Conv2D(filters=64, kernel_size=(3,3), activation = 'relu', padding='same', kernel_initializer=initializer1))\n",
        "network.add(Conv2D(filters=64, kernel_size=(3,3), activation = 'relu', padding='same', kernel_initializer=initializer1))\n",
        "network.add(BatchNormalization())\n",
        "network.add(MaxPool2D(pool_size=(2,2)))\n",
        "\n",
        "network.add(Conv2D(filters=128, kernel_size=(1,1), activation = 'relu', padding='same', kernel_initializer=initializer1))\n",
        "#network.add(Conv2D(filters=128, kernel_size=(3,3), activation = 'relu', padding='same', kernel_initializer=initializer1))\n",
        "#network.add(Conv2D(filters=128, kernel_size=(3,3), activation = 'relu', padding='same', kernel_initializer=initializer1))\n",
        "#network.add(Conv2D(filters=128, kernel_size=(1,1), activation = 'relu', padding='same', kernel_initializer=initializer1))\n",
        "network.add(BatchNormalization())\n",
        "network.add(MaxPool2D(pool_size=(2,2)))\n",
        "\n",
        "network.add(Conv2D(filters=256, kernel_size=(1,1), activation = 'relu', padding='same', kernel_initializer=initializer1))\n",
        "network.add(Conv2D(filters=256, kernel_size=(3,3), activation = 'relu', padding='same', kernel_initializer=initializer1))\n",
        "#network.add(Conv2D(filters=256, kernel_size=(1,1), activation = 'relu', padding='same', kernel_initializer=initializer1))\n",
        "network.add(BatchNormalization())\n",
        "#network.add(MaxPool2D(pool_size=(2,2)))\n",
        "\n",
        "network.add(Conv2D(filters=512, kernel_size=(1,1), activation = 'relu', padding='same', kernel_initializer=initializer1))\n",
        "network.add(Conv2D(filters=512, kernel_size=(2,2), activation = 'relu', padding='same', kernel_initializer=initializer1))\n",
        "network.add(Conv2D(filters=512, kernel_size=(1,1), activation = 'relu', padding='same', kernel_initializer=initializer1))\n",
        "network.add(BatchNormalization())\n",
        "network.add(MaxPool2D(pool_size=(2,2)))\n",
        "\n",
        "network.add(Flatten())\n",
        "\n",
        "network.add(Dropout(0.1))\n",
        "network.add(Dense(units = 512, activation = 'relu', kernel_initializer=initializer1))\n",
        "network.add(BatchNormalization())\n",
        "network.add(Dense(units = 256, activation = 'relu', kernel_initializer=initializer1))\n",
        "network.add(BatchNormalization())\n",
        "network.add(Dense(units = 128, activation = 'relu', kernel_initializer=initializer1))\n",
        "network.add(BatchNormalization())\n",
        "#network.add(Dense(units = 64, activation = 'relu', kernel_initializer=initializer1))\n",
        "#network.add(BatchNormalization())\n",
        "#network.add(Dense(units = 32, activation = 'relu', kernel_initializer=initializer1))\n",
        "#network.add(BatchNormalization())\n",
        "#network.add(Dense(units = 16, activation = 'relu', kernel_initializer=initializer1, kernel_regularizer=tf.keras.regularizers.L1L2()))\n",
        "#network.add(BatchNormalization())\n",
        "network.add(Dense(units = 7, activation = 'softmax', kernel_initializer=initializer2))\n",
        "network.summary()"
      ]
    },
    {
      "cell_type": "code",
      "execution_count": 17,
      "metadata": {
        "id": "6viOH_kUE4Bq"
      },
      "outputs": [],
      "source": [
        "from tensorflow.keras.optimizers import Adam\n",
        "#opt = Adam(lr=0.005)\n",
        "opt = Adam()\n",
        "network.compile(optimizer='Adam', loss='categorical_crossentropy', metrics = ['accuracy'])\n"
      ]
    },
    {
      "cell_type": "code",
      "execution_count": 18,
      "metadata": {
        "id": "5IXmjfYmbuYh"
      },
      "outputs": [],
      "source": [
        "es = EarlyStopping(monitor = 'val_accuracy', min_delta = 0.001, patience = 20, verbose =1)\n",
        "model_cp = ModelCheckpoint(filepath = 'best_model12.h5', monitor = 'val_accuracy', save_best_only = True, verbose = 1)\n",
        "learning_rate_reduction = ReduceLROnPlateau(monitor='val_accuracy', patience = 5, verbose=1, factor=0.5, min_lr=0.00001)"
      ]
    },
    {
      "cell_type": "code",
      "execution_count": 19,
      "metadata": {
        "colab": {
          "base_uri": "https://localhost:8080/"
        },
        "id": "Uk8BSV5gGazz",
        "outputId": "b7b25270-4a84-4e88-e1ae-e970e695ea0b"
      },
      "outputs": [
        {
          "output_type": "stream",
          "name": "stderr",
          "text": [
            "<ipython-input-19-d45876fe1552>:1: UserWarning: `Model.fit_generator` is deprecated and will be removed in a future version. Please use `Model.fit`, which supports generators.\n",
            "  history = network.fit_generator(train_dataset,\n"
          ]
        },
        {
          "output_type": "stream",
          "name": "stdout",
          "text": [
            "Epoch 1/100\n",
            "50/50 [==============================] - ETA: 0s - loss: 1.8302 - accuracy: 0.3680\n",
            "Epoch 1: val_accuracy improved from -inf to 0.14000, saving model to best_model12.h5\n",
            "50/50 [==============================] - 87s 2s/step - loss: 1.8302 - accuracy: 0.3680 - val_loss: 20.9200 - val_accuracy: 0.1400 - lr: 0.0010\n",
            "Epoch 2/100\n",
            "50/50 [==============================] - ETA: 0s - loss: 1.4662 - accuracy: 0.4820\n",
            "Epoch 2: val_accuracy improved from 0.14000 to 0.22000, saving model to best_model12.h5\n",
            "50/50 [==============================] - 82s 2s/step - loss: 1.4662 - accuracy: 0.4820 - val_loss: 2.7248 - val_accuracy: 0.2200 - lr: 0.0010\n",
            "Epoch 3/100\n",
            "50/50 [==============================] - ETA: 0s - loss: 1.1972 - accuracy: 0.5420\n",
            "Epoch 3: val_accuracy improved from 0.22000 to 0.24000, saving model to best_model12.h5\n",
            "50/50 [==============================] - 81s 2s/step - loss: 1.1972 - accuracy: 0.5420 - val_loss: 1.8805 - val_accuracy: 0.2400 - lr: 0.0010\n",
            "Epoch 4/100\n",
            "50/50 [==============================] - ETA: 0s - loss: 1.2462 - accuracy: 0.5560\n",
            "Epoch 4: val_accuracy improved from 0.24000 to 0.32000, saving model to best_model12.h5\n",
            "50/50 [==============================] - 78s 2s/step - loss: 1.2462 - accuracy: 0.5560 - val_loss: 1.8345 - val_accuracy: 0.3200 - lr: 0.0010\n",
            "Epoch 5/100\n",
            "50/50 [==============================] - ETA: 0s - loss: 1.1379 - accuracy: 0.6000\n",
            "Epoch 5: val_accuracy improved from 0.32000 to 0.42000, saving model to best_model12.h5\n",
            "50/50 [==============================] - 84s 2s/step - loss: 1.1379 - accuracy: 0.6000 - val_loss: 1.6190 - val_accuracy: 0.4200 - lr: 0.0010\n",
            "Epoch 6/100\n",
            "50/50 [==============================] - ETA: 0s - loss: 1.0416 - accuracy: 0.6400\n",
            "Epoch 6: val_accuracy improved from 0.42000 to 0.58000, saving model to best_model12.h5\n",
            "50/50 [==============================] - 81s 2s/step - loss: 1.0416 - accuracy: 0.6400 - val_loss: 1.1863 - val_accuracy: 0.5800 - lr: 0.0010\n",
            "Epoch 7/100\n",
            "50/50 [==============================] - ETA: 0s - loss: 1.1027 - accuracy: 0.6120\n",
            "Epoch 7: val_accuracy did not improve from 0.58000\n",
            "50/50 [==============================] - 79s 2s/step - loss: 1.1027 - accuracy: 0.6120 - val_loss: 1.5321 - val_accuracy: 0.4600 - lr: 0.0010\n",
            "Epoch 8/100\n",
            "50/50 [==============================] - ETA: 0s - loss: 1.0439 - accuracy: 0.6200\n",
            "Epoch 8: val_accuracy did not improve from 0.58000\n",
            "50/50 [==============================] - 79s 2s/step - loss: 1.0439 - accuracy: 0.6200 - val_loss: 1.1692 - val_accuracy: 0.4800 - lr: 0.0010\n",
            "Epoch 9/100\n",
            "50/50 [==============================] - ETA: 0s - loss: 0.9589 - accuracy: 0.6540\n",
            "Epoch 9: val_accuracy improved from 0.58000 to 0.68000, saving model to best_model12.h5\n",
            "50/50 [==============================] - 81s 2s/step - loss: 0.9589 - accuracy: 0.6540 - val_loss: 0.7493 - val_accuracy: 0.6800 - lr: 0.0010\n",
            "Epoch 10/100\n",
            "50/50 [==============================] - ETA: 0s - loss: 1.0322 - accuracy: 0.6460\n",
            "Epoch 10: val_accuracy improved from 0.68000 to 0.78000, saving model to best_model12.h5\n",
            "50/50 [==============================] - 78s 2s/step - loss: 1.0322 - accuracy: 0.6460 - val_loss: 0.5884 - val_accuracy: 0.7800 - lr: 0.0010\n",
            "Epoch 11/100\n",
            "50/50 [==============================] - ETA: 0s - loss: 1.1167 - accuracy: 0.5920\n",
            "Epoch 11: val_accuracy did not improve from 0.78000\n",
            "50/50 [==============================] - 84s 2s/step - loss: 1.1167 - accuracy: 0.5920 - val_loss: 1.0261 - val_accuracy: 0.6600 - lr: 0.0010\n",
            "Epoch 12/100\n",
            "50/50 [==============================] - ETA: 0s - loss: 0.9924 - accuracy: 0.6400\n",
            "Epoch 12: val_accuracy did not improve from 0.78000\n",
            "50/50 [==============================] - 77s 2s/step - loss: 0.9924 - accuracy: 0.6400 - val_loss: 0.7128 - val_accuracy: 0.7800 - lr: 0.0010\n",
            "Epoch 13/100\n",
            "50/50 [==============================] - ETA: 0s - loss: 0.9289 - accuracy: 0.6480\n",
            "Epoch 13: val_accuracy did not improve from 0.78000\n",
            "50/50 [==============================] - 81s 2s/step - loss: 0.9289 - accuracy: 0.6480 - val_loss: 1.0742 - val_accuracy: 0.5400 - lr: 0.0010\n",
            "Epoch 14/100\n",
            "50/50 [==============================] - ETA: 0s - loss: 1.0103 - accuracy: 0.6400\n",
            "Epoch 14: val_accuracy did not improve from 0.78000\n",
            "50/50 [==============================] - 78s 2s/step - loss: 1.0103 - accuracy: 0.6400 - val_loss: 0.8546 - val_accuracy: 0.6600 - lr: 0.0010\n",
            "Epoch 15/100\n",
            "50/50 [==============================] - ETA: 0s - loss: 1.0661 - accuracy: 0.6100\n",
            "Epoch 15: val_accuracy did not improve from 0.78000\n",
            "\n",
            "Epoch 15: ReduceLROnPlateau reducing learning rate to 0.0005000000237487257.\n",
            "50/50 [==============================] - 85s 2s/step - loss: 1.0661 - accuracy: 0.6100 - val_loss: 1.2541 - val_accuracy: 0.6400 - lr: 0.0010\n",
            "Epoch 16/100\n",
            "50/50 [==============================] - ETA: 0s - loss: 0.8799 - accuracy: 0.6820\n",
            "Epoch 16: val_accuracy improved from 0.78000 to 0.80000, saving model to best_model12.h5\n",
            "50/50 [==============================] - 77s 2s/step - loss: 0.8799 - accuracy: 0.6820 - val_loss: 0.6123 - val_accuracy: 0.8000 - lr: 5.0000e-04\n",
            "Epoch 17/100\n",
            "50/50 [==============================] - ETA: 0s - loss: 0.8505 - accuracy: 0.7040\n",
            "Epoch 17: val_accuracy did not improve from 0.80000\n",
            "50/50 [==============================] - 77s 2s/step - loss: 0.8505 - accuracy: 0.7040 - val_loss: 0.7796 - val_accuracy: 0.7000 - lr: 5.0000e-04\n",
            "Epoch 18/100\n",
            "50/50 [==============================] - ETA: 0s - loss: 0.8642 - accuracy: 0.6740\n",
            "Epoch 18: val_accuracy did not improve from 0.80000\n",
            "50/50 [==============================] - 80s 2s/step - loss: 0.8642 - accuracy: 0.6740 - val_loss: 0.5998 - val_accuracy: 0.7600 - lr: 5.0000e-04\n",
            "Epoch 19/100\n",
            "50/50 [==============================] - ETA: 0s - loss: 0.8968 - accuracy: 0.6620\n",
            "Epoch 19: val_accuracy did not improve from 0.80000\n",
            "50/50 [==============================] - 77s 2s/step - loss: 0.8968 - accuracy: 0.6620 - val_loss: 0.4885 - val_accuracy: 0.8000 - lr: 5.0000e-04\n",
            "Epoch 20/100\n",
            "50/50 [==============================] - ETA: 0s - loss: 0.8367 - accuracy: 0.7020\n",
            "Epoch 20: val_accuracy did not improve from 0.80000\n",
            "50/50 [==============================] - 80s 2s/step - loss: 0.8367 - accuracy: 0.7020 - val_loss: 0.6964 - val_accuracy: 0.7400 - lr: 5.0000e-04\n",
            "Epoch 21/100\n",
            "50/50 [==============================] - ETA: 0s - loss: 0.7799 - accuracy: 0.7120\n",
            "Epoch 21: val_accuracy did not improve from 0.80000\n",
            "\n",
            "Epoch 21: ReduceLROnPlateau reducing learning rate to 0.0002500000118743628.\n",
            "50/50 [==============================] - 80s 2s/step - loss: 0.7799 - accuracy: 0.7120 - val_loss: 0.8377 - val_accuracy: 0.7200 - lr: 5.0000e-04\n",
            "Epoch 22/100\n",
            "50/50 [==============================] - ETA: 0s - loss: 0.7404 - accuracy: 0.7400\n",
            "Epoch 22: val_accuracy improved from 0.80000 to 0.82000, saving model to best_model12.h5\n",
            "50/50 [==============================] - 80s 2s/step - loss: 0.7404 - accuracy: 0.7400 - val_loss: 0.5670 - val_accuracy: 0.8200 - lr: 2.5000e-04\n",
            "Epoch 23/100\n",
            "50/50 [==============================] - ETA: 0s - loss: 0.7496 - accuracy: 0.7480\n",
            "Epoch 23: val_accuracy improved from 0.82000 to 0.88000, saving model to best_model12.h5\n",
            "50/50 [==============================] - 80s 2s/step - loss: 0.7496 - accuracy: 0.7480 - val_loss: 0.3910 - val_accuracy: 0.8800 - lr: 2.5000e-04\n",
            "Epoch 24/100\n",
            "50/50 [==============================] - ETA: 0s - loss: 0.8142 - accuracy: 0.6920\n",
            "Epoch 24: val_accuracy did not improve from 0.88000\n",
            "50/50 [==============================] - 77s 2s/step - loss: 0.8142 - accuracy: 0.6920 - val_loss: 0.6187 - val_accuracy: 0.7800 - lr: 2.5000e-04\n",
            "Epoch 25/100\n",
            "50/50 [==============================] - ETA: 0s - loss: 0.7679 - accuracy: 0.7360\n",
            "Epoch 25: val_accuracy did not improve from 0.88000\n",
            "50/50 [==============================] - 83s 2s/step - loss: 0.7679 - accuracy: 0.7360 - val_loss: 0.6446 - val_accuracy: 0.8000 - lr: 2.5000e-04\n",
            "Epoch 26/100\n",
            "50/50 [==============================] - ETA: 0s - loss: 0.7390 - accuracy: 0.7440\n",
            "Epoch 26: val_accuracy did not improve from 0.88000\n",
            "50/50 [==============================] - 77s 2s/step - loss: 0.7390 - accuracy: 0.7440 - val_loss: 0.5989 - val_accuracy: 0.8400 - lr: 2.5000e-04\n",
            "Epoch 27/100\n",
            "50/50 [==============================] - ETA: 0s - loss: 0.8149 - accuracy: 0.7140\n",
            "Epoch 27: val_accuracy did not improve from 0.88000\n",
            "50/50 [==============================] - 77s 2s/step - loss: 0.8149 - accuracy: 0.7140 - val_loss: 0.6177 - val_accuracy: 0.7800 - lr: 2.5000e-04\n",
            "Epoch 28/100\n",
            "50/50 [==============================] - ETA: 0s - loss: 0.7335 - accuracy: 0.7300\n",
            "Epoch 28: val_accuracy did not improve from 0.88000\n",
            "\n",
            "Epoch 28: ReduceLROnPlateau reducing learning rate to 0.0001250000059371814.\n",
            "50/50 [==============================] - 79s 2s/step - loss: 0.7335 - accuracy: 0.7300 - val_loss: 0.4924 - val_accuracy: 0.8800 - lr: 2.5000e-04\n",
            "Epoch 29/100\n",
            "50/50 [==============================] - ETA: 0s - loss: 0.7217 - accuracy: 0.7620\n",
            "Epoch 29: val_accuracy did not improve from 0.88000\n",
            "50/50 [==============================] - 78s 2s/step - loss: 0.7217 - accuracy: 0.7620 - val_loss: 0.3946 - val_accuracy: 0.8600 - lr: 1.2500e-04\n",
            "Epoch 30/100\n",
            "50/50 [==============================] - ETA: 0s - loss: 0.5888 - accuracy: 0.7780\n",
            "Epoch 30: val_accuracy did not improve from 0.88000\n",
            "50/50 [==============================] - 83s 2s/step - loss: 0.5888 - accuracy: 0.7780 - val_loss: 0.6210 - val_accuracy: 0.7800 - lr: 1.2500e-04\n",
            "Epoch 31/100\n",
            "50/50 [==============================] - ETA: 0s - loss: 0.7246 - accuracy: 0.7500\n",
            "Epoch 31: val_accuracy did not improve from 0.88000\n",
            "50/50 [==============================] - 77s 2s/step - loss: 0.7246 - accuracy: 0.7500 - val_loss: 0.3989 - val_accuracy: 0.8400 - lr: 1.2500e-04\n",
            "Epoch 32/100\n",
            "50/50 [==============================] - ETA: 0s - loss: 0.7177 - accuracy: 0.7420\n",
            "Epoch 32: val_accuracy did not improve from 0.88000\n",
            "50/50 [==============================] - 79s 2s/step - loss: 0.7177 - accuracy: 0.7420 - val_loss: 0.5714 - val_accuracy: 0.8400 - lr: 1.2500e-04\n",
            "Epoch 33/100\n",
            "50/50 [==============================] - ETA: 0s - loss: 0.6504 - accuracy: 0.7580\n",
            "Epoch 33: val_accuracy did not improve from 0.88000\n",
            "\n",
            "Epoch 33: ReduceLROnPlateau reducing learning rate to 6.25000029685907e-05.\n",
            "50/50 [==============================] - 82s 2s/step - loss: 0.6504 - accuracy: 0.7580 - val_loss: 0.4101 - val_accuracy: 0.8400 - lr: 1.2500e-04\n",
            "Epoch 34/100\n",
            "50/50 [==============================] - ETA: 0s - loss: 0.7239 - accuracy: 0.7580\n",
            "Epoch 34: val_accuracy did not improve from 0.88000\n",
            "50/50 [==============================] - 80s 2s/step - loss: 0.7239 - accuracy: 0.7580 - val_loss: 0.3928 - val_accuracy: 0.8400 - lr: 6.2500e-05\n",
            "Epoch 35/100\n",
            "50/50 [==============================] - ETA: 0s - loss: 0.6236 - accuracy: 0.7920\n",
            "Epoch 35: val_accuracy did not improve from 0.88000\n",
            "50/50 [==============================] - 85s 2s/step - loss: 0.6236 - accuracy: 0.7920 - val_loss: 0.8048 - val_accuracy: 0.7400 - lr: 6.2500e-05\n",
            "Epoch 36/100\n",
            "50/50 [==============================] - ETA: 0s - loss: 0.6632 - accuracy: 0.7620\n",
            "Epoch 36: val_accuracy did not improve from 0.88000\n",
            "50/50 [==============================] - 79s 2s/step - loss: 0.6632 - accuracy: 0.7620 - val_loss: 0.5291 - val_accuracy: 0.7600 - lr: 6.2500e-05\n",
            "Epoch 37/100\n",
            "50/50 [==============================] - ETA: 0s - loss: 0.7040 - accuracy: 0.7620\n",
            "Epoch 37: val_accuracy did not improve from 0.88000\n",
            "50/50 [==============================] - 82s 2s/step - loss: 0.7040 - accuracy: 0.7620 - val_loss: 0.5238 - val_accuracy: 0.8400 - lr: 6.2500e-05\n",
            "Epoch 38/100\n",
            "50/50 [==============================] - ETA: 0s - loss: 0.7374 - accuracy: 0.7220\n",
            "Epoch 38: val_accuracy did not improve from 0.88000\n",
            "\n",
            "Epoch 38: ReduceLROnPlateau reducing learning rate to 3.125000148429535e-05.\n",
            "50/50 [==============================] - 79s 2s/step - loss: 0.7374 - accuracy: 0.7220 - val_loss: 0.5111 - val_accuracy: 0.8200 - lr: 6.2500e-05\n",
            "Epoch 39/100\n",
            "50/50 [==============================] - ETA: 0s - loss: 0.6360 - accuracy: 0.7780\n",
            "Epoch 39: val_accuracy did not improve from 0.88000\n",
            "50/50 [==============================] - 81s 2s/step - loss: 0.6360 - accuracy: 0.7780 - val_loss: 0.3881 - val_accuracy: 0.8800 - lr: 3.1250e-05\n",
            "Epoch 40/100\n",
            "50/50 [==============================] - ETA: 0s - loss: 0.6865 - accuracy: 0.7620\n",
            "Epoch 40: val_accuracy did not improve from 0.88000\n",
            "50/50 [==============================] - 80s 2s/step - loss: 0.6865 - accuracy: 0.7620 - val_loss: 0.5231 - val_accuracy: 0.8600 - lr: 3.1250e-05\n",
            "Epoch 41/100\n",
            "50/50 [==============================] - ETA: 0s - loss: 0.6472 - accuracy: 0.7640\n",
            "Epoch 41: val_accuracy did not improve from 0.88000\n",
            "50/50 [==============================] - 83s 2s/step - loss: 0.6472 - accuracy: 0.7640 - val_loss: 0.5086 - val_accuracy: 0.8200 - lr: 3.1250e-05\n",
            "Epoch 42/100\n",
            "50/50 [==============================] - ETA: 0s - loss: 0.6306 - accuracy: 0.7740\n",
            "Epoch 42: val_accuracy did not improve from 0.88000\n",
            "50/50 [==============================] - 80s 2s/step - loss: 0.6306 - accuracy: 0.7740 - val_loss: 0.6365 - val_accuracy: 0.7800 - lr: 3.1250e-05\n",
            "Epoch 43/100\n",
            "50/50 [==============================] - ETA: 0s - loss: 0.6603 - accuracy: 0.7540\n",
            "Epoch 43: val_accuracy improved from 0.88000 to 0.90000, saving model to best_model12.h5\n",
            "50/50 [==============================] - 83s 2s/step - loss: 0.6603 - accuracy: 0.7540 - val_loss: 0.3795 - val_accuracy: 0.9000 - lr: 3.1250e-05\n",
            "Epoch 44/100\n",
            "50/50 [==============================] - ETA: 0s - loss: 0.6566 - accuracy: 0.7820\n",
            "Epoch 44: val_accuracy did not improve from 0.90000\n",
            "50/50 [==============================] - 81s 2s/step - loss: 0.6566 - accuracy: 0.7820 - val_loss: 0.5545 - val_accuracy: 0.8200 - lr: 3.1250e-05\n",
            "Epoch 45/100\n",
            "50/50 [==============================] - ETA: 0s - loss: 0.6949 - accuracy: 0.7860\n",
            "Epoch 45: val_accuracy did not improve from 0.90000\n",
            "50/50 [==============================] - 80s 2s/step - loss: 0.6949 - accuracy: 0.7860 - val_loss: 0.4123 - val_accuracy: 0.8200 - lr: 3.1250e-05\n",
            "Epoch 46/100\n",
            "50/50 [==============================] - ETA: 0s - loss: 0.7023 - accuracy: 0.7620\n",
            "Epoch 46: val_accuracy did not improve from 0.90000\n",
            "50/50 [==============================] - 82s 2s/step - loss: 0.7023 - accuracy: 0.7620 - val_loss: 0.5884 - val_accuracy: 0.7800 - lr: 3.1250e-05\n",
            "Epoch 47/100\n",
            "50/50 [==============================] - ETA: 0s - loss: 0.5292 - accuracy: 0.8040\n",
            "Epoch 47: val_accuracy did not improve from 0.90000\n",
            "50/50 [==============================] - 79s 2s/step - loss: 0.5292 - accuracy: 0.8040 - val_loss: 0.5906 - val_accuracy: 0.7800 - lr: 3.1250e-05\n",
            "Epoch 48/100\n",
            "50/50 [==============================] - ETA: 0s - loss: 0.6283 - accuracy: 0.7800\n",
            "Epoch 48: val_accuracy did not improve from 0.90000\n",
            "\n",
            "Epoch 48: ReduceLROnPlateau reducing learning rate to 1.5625000742147677e-05.\n",
            "50/50 [==============================] - 79s 2s/step - loss: 0.6283 - accuracy: 0.7800 - val_loss: 0.6038 - val_accuracy: 0.7800 - lr: 3.1250e-05\n",
            "Epoch 49/100\n",
            "50/50 [==============================] - ETA: 0s - loss: 0.5897 - accuracy: 0.7880\n",
            "Epoch 49: val_accuracy did not improve from 0.90000\n",
            "50/50 [==============================] - 80s 2s/step - loss: 0.5897 - accuracy: 0.7880 - val_loss: 0.4358 - val_accuracy: 0.8400 - lr: 1.5625e-05\n",
            "Epoch 50/100\n",
            "50/50 [==============================] - ETA: 0s - loss: 0.6253 - accuracy: 0.7800\n",
            "Epoch 50: val_accuracy did not improve from 0.90000\n",
            "50/50 [==============================] - 77s 2s/step - loss: 0.6253 - accuracy: 0.7800 - val_loss: 0.6376 - val_accuracy: 0.7200 - lr: 1.5625e-05\n",
            "Epoch 51/100\n",
            "50/50 [==============================] - ETA: 0s - loss: 0.6010 - accuracy: 0.7960\n",
            "Epoch 51: val_accuracy did not improve from 0.90000\n",
            "50/50 [==============================] - 82s 2s/step - loss: 0.6010 - accuracy: 0.7960 - val_loss: 0.5007 - val_accuracy: 0.8600 - lr: 1.5625e-05\n",
            "Epoch 52/100\n",
            "50/50 [==============================] - ETA: 0s - loss: 0.6467 - accuracy: 0.7840\n",
            "Epoch 52: val_accuracy did not improve from 0.90000\n",
            "50/50 [==============================] - 81s 2s/step - loss: 0.6467 - accuracy: 0.7840 - val_loss: 0.7026 - val_accuracy: 0.7600 - lr: 1.5625e-05\n",
            "Epoch 53/100\n",
            "50/50 [==============================] - ETA: 0s - loss: 0.5813 - accuracy: 0.7940\n",
            "Epoch 53: val_accuracy did not improve from 0.90000\n",
            "\n",
            "Epoch 53: ReduceLROnPlateau reducing learning rate to 1e-05.\n",
            "50/50 [==============================] - 78s 2s/step - loss: 0.5813 - accuracy: 0.7940 - val_loss: 0.5278 - val_accuracy: 0.8400 - lr: 1.5625e-05\n",
            "Epoch 54/100\n",
            "50/50 [==============================] - ETA: 0s - loss: 0.6154 - accuracy: 0.7660\n",
            "Epoch 54: val_accuracy did not improve from 0.90000\n",
            "50/50 [==============================] - 83s 2s/step - loss: 0.6154 - accuracy: 0.7660 - val_loss: 0.6561 - val_accuracy: 0.8000 - lr: 1.0000e-05\n",
            "Epoch 55/100\n",
            "50/50 [==============================] - ETA: 0s - loss: 0.6665 - accuracy: 0.7620\n",
            "Epoch 55: val_accuracy did not improve from 0.90000\n",
            "50/50 [==============================] - 79s 2s/step - loss: 0.6665 - accuracy: 0.7620 - val_loss: 0.3360 - val_accuracy: 0.9000 - lr: 1.0000e-05\n",
            "Epoch 56/100\n",
            "50/50 [==============================] - ETA: 0s - loss: 0.6144 - accuracy: 0.7560\n",
            "Epoch 56: val_accuracy improved from 0.90000 to 0.92000, saving model to best_model12.h5\n",
            "50/50 [==============================] - 81s 2s/step - loss: 0.6144 - accuracy: 0.7560 - val_loss: 0.3767 - val_accuracy: 0.9200 - lr: 1.0000e-05\n",
            "Epoch 57/100\n",
            "50/50 [==============================] - ETA: 0s - loss: 0.5890 - accuracy: 0.7940\n",
            "Epoch 57: val_accuracy did not improve from 0.92000\n",
            "50/50 [==============================] - 82s 2s/step - loss: 0.5890 - accuracy: 0.7940 - val_loss: 0.5276 - val_accuracy: 0.8800 - lr: 1.0000e-05\n",
            "Epoch 58/100\n",
            "50/50 [==============================] - ETA: 0s - loss: 0.5991 - accuracy: 0.8020\n",
            "Epoch 58: val_accuracy did not improve from 0.92000\n",
            "50/50 [==============================] - 81s 2s/step - loss: 0.5991 - accuracy: 0.8020 - val_loss: 0.4856 - val_accuracy: 0.8400 - lr: 1.0000e-05\n",
            "Epoch 59/100\n",
            "50/50 [==============================] - ETA: 0s - loss: 0.6201 - accuracy: 0.7880\n",
            "Epoch 59: val_accuracy did not improve from 0.92000\n",
            "50/50 [==============================] - 81s 2s/step - loss: 0.6201 - accuracy: 0.7880 - val_loss: 0.5299 - val_accuracy: 0.8000 - lr: 1.0000e-05\n",
            "Epoch 60/100\n",
            "50/50 [==============================] - ETA: 0s - loss: 0.5595 - accuracy: 0.8140\n",
            "Epoch 60: val_accuracy did not improve from 0.92000\n",
            "50/50 [==============================] - 79s 2s/step - loss: 0.5595 - accuracy: 0.8140 - val_loss: 0.3027 - val_accuracy: 0.9000 - lr: 1.0000e-05\n",
            "Epoch 61/100\n",
            "50/50 [==============================] - ETA: 0s - loss: 0.5938 - accuracy: 0.7680\n",
            "Epoch 61: val_accuracy did not improve from 0.92000\n",
            "50/50 [==============================] - 85s 2s/step - loss: 0.5938 - accuracy: 0.7680 - val_loss: 0.3790 - val_accuracy: 0.8800 - lr: 1.0000e-05\n",
            "Epoch 62/100\n",
            "50/50 [==============================] - ETA: 0s - loss: 0.6322 - accuracy: 0.7840\n",
            "Epoch 62: val_accuracy did not improve from 0.92000\n",
            "50/50 [==============================] - 78s 2s/step - loss: 0.6322 - accuracy: 0.7840 - val_loss: 0.6237 - val_accuracy: 0.7800 - lr: 1.0000e-05\n",
            "Epoch 63/100\n",
            "50/50 [==============================] - ETA: 0s - loss: 0.6347 - accuracy: 0.7760\n",
            "Epoch 63: val_accuracy did not improve from 0.92000\n",
            "50/50 [==============================] - 83s 2s/step - loss: 0.6347 - accuracy: 0.7760 - val_loss: 0.4668 - val_accuracy: 0.8000 - lr: 1.0000e-05\n",
            "Epoch 64/100\n",
            "50/50 [==============================] - ETA: 0s - loss: 0.5116 - accuracy: 0.8220\n",
            "Epoch 64: val_accuracy did not improve from 0.92000\n",
            "50/50 [==============================] - 77s 2s/step - loss: 0.5116 - accuracy: 0.8220 - val_loss: 0.4927 - val_accuracy: 0.8000 - lr: 1.0000e-05\n",
            "Epoch 65/100\n",
            "50/50 [==============================] - ETA: 0s - loss: 0.6375 - accuracy: 0.7780\n",
            "Epoch 65: val_accuracy did not improve from 0.92000\n",
            "50/50 [==============================] - 80s 2s/step - loss: 0.6375 - accuracy: 0.7780 - val_loss: 0.5175 - val_accuracy: 0.8200 - lr: 1.0000e-05\n",
            "Epoch 66/100\n",
            "50/50 [==============================] - ETA: 0s - loss: 0.5916 - accuracy: 0.7960\n",
            "Epoch 66: val_accuracy did not improve from 0.92000\n",
            "50/50 [==============================] - 82s 2s/step - loss: 0.5916 - accuracy: 0.7960 - val_loss: 0.3683 - val_accuracy: 0.8800 - lr: 1.0000e-05\n",
            "Epoch 67/100\n",
            "50/50 [==============================] - ETA: 0s - loss: 0.5863 - accuracy: 0.7860\n",
            "Epoch 67: val_accuracy did not improve from 0.92000\n",
            "50/50 [==============================] - 79s 2s/step - loss: 0.5863 - accuracy: 0.7860 - val_loss: 0.4307 - val_accuracy: 0.8600 - lr: 1.0000e-05\n",
            "Epoch 68/100\n",
            "50/50 [==============================] - ETA: 0s - loss: 0.6526 - accuracy: 0.7780\n",
            "Epoch 68: val_accuracy did not improve from 0.92000\n",
            "50/50 [==============================] - 78s 2s/step - loss: 0.6526 - accuracy: 0.7780 - val_loss: 0.5100 - val_accuracy: 0.8600 - lr: 1.0000e-05\n",
            "Epoch 69/100\n",
            "50/50 [==============================] - ETA: 0s - loss: 0.6402 - accuracy: 0.7780\n",
            "Epoch 69: val_accuracy did not improve from 0.92000\n",
            "50/50 [==============================] - 81s 2s/step - loss: 0.6402 - accuracy: 0.7780 - val_loss: 0.4166 - val_accuracy: 0.8800 - lr: 1.0000e-05\n",
            "Epoch 70/100\n",
            "50/50 [==============================] - ETA: 0s - loss: 0.5907 - accuracy: 0.7900\n",
            "Epoch 70: val_accuracy did not improve from 0.92000\n",
            "50/50 [==============================] - 80s 2s/step - loss: 0.5907 - accuracy: 0.7900 - val_loss: 0.6349 - val_accuracy: 0.8000 - lr: 1.0000e-05\n",
            "Epoch 71/100\n",
            "50/50 [==============================] - ETA: 0s - loss: 0.6379 - accuracy: 0.7620\n",
            "Epoch 71: val_accuracy did not improve from 0.92000\n",
            "50/50 [==============================] - 79s 2s/step - loss: 0.6379 - accuracy: 0.7620 - val_loss: 0.5458 - val_accuracy: 0.8200 - lr: 1.0000e-05\n",
            "Epoch 72/100\n",
            "50/50 [==============================] - ETA: 0s - loss: 0.6165 - accuracy: 0.7960\n",
            "Epoch 72: val_accuracy did not improve from 0.92000\n",
            "50/50 [==============================] - 81s 2s/step - loss: 0.6165 - accuracy: 0.7960 - val_loss: 0.4348 - val_accuracy: 0.8800 - lr: 1.0000e-05\n",
            "Epoch 73/100\n",
            "50/50 [==============================] - ETA: 0s - loss: 0.5856 - accuracy: 0.7840\n",
            "Epoch 73: val_accuracy did not improve from 0.92000\n",
            "50/50 [==============================] - 80s 2s/step - loss: 0.5856 - accuracy: 0.7840 - val_loss: 0.3601 - val_accuracy: 0.9000 - lr: 1.0000e-05\n",
            "Epoch 74/100\n",
            "50/50 [==============================] - ETA: 0s - loss: 0.6621 - accuracy: 0.7580\n",
            "Epoch 74: val_accuracy did not improve from 0.92000\n",
            "50/50 [==============================] - 77s 2s/step - loss: 0.6621 - accuracy: 0.7580 - val_loss: 0.3992 - val_accuracy: 0.9000 - lr: 1.0000e-05\n",
            "Epoch 75/100\n",
            "50/50 [==============================] - ETA: 0s - loss: 0.5789 - accuracy: 0.7820\n",
            "Epoch 75: val_accuracy did not improve from 0.92000\n",
            "50/50 [==============================] - 84s 2s/step - loss: 0.5789 - accuracy: 0.7820 - val_loss: 0.5165 - val_accuracy: 0.8000 - lr: 1.0000e-05\n",
            "Epoch 76/100\n",
            "50/50 [==============================] - ETA: 0s - loss: 0.6754 - accuracy: 0.7600\n",
            "Epoch 76: val_accuracy did not improve from 0.92000\n",
            "50/50 [==============================] - 78s 2s/step - loss: 0.6754 - accuracy: 0.7600 - val_loss: 0.3993 - val_accuracy: 0.8600 - lr: 1.0000e-05\n",
            "Epoch 76: early stopping\n"
          ]
        }
      ],
      "source": [
        "history = network.fit_generator(train_dataset,\n",
        "                                steps_per_epoch = 50,\n",
        "                                validation_data = validation_dataset,\n",
        "                                validation_steps = 50,\n",
        "                                epochs=100,\n",
        "                                callbacks=[es, model_cp, learning_rate_reduction])"
      ]
    },
    {
      "cell_type": "code",
      "execution_count": 20,
      "metadata": {
        "id": "4xXIb__YN8jO"
      },
      "outputs": [],
      "source": [
        "predictions=network.predict(test_datatset)\n",
        "predictions = np.argmax(predictions, axis=1)"
      ]
    },
    {
      "cell_type": "code",
      "execution_count": 21,
      "metadata": {
        "colab": {
          "base_uri": "https://localhost:8080/"
        },
        "id": "MfitKd4WOO0c",
        "outputId": "09b55ab5-4785-4b1b-eb68-f85f11f69349"
      },
      "outputs": [
        {
          "output_type": "execute_result",
          "data": {
            "text/plain": [
              "0.8431232091690545"
            ]
          },
          "metadata": {},
          "execution_count": 21
        }
      ],
      "source": [
        "from sklearn.metrics import accuracy_score\n",
        "accuracy_score(test_datatset.classes, predictions)"
      ]
    },
    {
      "cell_type": "code",
      "execution_count": 22,
      "metadata": {
        "colab": {
          "base_uri": "https://localhost:8080/",
          "height": 435
        },
        "id": "CwufQs6AOjVu",
        "outputId": "0df9c33d-31cc-4e92-8abe-13ec7ad6b1f9"
      },
      "outputs": [
        {
          "output_type": "display_data",
          "data": {
            "text/plain": [
              "<Figure size 640x480 with 2 Axes>"
            ],
            "image/png": "[encoded data removed]"
          },
          "metadata": {}
        }
      ],
      "source": [
        "from sklearn.metrics import confusion_matrix\n",
        "cm = confusion_matrix(test_datatset.classes, predictions)\n",
        "sns.heatmap(cm, annot=True);"
      ]
    },
    {
      "cell_type": "code",
      "execution_count": 23,
      "metadata": {
        "colab": {
          "base_uri": "https://localhost:8080/"
        },
        "id": "lfg484OCPGqq",
        "outputId": "f51c6771-ce84-4a2f-daa5-0f6ce7baaabc"
      },
      "outputs": [
        {
          "output_type": "stream",
          "name": "stdout",
          "text": [
            "              precision    recall  f1-score   support\n",
            "\n",
            "           0       0.91      0.96      0.93       198\n",
            "           1       0.98      1.00      0.99       200\n",
            "           2       0.73      0.85      0.78       200\n",
            "           3       0.75      0.51      0.61       199\n",
            "           4       0.83      0.93      0.88       200\n",
            "           5       0.78      0.79      0.79       199\n",
            "           6       0.92      0.85      0.89       200\n",
            "\n",
            "    accuracy                           0.84      1396\n",
            "   macro avg       0.84      0.84      0.84      1396\n",
            "weighted avg       0.84      0.84      0.84      1396\n",
            "\n"
          ]
        }
      ],
      "source": [
        "from sklearn.metrics import classification_report\n",
        "print(classification_report(test_datatset.classes, predictions))"
      ]
    },
    {
      "cell_type": "code",
      "execution_count": 24,
      "metadata": {
        "colab": {
          "base_uri": "https://localhost:8080/",
          "height": 472
        },
        "id": "AwBdQqe9Porm",
        "outputId": "7a1e0358-6ad1-426c-9fe9-05c1b4a16a67"
      },
      "outputs": [
        {
          "output_type": "display_data",
          "data": {
            "text/plain": [
              "<Figure size 640x480 with 1 Axes>"
            ],
            "image/png": "[encoded data removed]"
          },
          "metadata": {}
        }
      ],
      "source": [
        "plt.plot(history.history['accuracy'])\n",
        "plt.plot(history.history['val_accuracy'])\n",
        "plt.title('model accuracy')\n",
        "plt.ylabel('accuracy')\n",
        "plt.xlabel('epoch')\n",
        "plt.legend(['train', 'val'], loc='upper left')\n",
        "plt.show()"
      ]
    },
    {
      "cell_type": "code",
      "execution_count": 25,
      "metadata": {
        "colab": {
          "base_uri": "https://localhost:8080/",
          "height": 472
        },
        "id": "vVr7AUw8SNre",
        "outputId": "b3d806e3-5dbe-428c-ded1-0ba143ee3358"
      },
      "outputs": [
        {
          "output_type": "display_data",
          "data": {
            "text/plain": [
              "<Figure size 640x480 with 1 Axes>"
            ],
            "image/png": "[encoded data removed]"
          },
          "metadata": {}
        }
      ],
      "source": [
        "plt.plot(history.history['loss'])\n",
        "plt.plot(history.history['val_loss'])\n",
        "plt.title('model loss')\n",
        "plt.ylabel('loss')\n",
        "plt.xlabel('epoch')\n",
        "plt.legend(['train', 'val'], loc='upper left')\n",
        "plt.show()"
      ]
    },
    {
      "cell_type": "code",
      "execution_count": 26,
      "metadata": {
        "id": "pnmlR6M8gih2"
      },
      "outputs": [],
      "source": [
        "from tensorflow.keras.models import load_model\n",
        "model = load_model('/content/best_model12.h5')"
      ]
    },
    {
      "cell_type": "code",
      "execution_count": 27,
      "metadata": {
        "colab": {
          "base_uri": "https://localhost:8080/"
        },
        "id": "P5SUDIaUg8-G",
        "outputId": "3fbe042e-28d9-4d13-d1f0-67808e4301c3"
      },
      "outputs": [
        {
          "output_type": "stream",
          "name": "stdout",
          "text": [
            "1396/1396 [==============================] - 72s 51ms/step - loss: 0.4620 - accuracy: 0.8496\n"
          ]
        },
        {
          "output_type": "execute_result",
          "data": {
            "text/plain": [
              "[0.46195104718208313, 0.8495702147483826]"
            ]
          },
          "metadata": {},
          "execution_count": 27
        }
      ],
      "source": [
        "model.evaluate(test_datatset)"
      ]
    },
    {
      "cell_type": "code",
      "execution_count": 28,
      "metadata": {
        "colab": {
          "base_uri": "https://localhost:8080/",
          "height": 435
        },
        "id": "Zqq4ec2JhKgt",
        "outputId": "5d9f560d-c057-417f-fbbe-1a1706854af2"
      },
      "outputs": [
        {
          "output_type": "display_data",
          "data": {
            "text/plain": [
              "<Figure size 640x480 with 2 Axes>"
            ],
            "image/png": "[encoded data removed]"
          },
          "metadata": {}
        }
      ],
      "source": [
        "pred = model.predict(test_datatset)\n",
        "pred = np.argmax(pred, axis=1)\n",
        "cm = confusion_matrix(test_datatset.classes, pred)\n",
        "sns.heatmap(cm, annot=True);"
      ]
    },
    {
      "cell_type": "code",
      "execution_count": 29,
      "metadata": {
        "colab": {
          "base_uri": "https://localhost:8080/"
        },
        "id": "e2TSljdej81S",
        "outputId": "8cd2d219-d225-48bb-bb86-33c3564cf758"
      },
      "outputs": [
        {
          "output_type": "stream",
          "name": "stdout",
          "text": [
            "              precision    recall  f1-score   support\n",
            "\n",
            "           0       0.94      0.96      0.95       198\n",
            "           1       0.99      1.00      0.99       200\n",
            "           2       0.74      0.84      0.79       200\n",
            "           3       0.71      0.54      0.61       199\n",
            "           4       0.83      0.95      0.89       200\n",
            "           5       0.79      0.79      0.79       199\n",
            "           6       0.93      0.86      0.89       200\n",
            "\n",
            "    accuracy                           0.85      1396\n",
            "   macro avg       0.85      0.85      0.85      1396\n",
            "weighted avg       0.85      0.85      0.85      1396\n",
            "\n"
          ]
        }
      ],
      "source": [
        "print(classification_report(test_datatset.classes, pred))"
      ]
    },
    {
      "cell_type": "code",
      "execution_count": 30,
      "metadata": {
        "id": "jzbwiv0ikEVG"
      },
      "outputs": [],
      "source": [
        "network.save('network.h5')"
      ]
    },
    {
      "cell_type": "code",
      "execution_count": 31,
      "metadata": {
        "id": "mTxEZdsQtlC4"
      },
      "outputs": [],
      "source": [
        "net = load_model('/content/network.h5')"
      ]
    },
    {
      "cell_type": "code",
      "execution_count": 32,
      "metadata": {
        "colab": {
          "base_uri": "https://localhost:8080/"
        },
        "id": "JgEg6VxztpAx",
        "outputId": "abf31ec5-e5e3-4eb1-b2a5-13203b3a0b5c"
      },
      "outputs": [
        {
          "output_type": "stream",
          "name": "stdout",
          "text": [
            "1396/1396 [==============================] - 69s 49ms/step - loss: 0.4642 - accuracy: 0.8431\n"
          ]
        },
        {
          "output_type": "execute_result",
          "data": {
            "text/plain": [
              "[0.4642125964164734, 0.843123197555542]"
            ]
          },
          "metadata": {},
          "execution_count": 32
        }
      ],
      "source": [
        "net.evaluate(test_datatset)"
      ]
    },
    {
      "cell_type": "code",
      "execution_count": 33,
      "metadata": {
        "colab": {
          "base_uri": "https://localhost:8080/",
          "height": 435
        },
        "id": "6wbroQ7EvUvp",
        "outputId": "33a3ffe5-c436-4909-a2d6-7609d4a607a0"
      },
      "outputs": [
        {
          "output_type": "display_data",
          "data": {
            "text/plain": [
              "<Figure size 640x480 with 2 Axes>"
            ],
            "image/png": "[encoded data removed]"
          },
          "metadata": {}
        }
      ],
      "source": [
        "pre = net.predict(test_datatset)\n",
        "pre = np.argmax(pre, axis=1)\n",
        "cm = confusion_matrix(test_datatset.classes, pre)\n",
        "sns.heatmap(cm, annot=True);"
      ]
    },
    {
      "cell_type": "code",
      "execution_count": 34,
      "metadata": {
        "colab": {
          "base_uri": "https://localhost:8080/"
        },
        "id": "0c6L1deT_TAY",
        "outputId": "0f747a41-f43a-4b92-b10a-d4f21f23f2b9"
      },
      "outputs": [
        {
          "output_type": "stream",
          "name": "stdout",
          "text": [
            "              precision    recall  f1-score   support\n",
            "\n",
            "           0       0.94      0.96      0.95       198\n",
            "           1       0.99      1.00      0.99       200\n",
            "           2       0.74      0.84      0.79       200\n",
            "           3       0.71      0.54      0.61       199\n",
            "           4       0.83      0.95      0.89       200\n",
            "           5       0.79      0.79      0.79       199\n",
            "           6       0.93      0.86      0.89       200\n",
            "\n",
            "    accuracy                           0.85      1396\n",
            "   macro avg       0.85      0.85      0.85      1396\n",
            "weighted avg       0.85      0.85      0.85      1396\n",
            "\n"
          ]
        }
      ],
      "source": [
        "print(classification_report(test_datatset.classes, pred))"
      ]
    }
  ],
  "metadata": {
    "colab": {
      "provenance": [],
      "include_colab_link": true
    },
    "kernelspec": {
      "display_name": "Python 3",
      "name": "python3"
    },
    "language_info": {
      "name": "python"
    }
  },
  "nbformat": 4,
  "nbformat_minor": 0
}